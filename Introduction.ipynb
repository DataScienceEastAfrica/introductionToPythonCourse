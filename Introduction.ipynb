{
  "nbformat": 4,
  "nbformat_minor": 0,
  "metadata": {
    "colab": {
      "name": "Introduction.ipynb",
      "provenance": [],
      "collapsed_sections": [],
      "authorship_tag": "ABX9TyOvIpKpB5OzK9KG6XripCPp",
      "include_colab_link": true
    },
    "kernelspec": {
      "name": "python3",
      "display_name": "Python 3"
    }
  },
  "cells": [
    {
      "cell_type": "markdown",
      "metadata": {
        "id": "view-in-github",
        "colab_type": "text"
      },
      "source": [
        "<a href=\"https://colab.research.google.com/github/DataScienceEastAfrica/introductionToPythonCourse/blob/master/Introduction.ipynb\" target=\"_parent\"><img src=\"https://colab.research.google.com/assets/colab-badge.svg\" alt=\"Open In Colab\"/></a>"
      ]
    },
    {
      "cell_type": "markdown",
      "metadata": {
        "id": "G7ckt36XdJC5",
        "colab_type": "text"
      },
      "source": [
        "This course has borrowed from other resources and tries to make your learning as smoooth as possible:\n",
        "\n",
        "Course outline\n",
        "\n",
        "\n",
        "## **Introduction**\n",
        "a) Getting started\n",
        "\n",
        "b) Syntax\n",
        "\n",
        "c) Comments\n",
        "\n",
        "d) Variables\n",
        "\n",
        "## **Data Types**\n",
        "\n",
        "e) Data Types\n",
        "\n",
        "f) Numbers\n",
        "\n",
        "g) strings\n",
        "\n",
        "h) casting\n",
        "\n",
        "i) Booleans \n",
        "\n",
        "j) operators\n",
        "\n",
        "\n",
        "## **Data structures**\n",
        "\n",
        "k) List\n",
        "\n",
        "l) Tuples\n",
        "\n",
        "m) Sets\n",
        "\n",
        "n) Dictionaries\n",
        "\n",
        "## **Control flow tools/Loops**\n",
        "\n",
        "o) If....Else\n",
        "\n",
        "p) While Loops\n",
        "\n",
        "q) For Loops\n",
        "\n",
        "## **Functions**\n",
        "\n",
        "r) Functions\n",
        "\n",
        "s) Lambda\n",
        "\n",
        "\n"
      ]
    },
    {
      "cell_type": "markdown",
      "metadata": {
        "id": "UJuv3ItGdQ2x",
        "colab_type": "text"
      },
      "source": [
        "# **Introduction to Python**\n",
        "\n",
        "Python is a popular programming language. It was created by **Guido van Rossum**, and released in 1991.\n",
        "\n",
        "### **It is used for**:\n",
        "\n",
        "    web development (server-side),\n",
        "    software development,\n",
        "    mathematics,\n",
        "    system scripting.\n",
        "\n",
        "###**What can Python do?**\n",
        "\n",
        "    Python can be used on a server to create web applications.\n",
        "    Python can be used alongside software to create workflows.\n",
        "    Python can connect to database systems. It can also read and modify files.\n",
        "    Python can be used to handle big data and perform complex mathematics.\n",
        "    Python can be used for rapid prototyping, or for production-ready software development.\n",
        "\n",
        "###**Why Python?**\n",
        "\n",
        "    Python works on different platforms (Windows, Mac, Linux, Raspberry Pi, etc).\n",
        "    Python has a simple syntax similar to the English language.\n",
        "    Python has syntax that allows developers to write programs with fewer lines than some other programming languages.\n",
        "    Python runs on an interpreter system, meaning that code can be executed as soon as it is written. This means that prototyping can be very quick.\n",
        "    Python can be treated in a procedural way, an object-orientated way or a functional way.\n",
        "\n",
        "###**Good to know**\n",
        "\n",
        "    The most recent major version of Python is Python 3, which we shall be using in this tutorial. However, Python 2, although not being updated with anything other than security updates, is still quite popular.\n",
        "    In this tutorial Python will be written in a text editor. It is possible to write Python in an Integrated Development Environment, such as Thonny, Pycharm, Netbeans or Eclipse which are particularly useful when managing larger collections of Python files.\n",
        "\n",
        "###**Python Syntax compared to other programming languages**\n",
        "\n",
        "    Python was designed for readability, and has some similarities to the English language with influence from mathematics.\n",
        "    Python uses new lines to complete a command, as opposed to other programming languages which often use semicolons or parentheses.\n",
        "    Python relies on indentation, using whitespace, to define scope; such as the scope of loops, functions and classes. Other programming languages often use curly-brackets for this purpose.\n"
      ]
    },
    {
      "cell_type": "markdown",
      "metadata": {
        "id": "Uh_hCNm6dXRl",
        "colab_type": "text"
      },
      "source": [
        "# a) **Getting started**\n",
        "\n",
        "Make sure that Python is installed in ur system.\n",
        "\n",
        "\n",
        "    python --version \n",
        "\n",
        "if you do not have python installed on your computer you can download it by going to:\n",
        "    \n",
        ">  https://www.python.org/\n",
        "\n",
        "make sure that you have python 3 installed we will you it throught this course.(python is free)\n"
      ]
    },
    {
      "cell_type": "markdown",
      "metadata": {
        "id": "M1Kx6IuUdc6B",
        "colab_type": "text"
      },
      "source": [
        "Write your first code its really easy go to ur terminal if you are in linux or Bash if you are in windows and type: \n",
        "\n",
        "```\n",
        "python \n",
        "```\n",
        "\n",
        "```\n",
        "david@david-Inspiron:~/Desktop/datascience$ python\n",
        "\n",
        "Python 2.7.17 (default, Jul 20 2020, 15:37:01) \n",
        "[GCC 7.5.0] on linux2\n",
        "Type \"help\", \"copyright\", \"credits\" or \"license\" for more information.\n",
        ">>> print(\"Hello, World!\")\n",
        "Hello, World! \n",
        "```\n",
        "\n",
        "```\n",
        "exit() \n",
        "```\n",
        "or ctrl+z\n",
        "\n",
        "\n"
      ]
    },
    {
      "cell_type": "code",
      "metadata": {
        "id": "2psdXffmdhB3",
        "colab_type": "code",
        "colab": {}
      },
      "source": [
        " print(\"Hello, World!\") "
      ],
      "execution_count": null,
      "outputs": []
    },
    {
      "cell_type": "code",
      "metadata": {
        "id": "c39xOXYmdkzY",
        "colab_type": "code",
        "colab": {}
      },
      "source": [
        "#you can create a python file using the .py file extension, and running it in the Command Line:"
      ],
      "execution_count": null,
      "outputs": []
    },
    {
      "cell_type": "markdown",
      "metadata": {
        "id": "sn73WNihdoVF",
        "colab_type": "text"
      },
      "source": [
        "\n",
        "\n",
        "```\n",
        "C:\\Users\\Your Name>python myfile.py \n",
        "```\n",
        "\n"
      ]
    },
    {
      "cell_type": "markdown",
      "metadata": {
        "id": "b5gQq4hBdsbN",
        "colab_type": "text"
      },
      "source": [
        "# b) **Syntax**\n",
        "\n",
        "## **Indentation**\n",
        "\n",
        "```\n",
        "Indentation refers to the spaces at the beginning of a code line.\n",
        "Where in other programming languages the indentation in code is for readability only, the indentation in Python is very important.\n",
        "Python uses indentation to indicate a block of code.\n",
        "```\n"
      ]
    },
    {
      "cell_type": "code",
      "metadata": {
        "id": "gYvxwJ2gdwt3",
        "colab_type": "code",
        "colab": {}
      },
      "source": [
        "if 10 > 1:\n",
        "  print(\"Ten is greater than one!\")"
      ],
      "execution_count": null,
      "outputs": []
    },
    {
      "cell_type": "markdown",
      "metadata": {
        "id": "Ck_CQ5o-d0-_",
        "colab_type": "text"
      },
      "source": [
        "\n",
        "\n",
        "```\n",
        "Python will give you an error if you skip the indentation:\n",
        "```\n",
        "\n"
      ]
    },
    {
      "cell_type": "code",
      "metadata": {
        "id": "g7HVu6u2d7lU",
        "colab_type": "code",
        "colab": {}
      },
      "source": [
        "if 5 > 2:\n",
        "print(\"Five is greater than two!\")"
      ],
      "execution_count": null,
      "outputs": []
    },
    {
      "cell_type": "markdown",
      "metadata": {
        "id": "kbOstaTFeBUF",
        "colab_type": "text"
      },
      "source": [
        "## **Variables**\n",
        "\n",
        "*In Python, variables are created when you assign a value to it*:\n",
        "\n",
        "\n"
      ]
    },
    {
      "cell_type": "code",
      "metadata": {
        "id": "RKaY08OmeFc6",
        "colab_type": "code",
        "colab": {}
      },
      "source": [
        "x = 5\n",
        "y = \"Hello, World!\""
      ],
      "execution_count": null,
      "outputs": []
    },
    {
      "cell_type": "code",
      "metadata": {
        "id": "UQ-Y45C0eI9f",
        "colab_type": "code",
        "colab": {}
      },
      "source": [
        "print(x)"
      ],
      "execution_count": null,
      "outputs": []
    },
    {
      "cell_type": "code",
      "metadata": {
        "id": "G8s0Z9laeL6M",
        "colab_type": "code",
        "colab": {}
      },
      "source": [
        "print(y)"
      ],
      "execution_count": null,
      "outputs": []
    },
    {
      "cell_type": "markdown",
      "metadata": {
        "id": "Y35x-kgEeQlC",
        "colab_type": "text"
      },
      "source": [
        "\n",
        "\n",
        "\n",
        "\n",
        "## **Comments**\n",
        "\n",
        "\n",
        "*Python has commenting capability for the purpose of in-code documentation*.\n",
        "\n",
        "*Comments start with a #, and Python will render the rest of the line as a comment*: \n",
        "\n",
        "\n",
        "\n"
      ]
    },
    {
      "cell_type": "code",
      "metadata": {
        "id": "PrV4MNGEebos",
        "colab_type": "code",
        "colab": {}
      },
      "source": [
        "#This is a comment.\n",
        "print(\"Hello, World!\")"
      ],
      "execution_count": null,
      "outputs": []
    },
    {
      "cell_type": "markdown",
      "metadata": {
        "id": "aamH3lpxeVVg",
        "colab_type": "text"
      },
      "source": [
        "#  **c) Comments**\n",
        "\n",
        "```\n",
        "Comments can be used to explain Python code.\n",
        "\n",
        "Comments can be used to make the code more readable.\n",
        "\n",
        "Comments can be used to prevent execution when testing code.\n",
        "```\n",
        "\n",
        "## **Creating a Comment**\n",
        "\n",
        "*Comments starts with a #, and Python will ignore them:*\n",
        "\n"
      ]
    },
    {
      "cell_type": "code",
      "metadata": {
        "id": "sK7ADhC2en9B",
        "colab_type": "code",
        "colab": {}
      },
      "source": [
        "#This is a comment\n",
        "print(\"Hello, World!\")"
      ],
      "execution_count": null,
      "outputs": []
    },
    {
      "cell_type": "code",
      "metadata": {
        "id": "nuxENPB4esRt",
        "colab_type": "code",
        "colab": {}
      },
      "source": [
        "#Comments can be placed at the end of a line, and Python will ignore the rest of the line:*"
      ],
      "execution_count": null,
      "outputs": []
    },
    {
      "cell_type": "code",
      "metadata": {
        "id": "iNDgh834evrX",
        "colab_type": "code",
        "colab": {}
      },
      "source": [
        " print(\"Hello, World!\") #This is a comment "
      ],
      "execution_count": null,
      "outputs": []
    },
    {
      "cell_type": "markdown",
      "metadata": {
        "id": "gepNSDG7e2wP",
        "colab_type": "text"
      },
      "source": [
        "### **Comments can also be used to prevent Python from executing code:**"
      ]
    },
    {
      "cell_type": "code",
      "metadata": {
        "id": "WoozB7ORe-NV",
        "colab_type": "code",
        "colab": {}
      },
      "source": [
        "#print(\"Hello, World!\")\n",
        "print(\"Hello, there !\") "
      ],
      "execution_count": null,
      "outputs": []
    },
    {
      "cell_type": "markdown",
      "metadata": {
        "id": "P5XP50cvfCxt",
        "colab_type": "text"
      },
      "source": [
        "### **Multi Line Comments**\n",
        "\n",
        "*Python does not really have a syntax for multi line comments*.\n",
        "\n",
        "*To add a multiline comment you could insert a # for each line:*"
      ]
    },
    {
      "cell_type": "code",
      "metadata": {
        "id": "4BWIbXkFfG4v",
        "colab_type": "code",
        "colab": {}
      },
      "source": [
        "#This is a comment\n",
        "#written in\n",
        "#more than just one line\n",
        "print(\"Hello, World!\")"
      ],
      "execution_count": null,
      "outputs": []
    },
    {
      "cell_type": "markdown",
      "metadata": {
        "id": "ryHNF79efLnL",
        "colab_type": "text"
      },
      "source": [
        "### **Or you can use a multiline string.**\n",
        "\n",
        "**Since Python will ignore string literals that are not assigned to a variable**, *you can add a multiline string (triple quotes) in your code, and place your comment inside it*:"
      ]
    },
    {
      "cell_type": "code",
      "metadata": {
        "id": "740-lCt8fRY2",
        "colab_type": "code",
        "colab": {}
      },
      "source": [
        "\"\"\"\n",
        "This is a comment\n",
        "written in\n",
        "more than just one line\n",
        "\"\"\"\n",
        "print(\"Hello, World!\") "
      ],
      "execution_count": null,
      "outputs": []
    },
    {
      "cell_type": "markdown",
      "metadata": {
        "id": "E333ssEcfVo8",
        "colab_type": "text"
      },
      "source": [
        "# d)  **Variables**\n",
        "\n",
        "## **Creating Variables**\n",
        "\n",
        "**Variables are containers for storing data values.**\n",
        "*Unlike other programming languages, **Python has no command for declaring a variable**.*\n",
        "*A variable is created the moment you first assign a value to it.*"
      ]
    },
    {
      "cell_type": "code",
      "metadata": {
        "id": "LdsN1k-ufZxt",
        "colab_type": "code",
        "colab": {}
      },
      "source": [
        "x = 5\n",
        "y = \"Kinyua\"\n",
        "print(x)\n",
        "print(y)"
      ],
      "execution_count": null,
      "outputs": []
    },
    {
      "cell_type": "markdown",
      "metadata": {
        "id": "UXGV5gAlfeZa",
        "colab_type": "text"
      },
      "source": [
        "### **Variables do not need to be declared with any particular type and can even change type after they have been set.** **bold text**"
      ]
    },
    {
      "cell_type": "code",
      "metadata": {
        "id": "rJR5e0GMflOB",
        "colab_type": "code",
        "colab": {}
      },
      "source": [
        "x = 4 # x is of type int\n",
        "x = \"Joan\" # x is now of type str\n",
        "print(x)"
      ],
      "execution_count": null,
      "outputs": []
    },
    {
      "cell_type": "markdown",
      "metadata": {
        "id": "HQoR4VZMfqhs",
        "colab_type": "text"
      },
      "source": [
        "### **String variables can be declared either by using single or double quotes:**"
      ]
    },
    {
      "cell_type": "code",
      "metadata": {
        "id": "3PNx_tDxfuoJ",
        "colab_type": "code",
        "colab": {}
      },
      "source": [
        "x = \"David\"\n",
        "# is the same as\n",
        "x = 'Kmani'"
      ],
      "execution_count": null,
      "outputs": []
    },
    {
      "cell_type": "markdown",
      "metadata": {
        "id": "396lsvkRgTtK",
        "colab_type": "text"
      },
      "source": [
        "### **Variable Names**\n",
        "\n",
        "### **A variable can have a short name (like x and y) or a more descriptive name (age, carname, total_volume)**.\n",
        "\n",
        "### **Rules for Python variables**:\n",
        "\n",
        "    1.A variable name must start with a letter or the underscore character\n",
        "    2.A variable name cannot start with a number\n",
        "    3.A variable name can only contain alpha-numeric characters and underscores (A-z, 0-9, and _ )\n",
        "    4.Variable names are case-sensitive (age, Age and AGE are three different variables)\n"
      ]
    },
    {
      "cell_type": "code",
      "metadata": {
        "id": "WW0ZpUgpgY-t",
        "colab_type": "code",
        "colab": {}
      },
      "source": [
        "#Legal variable names:\n",
        "myvar = \"John\"\n",
        "my_var = \"John\"\n",
        "_my_var = \"John\"\n",
        "myVar = \"John\"\n",
        "MYVAR = \"John\"\n",
        "myvar2 = \"John\"\n",
        "\n",
        "#Illegal variable names:\n",
        "#2myvar = \"John\"\n",
        "#my-var = \"John\"\n",
        "#my var = \"John\""
      ],
      "execution_count": null,
      "outputs": []
    },
    {
      "cell_type": "markdown",
      "metadata": {
        "id": "YoKqCWzggdWA",
        "colab_type": "text"
      },
      "source": [
        "### **Assign Value to Multiple Variables**"
      ]
    },
    {
      "cell_type": "code",
      "metadata": {
        "id": "dxcQnUI3ggwT",
        "colab_type": "code",
        "colab": {}
      },
      "source": [
        "x, y, z = \"Nairobi\", \"Mombasa\", \"Kisumu\"\n",
        "print(x)\n",
        "print(y)\n",
        "print(z)"
      ],
      "execution_count": null,
      "outputs": []
    },
    {
      "cell_type": "markdown",
      "metadata": {
        "id": "Xg6qLjxXgoCN",
        "colab_type": "text"
      },
      "source": [
        "### **You can also assign the same value to multiple variables in one line:**"
      ]
    },
    {
      "cell_type": "code",
      "metadata": {
        "id": "JnjVeb0Wgs6E",
        "colab_type": "code",
        "colab": {}
      },
      "source": [
        " x = y = z = \"Orange\"\n",
        "print(x)\n",
        "print(y)\n",
        "print(z)"
      ],
      "execution_count": null,
      "outputs": []
    },
    {
      "cell_type": "markdown",
      "metadata": {
        "id": "0c0Xni64gzWT",
        "colab_type": "text"
      },
      "source": [
        "\n",
        "\n",
        "### **Output Variables**\n",
        "\n",
        "*The Python print statement is often used to output variables.*"
      ]
    },
    {
      "cell_type": "code",
      "metadata": {
        "id": "hvTJxH7gg5o5",
        "colab_type": "code",
        "colab": {}
      },
      "source": [
        "x = \"Cool\"\n",
        "print(\"Lux academy is \" + x)"
      ],
      "execution_count": null,
      "outputs": []
    },
    {
      "cell_type": "markdown",
      "metadata": {
        "id": "R-doB-h6g-QL",
        "colab_type": "text"
      },
      "source": [
        "### **To combine both text and a variable, Python uses the + character:**\n",
        "\n",
        "### **You can also use the + character to add a variable to another variable:**"
      ]
    },
    {
      "cell_type": "code",
      "metadata": {
        "id": "3zuf8QTohCDQ",
        "colab_type": "code",
        "colab": {}
      },
      "source": [
        "x = \"Nairobi is \"\n",
        "y = \"the capital city of kenya\"\n",
        "z =  x + y\n",
        "print(z)"
      ],
      "execution_count": null,
      "outputs": []
    },
    {
      "cell_type": "markdown",
      "metadata": {
        "id": "7ikCPYvuhGjU",
        "colab_type": "text"
      },
      "source": [
        "### **For numbers, the + character works as a mathematical operator:**"
      ]
    },
    {
      "cell_type": "code",
      "metadata": {
        "id": "_ajXyu54hVPZ",
        "colab_type": "code",
        "colab": {}
      },
      "source": [
        "x = 100\n",
        "y = 465\n",
        "print(x + y)"
      ],
      "execution_count": null,
      "outputs": []
    },
    {
      "cell_type": "markdown",
      "metadata": {
        "id": "jopil3Udha-J",
        "colab_type": "text"
      },
      "source": [
        "### **If you try to combine a string and a number, Python will give you an error:** "
      ]
    },
    {
      "cell_type": "code",
      "metadata": {
        "id": "TYrOvcZxhe7g",
        "colab_type": "code",
        "colab": {}
      },
      "source": [
        "x = 20\n",
        "y = \"David\"\n",
        "print(x + y)"
      ],
      "execution_count": null,
      "outputs": []
    },
    {
      "cell_type": "markdown",
      "metadata": {
        "id": "RoQphJJAhjgp",
        "colab_type": "text"
      },
      "source": [
        "## **Global Variables**\n",
        "\n",
        "**Variables that are created outside of a function (as in all of the examples above) are known as global variables.** "
      ]
    },
    {
      "cell_type": "markdown",
      "metadata": {
        "id": "ADCZ6m2ghoGG",
        "colab_type": "text"
      },
      "source": [
        "**Global variables can be used by everyone, both inside of functions and outside.**"
      ]
    },
    {
      "cell_type": "code",
      "metadata": {
        "id": "Uqq4iSxGhr78",
        "colab_type": "code",
        "colab": {}
      },
      "source": [
        "#Create a variable outside of a function, and use it inside the function\n",
        "\n",
        "x = \"Cool\"\n",
        "\n",
        "def myfunc():\n",
        "  print(\"Lux academy is \" + x)\n",
        "\n",
        "myfunc() "
      ],
      "execution_count": null,
      "outputs": []
    },
    {
      "cell_type": "markdown",
      "metadata": {
        "id": "m6Y4Om0chyy9",
        "colab_type": "text"
      },
      "source": [
        "\n",
        "\n",
        "**If you create a variable with the same name inside a function, this variable will be local, and can only be used inside the function. The global variable with the same name will remain as it was, global and with the original value.** "
      ]
    },
    {
      "cell_type": "code",
      "metadata": {
        "id": "bgbACpsyh54c",
        "colab_type": "code",
        "colab": {}
      },
      "source": [
        "#Create a variable inside a function, with the same name as the global variable\n",
        "x = \"awesome\"\n",
        "\n",
        "def myfunc():\n",
        "  x = \"fantastic\"\n",
        "  print(\"Lux academy is \" + x)\n",
        "\n",
        "myfunc()\n",
        "\n",
        "print(\"Lux academy is \" + x) "
      ],
      "execution_count": null,
      "outputs": []
    },
    {
      "cell_type": "markdown",
      "metadata": {
        "id": "84UqMp3yh909",
        "colab_type": "text"
      },
      "source": [
        "## **The global Keyword**\n",
        "\n",
        "**Normally, when you create a variable inside a function, that variable is local, and can only be used inside that function.**\n",
        "\n",
        "**To create a global variable inside a function, you can use the global keyword.** **bold text**"
      ]
    },
    {
      "cell_type": "code",
      "metadata": {
        "id": "1NfREi_1iCTW",
        "colab_type": "code",
        "colab": {}
      },
      "source": [
        "#When the global keyword is used, the variable belongs to the global scope:\n",
        "\n",
        "def myfunc():\n",
        "  global x\n",
        "  x = \"fantastic\"\n",
        "\n",
        "myfunc()\n",
        "\n",
        "print(\"Lux academy is \" + x) "
      ],
      "execution_count": null,
      "outputs": []
    },
    {
      "cell_type": "markdown",
      "metadata": {
        "id": "nalkQNgqiGsp",
        "colab_type": "text"
      },
      "source": [
        "**Also, use the global keyword if you want to change a global variable inside a function.**"
      ]
    },
    {
      "cell_type": "code",
      "metadata": {
        "id": "MMzxq2xpiLR1",
        "colab_type": "code",
        "colab": {}
      },
      "source": [
        "x = \"awesome\"\n",
        "\n",
        "def myfunc():\n",
        "  global x\n",
        "  x = \"fantastic\"\n",
        "\n",
        "myfunc()\n",
        "\n",
        "print(\"Lux academy is \" + x) "
      ],
      "execution_count": null,
      "outputs": []
    }
  ]
}