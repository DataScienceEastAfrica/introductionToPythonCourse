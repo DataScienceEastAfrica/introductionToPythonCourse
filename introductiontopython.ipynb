{
  "nbformat": 4,
  "nbformat_minor": 0,
  "metadata": {
    "colab": {
      "name": "introductiontopython.ipynb",
      "provenance": [],
      "collapsed_sections": [],
      "authorship_tag": "ABX9TyP9mCiyKiOyX66NjmWrGFJE",
      "include_colab_link": true
    },
    "kernelspec": {
      "name": "python3",
      "display_name": "Python 3"
    }
  },
  "cells": [
    {
      "cell_type": "markdown",
      "metadata": {
        "id": "view-in-github",
        "colab_type": "text"
      },
      "source": [
        "<a href=\"https://colab.research.google.com/github/DataScienceEastAfrica/introductionToPythonCourse/blob/master/introductiontopython.ipynb\" target=\"_parent\"><img src=\"https://colab.research.google.com/assets/colab-badge.svg\" alt=\"Open In Colab\"/></a>"
      ]
    },
    {
      "cell_type": "markdown",
      "metadata": {
        "id": "_r4gEpa709fl",
        "colab_type": "text"
      },
      "source": [
        "This course has borrowed from other resources and tries to make your learning as smoooth as possible:\n",
        "\n",
        "Course outline\n",
        "\n",
        "\n",
        "## **Introduction**\n",
        "a) Getting started\n",
        "\n",
        "b) Syntax\n",
        "\n",
        "c) Comments\n",
        "\n",
        "d) Variables\n",
        "\n",
        "## **Data Types**\n",
        "\n",
        "e) Data Types\n",
        "\n",
        "f) Numbers\n",
        "\n",
        "g) strings\n",
        "\n",
        "h) casting\n",
        "\n",
        "i) Booleans \n",
        "\n",
        "j) operators\n",
        "\n",
        "\n",
        "## **Data structures**\n",
        "\n",
        "k) List\n",
        "\n",
        "l) Tuples\n",
        "\n",
        "m) Sets\n",
        "\n",
        "n) Dictionaries\n",
        "\n",
        "## **Control flow tools/Loops**\n",
        "\n",
        "o) If....Else\n",
        "\n",
        "p) While Loops\n",
        "\n",
        "q) For Loops\n",
        "\n",
        "## **Functions**\n",
        "\n",
        "r) Functions\n",
        "\n",
        "s) Lambda\n",
        "\n",
        "\n"
      ]
    },
    {
      "cell_type": "markdown",
      "metadata": {
        "id": "YqNs_7G74aXl",
        "colab_type": "text"
      },
      "source": [
        "# **Introduction to Python**\n",
        "\n",
        "Python is a popular programming language. It was created by **Guido van Rossum**, and released in 1991.\n",
        "\n",
        "### **It is used for**:\n",
        "\n",
        "    web development (server-side),\n",
        "    software development,\n",
        "    mathematics,\n",
        "    system scripting.\n",
        "\n",
        "###**What can Python do?**\n",
        "\n",
        "    Python can be used on a server to create web applications.\n",
        "    Python can be used alongside software to create workflows.\n",
        "    Python can connect to database systems. It can also read and modify files.\n",
        "    Python can be used to handle big data and perform complex mathematics.\n",
        "    Python can be used for rapid prototyping, or for production-ready software development.\n",
        "\n",
        "###**Why Python?**\n",
        "\n",
        "    Python works on different platforms (Windows, Mac, Linux, Raspberry Pi, etc).\n",
        "    Python has a simple syntax similar to the English language.\n",
        "    Python has syntax that allows developers to write programs with fewer lines than some other programming languages.\n",
        "    Python runs on an interpreter system, meaning that code can be executed as soon as it is written. This means that prototyping can be very quick.\n",
        "    Python can be treated in a procedural way, an object-orientated way or a functional way.\n",
        "\n",
        "###**Good to know**\n",
        "\n",
        "    The most recent major version of Python is Python 3, which we shall be using in this tutorial. However, Python 2, although not being updated with anything other than security updates, is still quite popular.\n",
        "    In this tutorial Python will be written in a text editor. It is possible to write Python in an Integrated Development Environment, such as Thonny, Pycharm, Netbeans or Eclipse which are particularly useful when managing larger collections of Python files.\n",
        "\n",
        "###**Python Syntax compared to other programming languages**\n",
        "\n",
        "    Python was designed for readability, and has some similarities to the English language with influence from mathematics.\n",
        "    Python uses new lines to complete a command, as opposed to other programming languages which often use semicolons or parentheses.\n",
        "    Python relies on indentation, using whitespace, to define scope; such as the scope of loops, functions and classes. Other programming languages often use curly-brackets for this purpose.\n"
      ]
    },
    {
      "cell_type": "markdown",
      "metadata": {
        "id": "oEGd0HgG5I_c",
        "colab_type": "text"
      },
      "source": [
        "# a) **Getting started**\n",
        "\n",
        "Make sure that Python is installed in ur system.\n",
        "\n",
        "\n",
        "    python --version \n",
        "\n",
        "if you do not have python installed on your computer you can download it by going to:\n",
        "    \n",
        ">  https://www.python.org/\n",
        "\n",
        "make sure that you have python 3 installed we will you it throught this course.(python is free)\n"
      ]
    },
    {
      "cell_type": "markdown",
      "metadata": {
        "id": "PymCUYo380ct",
        "colab_type": "text"
      },
      "source": [
        "Write your first code its really easy go to ur terminal if you are in linux or Bash if you are in windows and type: \n",
        "\n",
        "```\n",
        "python \n",
        "```\n",
        "\n",
        "```\n",
        "david@david-Inspiron:~/Desktop/datascience$ python\n",
        "\n",
        "Python 2.7.17 (default, Jul 20 2020, 15:37:01) \n",
        "[GCC 7.5.0] on linux2\n",
        "Type \"help\", \"copyright\", \"credits\" or \"license\" for more information.\n",
        ">>> print(\"Hello, World!\")\n",
        "Hello, World! \n",
        "```\n",
        "\n",
        "```\n",
        "exit() \n",
        "```\n",
        "or ctrl+z\n",
        "\n",
        "\n"
      ]
    },
    {
      "cell_type": "code",
      "metadata": {
        "id": "QuvGpcxtGk9P",
        "colab_type": "code",
        "colab": {
          "base_uri": "https://localhost:8080/",
          "height": 35
        },
        "outputId": "abd698a0-d51c-40dc-9334-7c885fa6dd40"
      },
      "source": [
        " print(\"Hello, World!\") "
      ],
      "execution_count": null,
      "outputs": [
        {
          "output_type": "stream",
          "text": [
            "Hello, World!\n"
          ],
          "name": "stdout"
        }
      ]
    },
    {
      "cell_type": "code",
      "metadata": {
        "id": "qinAN85-HduQ",
        "colab_type": "code",
        "colab": {}
      },
      "source": [
        "#you can create a python file using the .py file extension, and running it in the Command Line:"
      ],
      "execution_count": null,
      "outputs": []
    },
    {
      "cell_type": "markdown",
      "metadata": {
        "id": "e2O5UP7fHwv3",
        "colab_type": "text"
      },
      "source": [
        "\n",
        "\n",
        "```\n",
        "C:\\Users\\Your Name>python myfile.py \n",
        "```\n",
        "\n"
      ]
    },
    {
      "cell_type": "markdown",
      "metadata": {
        "id": "mt-qKFFuJlr_",
        "colab_type": "text"
      },
      "source": [
        "# b) **Syntax**\n",
        "\n",
        "## **Indentation**\n",
        "\n",
        "```\n",
        "Indentation refers to the spaces at the beginning of a code line.\n",
        "Where in other programming languages the indentation in code is for readability only, the indentation in Python is very important.\n",
        "Python uses indentation to indicate a block of code.\n",
        "```\n"
      ]
    },
    {
      "cell_type": "code",
      "metadata": {
        "id": "F-dHFSkKKC8_",
        "colab_type": "code",
        "colab": {
          "base_uri": "https://localhost:8080/",
          "height": 35
        },
        "outputId": "0356bc3e-57ea-4e7d-f8bc-e832688bb8a5"
      },
      "source": [
        "if 10 > 1:\n",
        "  print(\"Ten is greater than one!\")"
      ],
      "execution_count": null,
      "outputs": [
        {
          "output_type": "stream",
          "text": [
            "Ten is greater than one!\n"
          ],
          "name": "stdout"
        }
      ]
    },
    {
      "cell_type": "markdown",
      "metadata": {
        "id": "g-rkDg4DKT1_",
        "colab_type": "text"
      },
      "source": [
        "\n",
        "\n",
        "```\n",
        "Python will give you an error if you skip the indentation:\n",
        "```\n",
        "\n"
      ]
    },
    {
      "cell_type": "code",
      "metadata": {
        "id": "Qpzgslw-KYjY",
        "colab_type": "code",
        "colab": {
          "base_uri": "https://localhost:8080/",
          "height": 137
        },
        "outputId": "4b1d5d4f-2f45-458d-a325-d5b2f1f53f49"
      },
      "source": [
        "if 5 > 2:\n",
        "print(\"Five is greater than two!\")"
      ],
      "execution_count": null,
      "outputs": [
        {
          "output_type": "error",
          "ename": "IndentationError",
          "evalue": "ignored",
          "traceback": [
            "\u001b[0;36m  File \u001b[0;32m\"<ipython-input-13-a314491c53bb>\"\u001b[0;36m, line \u001b[0;32m2\u001b[0m\n\u001b[0;31m    print(\"Five is greater than two!\")\u001b[0m\n\u001b[0m        ^\u001b[0m\n\u001b[0;31mIndentationError\u001b[0m\u001b[0;31m:\u001b[0m expected an indented block\n"
          ]
        }
      ]
    },
    {
      "cell_type": "markdown",
      "metadata": {
        "id": "4tT-EeI4KlHg",
        "colab_type": "text"
      },
      "source": [
        "## **Variables**\n",
        "\n",
        "*In Python, variables are created when you assign a value to it*:\n",
        "\n",
        "\n"
      ]
    },
    {
      "cell_type": "code",
      "metadata": {
        "id": "yakLF4vEKqAG",
        "colab_type": "code",
        "colab": {}
      },
      "source": [
        "x = 5\n",
        "y = \"Hello, World!\""
      ],
      "execution_count": null,
      "outputs": []
    },
    {
      "cell_type": "code",
      "metadata": {
        "id": "xd-QGBzbLCft",
        "colab_type": "code",
        "colab": {
          "base_uri": "https://localhost:8080/",
          "height": 35
        },
        "outputId": "252e8d4c-3d4c-4254-a5de-fe70a856f11f"
      },
      "source": [
        "print(x)"
      ],
      "execution_count": null,
      "outputs": [
        {
          "output_type": "stream",
          "text": [
            "5\n"
          ],
          "name": "stdout"
        }
      ]
    },
    {
      "cell_type": "code",
      "metadata": {
        "id": "BU8xiBD5LDpY",
        "colab_type": "code",
        "colab": {
          "base_uri": "https://localhost:8080/",
          "height": 35
        },
        "outputId": "284a0e62-bb15-4436-87db-131e5f1e9e92"
      },
      "source": [
        "print(y)"
      ],
      "execution_count": null,
      "outputs": [
        {
          "output_type": "stream",
          "text": [
            "Hello, World!\n"
          ],
          "name": "stdout"
        }
      ]
    },
    {
      "cell_type": "markdown",
      "metadata": {
        "id": "M8MeOTKrLLHw",
        "colab_type": "text"
      },
      "source": [
        "\n",
        "\n",
        "\n",
        "\n",
        "## **Comments**\n",
        "\n",
        "\n",
        "*Python has commenting capability for the purpose of in-code documentation*.\n",
        "\n",
        "*Comments start with a #, and Python will render the rest of the line as a comment*: \n",
        "\n",
        "\n",
        "\n"
      ]
    },
    {
      "cell_type": "code",
      "metadata": {
        "id": "2CA7agJgLWoK",
        "colab_type": "code",
        "colab": {
          "base_uri": "https://localhost:8080/",
          "height": 35
        },
        "outputId": "5ac4633a-86a8-47b2-bf40-0ff47dd34f14"
      },
      "source": [
        "#This is a comment.\n",
        "print(\"Hello, World!\")"
      ],
      "execution_count": null,
      "outputs": [
        {
          "output_type": "stream",
          "text": [
            "Hello, World!\n"
          ],
          "name": "stdout"
        }
      ]
    },
    {
      "cell_type": "markdown",
      "metadata": {
        "id": "c633-39knAo4",
        "colab_type": "text"
      },
      "source": [
        "#  **c) Comments**\n",
        "\n",
        "```\n",
        "Comments can be used to explain Python code.\n",
        "\n",
        "Comments can be used to make the code more readable.\n",
        "\n",
        "Comments can be used to prevent execution when testing code.\n",
        "```\n",
        "\n",
        "## **Creating a Comment**\n",
        "\n",
        "*Comments starts with a #, and Python will ignore them:*\n",
        "\n"
      ]
    },
    {
      "cell_type": "code",
      "metadata": {
        "id": "FOpDkjkBnknI",
        "colab_type": "code",
        "colab": {
          "base_uri": "https://localhost:8080/",
          "height": 35
        },
        "outputId": "d4a01f88-5892-44eb-c52f-163ba4759581"
      },
      "source": [
        "#This is a comment\n",
        "print(\"Hello, World!\")"
      ],
      "execution_count": null,
      "outputs": [
        {
          "output_type": "stream",
          "text": [
            "Hello, World!\n"
          ],
          "name": "stdout"
        }
      ]
    },
    {
      "cell_type": "code",
      "metadata": {
        "id": "iRbt1hT1n3Oc",
        "colab_type": "code",
        "colab": {}
      },
      "source": [
        "#Comments can be placed at the end of a line, and Python will ignore the rest of the line:*"
      ],
      "execution_count": null,
      "outputs": []
    },
    {
      "cell_type": "code",
      "metadata": {
        "id": "Vnup5z_nn9tv",
        "colab_type": "code",
        "colab": {
          "base_uri": "https://localhost:8080/",
          "height": 35
        },
        "outputId": "5b3fc5cb-19d2-41cf-cb3e-808bf5609a09"
      },
      "source": [
        " print(\"Hello, World!\") #This is a comment "
      ],
      "execution_count": null,
      "outputs": [
        {
          "output_type": "stream",
          "text": [
            "Hello, World!\n"
          ],
          "name": "stdout"
        }
      ]
    },
    {
      "cell_type": "markdown",
      "metadata": {
        "id": "3-r_pkpZoIrd",
        "colab_type": "text"
      },
      "source": [
        "### **Comments can also be used to prevent Python from executing code:**"
      ]
    },
    {
      "cell_type": "code",
      "metadata": {
        "id": "w-CjR2F8oP8a",
        "colab_type": "code",
        "colab": {}
      },
      "source": [
        "#print(\"Hello, World!\")\n",
        "print(\"Hello, there !\") "
      ],
      "execution_count": null,
      "outputs": []
    },
    {
      "cell_type": "markdown",
      "metadata": {
        "id": "JvzEOXp3ogle",
        "colab_type": "text"
      },
      "source": [
        "### **Multi Line Comments**\n",
        "\n",
        "*Python does not really have a syntax for multi line comments*.\n",
        "\n",
        "*To add a multiline comment you could insert a # for each line:*"
      ]
    },
    {
      "cell_type": "code",
      "metadata": {
        "id": "9Rpw7Agaoy-X",
        "colab_type": "code",
        "colab": {
          "base_uri": "https://localhost:8080/",
          "height": 35
        },
        "outputId": "6d4d19eb-8dcf-4c04-91a1-fb2ad6ab2bf7"
      },
      "source": [
        "#This is a comment\n",
        "#written in\n",
        "#more than just one line\n",
        "print(\"Hello, World!\")"
      ],
      "execution_count": null,
      "outputs": [
        {
          "output_type": "stream",
          "text": [
            "Hello, World!\n"
          ],
          "name": "stdout"
        }
      ]
    },
    {
      "cell_type": "markdown",
      "metadata": {
        "id": "ODOl_0Ouo99n",
        "colab_type": "text"
      },
      "source": [
        "### **Or you can use a multiline string.**\n",
        "\n",
        "**Since Python will ignore string literals that are not assigned to a variable**, *you can add a multiline string (triple quotes) in your code, and place your comment inside it*:"
      ]
    },
    {
      "cell_type": "code",
      "metadata": {
        "id": "F4vpM39jpVpD",
        "colab_type": "code",
        "colab": {
          "base_uri": "https://localhost:8080/",
          "height": 35
        },
        "outputId": "d3944684-8572-4e11-b9a7-4d417265a19a"
      },
      "source": [
        "\"\"\"\n",
        "This is a comment\n",
        "written in\n",
        "more than just one line\n",
        "\"\"\"\n",
        "print(\"Hello, World!\") "
      ],
      "execution_count": null,
      "outputs": [
        {
          "output_type": "stream",
          "text": [
            "Hello, World!\n"
          ],
          "name": "stdout"
        }
      ]
    },
    {
      "cell_type": "markdown",
      "metadata": {
        "id": "TMaLANx3piAv",
        "colab_type": "text"
      },
      "source": [
        "# d)  **Variables**\n",
        "\n",
        "## **Creating Variables**\n",
        "\n",
        "**Variables are containers for storing data values.**\n",
        "*Unlike other programming languages, **Python has no command for declaring a variable**.*\n",
        "*A variable is created the moment you first assign a value to it.*"
      ]
    },
    {
      "cell_type": "code",
      "metadata": {
        "id": "ghnNXpiXq9Hy",
        "colab_type": "code",
        "colab": {
          "base_uri": "https://localhost:8080/",
          "height": 54
        },
        "outputId": "480c8d0b-db53-4009-e2d0-8f09017f6ceb"
      },
      "source": [
        "x = 5\n",
        "y = \"Kinyua\"\n",
        "print(x)\n",
        "print(y)"
      ],
      "execution_count": null,
      "outputs": [
        {
          "output_type": "stream",
          "text": [
            "5\n",
            "Kinyua\n"
          ],
          "name": "stdout"
        }
      ]
    },
    {
      "cell_type": "markdown",
      "metadata": {
        "id": "_VU1nWLszT17",
        "colab_type": "text"
      },
      "source": [
        "### **Variables do not need to be declared with any particular type and can even change type after they have been set.** **bold text**"
      ]
    },
    {
      "cell_type": "code",
      "metadata": {
        "id": "39PI2fmNzfMZ",
        "colab_type": "code",
        "colab": {
          "base_uri": "https://localhost:8080/",
          "height": 35
        },
        "outputId": "4f608a0d-ad9e-47d4-ec2a-eb539e3c1c9b"
      },
      "source": [
        "x = 4 # x is of type int\n",
        "x = \"Joan\" # x is now of type str\n",
        "print(x)"
      ],
      "execution_count": null,
      "outputs": [
        {
          "output_type": "stream",
          "text": [
            "Joan\n"
          ],
          "name": "stdout"
        }
      ]
    },
    {
      "cell_type": "markdown",
      "metadata": {
        "id": "pK5yJBdIzlMd",
        "colab_type": "text"
      },
      "source": [
        "### **String variables can be declared either by using single or double quotes:**"
      ]
    },
    {
      "cell_type": "code",
      "metadata": {
        "id": "COYKh1ftznPw",
        "colab_type": "code",
        "colab": {}
      },
      "source": [
        "x = \"David\"\n",
        "# is the same as\n",
        "x = 'Kmani'"
      ],
      "execution_count": null,
      "outputs": []
    },
    {
      "cell_type": "markdown",
      "metadata": {
        "id": "-MCjQuEgz4IM",
        "colab_type": "text"
      },
      "source": [
        "### **Variable Names**\n",
        "\n",
        "### **A variable can have a short name (like x and y) or a more descriptive name (age, carname, total_volume)**.\n",
        "\n",
        "### **Rules for Python variables**:\n",
        "\n",
        "    1.A variable name must start with a letter or the underscore character\n",
        "    2.A variable name cannot start with a number\n",
        "    3.A variable name can only contain alpha-numeric characters and underscores (A-z, 0-9, and _ )\n",
        "    4.Variable names are case-sensitive (age, Age and AGE are three different variables)\n"
      ]
    },
    {
      "cell_type": "code",
      "metadata": {
        "id": "Tfhbqozz0gA8",
        "colab_type": "code",
        "colab": {}
      },
      "source": [
        "#Legal variable names:\n",
        "myvar = \"John\"\n",
        "my_var = \"John\"\n",
        "_my_var = \"John\"\n",
        "myVar = \"John\"\n",
        "MYVAR = \"John\"\n",
        "myvar2 = \"John\"\n",
        "\n",
        "#Illegal variable names:\n",
        "#2myvar = \"John\"\n",
        "#my-var = \"John\"\n",
        "#my var = \"John\""
      ],
      "execution_count": null,
      "outputs": []
    },
    {
      "cell_type": "markdown",
      "metadata": {
        "id": "9Zc6Kmg409mq",
        "colab_type": "text"
      },
      "source": [
        "### **Assign Value to Multiple Variables**"
      ]
    },
    {
      "cell_type": "code",
      "metadata": {
        "id": "M7Cvlj3W1ClL",
        "colab_type": "code",
        "colab": {
          "base_uri": "https://localhost:8080/",
          "height": 72
        },
        "outputId": "260dee81-eee3-45e2-8999-3d0f862a4fdf"
      },
      "source": [
        "x, y, z = \"Nairobi\", \"Mombasa\", \"Kisumu\"\n",
        "print(x)\n",
        "print(y)\n",
        "print(z)"
      ],
      "execution_count": null,
      "outputs": [
        {
          "output_type": "stream",
          "text": [
            "Nairobi\n",
            "Mombasa\n",
            "Kisumu\n"
          ],
          "name": "stdout"
        }
      ]
    },
    {
      "cell_type": "markdown",
      "metadata": {
        "id": "tQxJ2guh1T5S",
        "colab_type": "text"
      },
      "source": [
        ""
      ]
    },
    {
      "cell_type": "markdown",
      "metadata": {
        "id": "LfER4JSv1UMY",
        "colab_type": "text"
      },
      "source": [
        "### **You can also assign the same value to multiple variables in one line:**"
      ]
    },
    {
      "cell_type": "code",
      "metadata": {
        "id": "Ozx75QCJ1dtt",
        "colab_type": "code",
        "colab": {
          "base_uri": "https://localhost:8080/",
          "height": 72
        },
        "outputId": "cf13f78e-13fd-4d7f-dbd7-69a2e9904d31"
      },
      "source": [
        " x = y = z = \"Orange\"\n",
        "print(x)\n",
        "print(y)\n",
        "print(z)"
      ],
      "execution_count": null,
      "outputs": [
        {
          "output_type": "stream",
          "text": [
            "Orange\n",
            "Orange\n",
            "Orange\n"
          ],
          "name": "stdout"
        }
      ]
    },
    {
      "cell_type": "markdown",
      "metadata": {
        "id": "GnQ0x6_v1h1C",
        "colab_type": "text"
      },
      "source": [
        "### **Output Variables**\n",
        "\n",
        "*The Python print statement is often used to output variables.*"
      ]
    },
    {
      "cell_type": "code",
      "metadata": {
        "id": "3JNKfJFq1tH7",
        "colab_type": "code",
        "colab": {
          "base_uri": "https://localhost:8080/",
          "height": 35
        },
        "outputId": "b5b50061-d96a-4891-9809-86cd800126d6"
      },
      "source": [
        "x = \"Cool\"\n",
        "print(\"Lux academy is \" + x)"
      ],
      "execution_count": null,
      "outputs": [
        {
          "output_type": "stream",
          "text": [
            "Lux academy is Cool\n"
          ],
          "name": "stdout"
        }
      ]
    },
    {
      "cell_type": "markdown",
      "metadata": {
        "id": "i_LKLGNf2Eu8",
        "colab_type": "text"
      },
      "source": [
        "### **To combine both text and a variable, Python uses the + character:**\n",
        "\n",
        "### **You can also use the + character to add a variable to another variable:**"
      ]
    },
    {
      "cell_type": "code",
      "metadata": {
        "id": "bzI3HBcf2Ob6",
        "colab_type": "code",
        "colab": {
          "base_uri": "https://localhost:8080/",
          "height": 35
        },
        "outputId": "7ce533d9-10e9-42d3-a1ac-214e82fd5923"
      },
      "source": [
        "x = \"Nairobi is \"\n",
        "y = \"the capital city of kenya\"\n",
        "z =  x + y\n",
        "print(z)"
      ],
      "execution_count": null,
      "outputs": [
        {
          "output_type": "stream",
          "text": [
            "Nairobi is the capital city of kenya\n"
          ],
          "name": "stdout"
        }
      ]
    },
    {
      "cell_type": "markdown",
      "metadata": {
        "id": "YydVtnK22fAE",
        "colab_type": "text"
      },
      "source": [
        "### **For numbers, the + character works as a mathematical operator:**"
      ]
    },
    {
      "cell_type": "code",
      "metadata": {
        "id": "9_DfOpvD2ibK",
        "colab_type": "code",
        "colab": {
          "base_uri": "https://localhost:8080/",
          "height": 35
        },
        "outputId": "75d6d900-08ef-4637-b436-fef81084f360"
      },
      "source": [
        "x = 100\n",
        "y = 465\n",
        "print(x + y)"
      ],
      "execution_count": null,
      "outputs": [
        {
          "output_type": "stream",
          "text": [
            "565\n"
          ],
          "name": "stdout"
        }
      ]
    },
    {
      "cell_type": "markdown",
      "metadata": {
        "id": "KFjzyptX2t-Y",
        "colab_type": "text"
      },
      "source": [
        "### **If you try to combine a string and a number, Python will give you an error:** "
      ]
    },
    {
      "cell_type": "code",
      "metadata": {
        "id": "C_W4lFVY2wPL",
        "colab_type": "code",
        "colab": {
          "base_uri": "https://localhost:8080/",
          "height": 211
        },
        "outputId": "bc90a043-15f7-4c12-dc5a-29c79a4da711"
      },
      "source": [
        "x = 20\n",
        "y = \"David\"\n",
        "print(x + y)"
      ],
      "execution_count": null,
      "outputs": [
        {
          "output_type": "error",
          "ename": "TypeError",
          "evalue": "ignored",
          "traceback": [
            "\u001b[0;31m---------------------------------------------------------------------------\u001b[0m",
            "\u001b[0;31mTypeError\u001b[0m                                 Traceback (most recent call last)",
            "\u001b[0;32m<ipython-input-25-586c23a607dc>\u001b[0m in \u001b[0;36m<module>\u001b[0;34m()\u001b[0m\n\u001b[1;32m      1\u001b[0m \u001b[0mx\u001b[0m \u001b[0;34m=\u001b[0m \u001b[0;36m20\u001b[0m\u001b[0;34m\u001b[0m\u001b[0;34m\u001b[0m\u001b[0m\n\u001b[1;32m      2\u001b[0m \u001b[0my\u001b[0m \u001b[0;34m=\u001b[0m \u001b[0;34m\"David\"\u001b[0m\u001b[0;34m\u001b[0m\u001b[0;34m\u001b[0m\u001b[0m\n\u001b[0;32m----> 3\u001b[0;31m \u001b[0mprint\u001b[0m\u001b[0;34m(\u001b[0m\u001b[0mx\u001b[0m \u001b[0;34m+\u001b[0m \u001b[0my\u001b[0m\u001b[0;34m)\u001b[0m\u001b[0;34m\u001b[0m\u001b[0;34m\u001b[0m\u001b[0m\n\u001b[0m",
            "\u001b[0;31mTypeError\u001b[0m: unsupported operand type(s) for +: 'int' and 'str'"
          ]
        }
      ]
    },
    {
      "cell_type": "markdown",
      "metadata": {
        "id": "hIQqGbSN28vA",
        "colab_type": "text"
      },
      "source": [
        "## **Global Variables**\n",
        "\n",
        "**Variables that are created outside of a function (as in all of the examples above) are known as global variables.** "
      ]
    },
    {
      "cell_type": "markdown",
      "metadata": {
        "id": "4CX-DwKq3gu5",
        "colab_type": "text"
      },
      "source": [
        "**Global variables can be used by everyone, both inside of functions and outside.**"
      ]
    },
    {
      "cell_type": "code",
      "metadata": {
        "id": "gFil8Uqw3nPQ",
        "colab_type": "code",
        "colab": {
          "base_uri": "https://localhost:8080/",
          "height": 35
        },
        "outputId": "4ce4b2a4-b486-4022-f373-6ca87c90b6d7"
      },
      "source": [
        "#Create a variable outside of a function, and use it inside the function\n",
        "\n",
        "x = \"Cool\"\n",
        "\n",
        "def myfunc():\n",
        "  print(\"Lux academy is \" + x)\n",
        "\n",
        "myfunc() "
      ],
      "execution_count": null,
      "outputs": [
        {
          "output_type": "stream",
          "text": [
            "Lux academy is Cool\n"
          ],
          "name": "stdout"
        }
      ]
    },
    {
      "cell_type": "markdown",
      "metadata": {
        "id": "xnFycfq04ACN",
        "colab_type": "text"
      },
      "source": [
        "**If you create a variable with the same name inside a function, this variable will be local, and can only be used inside the function. The global variable with the same name will remain as it was, global and with the original value.** *italicized text*"
      ]
    },
    {
      "cell_type": "code",
      "metadata": {
        "id": "xGsc8Q7U4Dzk",
        "colab_type": "code",
        "colab": {
          "base_uri": "https://localhost:8080/",
          "height": 54
        },
        "outputId": "7fb0677f-c87f-485c-edc0-465d43491ba5"
      },
      "source": [
        "#Create a variable inside a function, with the same name as the global variable\n",
        "x = \"awesome\"\n",
        "\n",
        "def myfunc():\n",
        "  x = \"fantastic\"\n",
        "  print(\"Lux academy is \" + x)\n",
        "\n",
        "myfunc()\n",
        "\n",
        "print(\"Lux academy is \" + x) "
      ],
      "execution_count": null,
      "outputs": [
        {
          "output_type": "stream",
          "text": [
            "Lux academy is fantastic\n",
            "Lux academy is awesome\n"
          ],
          "name": "stdout"
        }
      ]
    },
    {
      "cell_type": "markdown",
      "metadata": {
        "id": "88aDbZP34c-M",
        "colab_type": "text"
      },
      "source": [
        "## **The global Keyword**\n",
        "\n",
        "**Normally, when you create a variable inside a function, that variable is local, and can only be used inside that function.**\n",
        "\n",
        "**To create a global variable inside a function, you can use the global keyword.** **bold text**"
      ]
    },
    {
      "cell_type": "code",
      "metadata": {
        "id": "SgNFffvN4sua",
        "colab_type": "code",
        "colab": {
          "base_uri": "https://localhost:8080/",
          "height": 35
        },
        "outputId": "187a036f-e40e-414e-af39-430b3589b7ba"
      },
      "source": [
        "#When the global keyword is used, the variable belongs to the global scope:\n",
        "\n",
        "def myfunc():\n",
        "  global x\n",
        "  x = \"fantastic\"\n",
        "\n",
        "myfunc()\n",
        "\n",
        "print(\"Lux academy is \" + x) "
      ],
      "execution_count": null,
      "outputs": [
        {
          "output_type": "stream",
          "text": [
            "Lux academy is fantastic\n"
          ],
          "name": "stdout"
        }
      ]
    },
    {
      "cell_type": "markdown",
      "metadata": {
        "id": "4ZsRgB_j5NCi",
        "colab_type": "text"
      },
      "source": [
        "**Also, use the global keyword if you want to change a global variable inside a function.**"
      ]
    },
    {
      "cell_type": "code",
      "metadata": {
        "id": "A8BaZBnX5PAa",
        "colab_type": "code",
        "colab": {
          "base_uri": "https://localhost:8080/",
          "height": 35
        },
        "outputId": "09977a19-084c-4f5c-bcf7-85127aeee9c1"
      },
      "source": [
        "x = \"awesome\"\n",
        "\n",
        "def myfunc():\n",
        "  global x\n",
        "  x = \"fantastic\"\n",
        "\n",
        "myfunc()\n",
        "\n",
        "print(\"Lux academy is \" + x) "
      ],
      "execution_count": null,
      "outputs": [
        {
          "output_type": "stream",
          "text": [
            "Lux academy is fantastic\n"
          ],
          "name": "stdout"
        }
      ]
    },
    {
      "cell_type": "markdown",
      "metadata": {
        "id": "mG3i2sDTBvyD",
        "colab_type": "text"
      },
      "source": [
        "# DATA TYPES\n",
        "# **e) Data Types**\n",
        "\n",
        "## **Built-in Data Types**\n",
        "\n",
        "### *Variables can store data of different types*.\n",
        "\n",
        "###**Python has the following data types built-in by default:**\n",
        "\n",
        "**Text Type**    : \tstr\n",
        "\n",
        "**Numeric Types** : \tint, float, complex\n",
        "\n",
        "**Sequence Types**: \tlist, tuple, range\n",
        "\n",
        "**Mapping Type**  : \tdict\n",
        "\n",
        "**Set Types**    : \tset, frozenset\n",
        "\n",
        "**Boolean Type**  : \tbool\n",
        "\n",
        "**Binary Types**  : \tbytes, bytearray, memoryview"
      ]
    },
    {
      "cell_type": "markdown",
      "metadata": {
        "id": "PbdqolNoD38k",
        "colab_type": "text"
      },
      "source": [
        "### **Getting the Data Type**"
      ]
    },
    {
      "cell_type": "code",
      "metadata": {
        "id": "B8Jr-gNiEX6q",
        "colab_type": "code",
        "colab": {}
      },
      "source": [
        "#Print the data type of the variable x:\n",
        "x = 5\n",
        "print(type(x))\n"
      ],
      "execution_count": null,
      "outputs": []
    },
    {
      "cell_type": "markdown",
      "metadata": {
        "id": "s6pZXq77FNmq",
        "colab_type": "text"
      },
      "source": [
        "##**Setting the Data Type**\n",
        "\n",
        "###*In Python, the data type is set when you assign a value to a variable:*\n"
      ]
    },
    {
      "cell_type": "code",
      "metadata": {
        "id": "0zoSTHU_FnhN",
        "colab_type": "code",
        "colab": {}
      },
      "source": [
        "x = \"Hello World\" \t#str\n",
        "x = 20 \t#int\n",
        "x = 20.5 \t#float\n",
        "x = 1j \t#complex\n",
        "x = [\"apple\", \"banana\", \"cherry\"] \t#list\n",
        "x = (\"apple\", \"banana\", \"cherry\") \t#tuple \t\n",
        "x = range(6) \t#range \t\n",
        "x = {\"name\" : \"John\", \"age\" : 36} \t#dict \t\n",
        "x = {\"apple\", \"banana\", \"cherry\"} \t#set \t\n",
        "x = frozenset({\"apple\", \"banana\", \"cherry\"}) \t#frozenset \t\n",
        "x = True \t#bool \t\n",
        "x = b\"Hello\" \t#bytes \t\n",
        "x = bytearray(5) \t#bytearray \t\n",
        "x = memoryview(bytes(5)) \t#memoryview"
      ],
      "execution_count": null,
      "outputs": []
    },
    {
      "cell_type": "markdown",
      "metadata": {
        "id": "dvzWbjhfGIme",
        "colab_type": "text"
      },
      "source": [
        "## **Setting the Specific Data Type**\n",
        "###*If you want to specify the data type, you can use the following constructor functions:*"
      ]
    },
    {
      "cell_type": "code",
      "metadata": {
        "id": "unuzbkFJGTah",
        "colab_type": "code",
        "colab": {}
      },
      "source": [
        "x = str(\"Hello World\") \t#str \t\n",
        "x = int(20) \t#int \t\n",
        "x = float(20.5) \t#float \t\n",
        "x = complex(1j) \t#complex \t\n",
        "x = list((\"apple\", \"banana\", \"cherry\")) \t#list \t\n",
        "x = tuple((\"apple\", \"banana\", \"cherry\")) \t#tuple \t\n",
        "x = range(6) \t#range \t\n",
        "x = dict(name=\"John\", age=36) \t#dict \t\n",
        "x = set((\"apple\", \"banana\", \"cherry\")) \t#set \t\n",
        "x = frozenset((\"apple\", \"banana\", \"cherry\")) \t#frozenset \t\n",
        "x = bool(5) \t#bool \t\n",
        "x = bytes(5) \t#bytes \t\n",
        "x = bytearray(5) \t#bytearray \t\n",
        "x = memoryview(bytes(5)) \t#memoryview \t\n"
      ],
      "execution_count": null,
      "outputs": []
    },
    {
      "cell_type": "markdown",
      "metadata": {
        "id": "gwQrXnagXp7A",
        "colab_type": "text"
      },
      "source": [
        "# **f) Numbers**\n",
        "\n",
        "##*There are three numeric types in Python:*\n",
        "\n",
        "    int\n",
        "    float\n",
        "    complex\n",
        "\n",
        "\n"
      ]
    },
    {
      "cell_type": "code",
      "metadata": {
        "id": "aD5IJXlWZaa2",
        "colab_type": "code",
        "colab": {}
      },
      "source": [
        "x = 1    # int\n",
        "y = 3.2  # float\n",
        "z = 3j   # complex"
      ],
      "execution_count": null,
      "outputs": []
    },
    {
      "cell_type": "markdown",
      "metadata": {
        "id": "bNz3BHFYZpJd",
        "colab_type": "text"
      },
      "source": [
        "###**To verify the type of any object in Python, use the type() function:**"
      ]
    },
    {
      "cell_type": "code",
      "metadata": {
        "id": "n4Lp0x5WZtp5",
        "colab_type": "code",
        "colab": {
          "base_uri": "https://localhost:8080/",
          "height": 72
        },
        "outputId": "cba9aea8-46c2-4da5-eb58-4b4a02d119b1"
      },
      "source": [
        "print(type(x))\n",
        "print(type(y))\n",
        "print(type(z))"
      ],
      "execution_count": null,
      "outputs": [
        {
          "output_type": "stream",
          "text": [
            "<class 'int'>\n",
            "<class 'float'>\n",
            "<class 'complex'>\n"
          ],
          "name": "stdout"
        }
      ]
    },
    {
      "cell_type": "markdown",
      "metadata": {
        "id": "HwNTxvbRaQDx",
        "colab_type": "text"
      },
      "source": [
        "##**Int**\n",
        "###**Int, or integer, is a whole number, positive or negative, without decimals, of unlimited length.**"
      ]
    },
    {
      "cell_type": "code",
      "metadata": {
        "id": "HMpVBKriajy6",
        "colab_type": "code",
        "colab": {}
      },
      "source": [
        "x = 1\n",
        "y = 35656222554887711\n",
        "z = -3255522\n",
        "\n",
        "print(type(x))\n",
        "print(type(y))\n",
        "print(type(z)) "
      ],
      "execution_count": null,
      "outputs": []
    },
    {
      "cell_type": "markdown",
      "metadata": {
        "id": "mGa4FTjNarRO",
        "colab_type": "text"
      },
      "source": [
        "##**Float**\n",
        "\n",
        "###**Float, or \"floating point number\" is a number, positive or negative, containing one or more decimals.**"
      ]
    },
    {
      "cell_type": "code",
      "metadata": {
        "id": "TW3LJzPqa8KT",
        "colab_type": "code",
        "colab": {}
      },
      "source": [
        "x = 1.10\n",
        "y = 1.0\n",
        "z = -35.59\n",
        "\n",
        "print(type(x))\n",
        "print(type(y))\n",
        "print(type(z)) "
      ],
      "execution_count": null,
      "outputs": []
    },
    {
      "cell_type": "markdown",
      "metadata": {
        "id": "EgqR1TGcbMSk",
        "colab_type": "text"
      },
      "source": [
        "###**Float can also be scientific numbers with an \"e\" to indicate the power of 10.**"
      ]
    },
    {
      "cell_type": "code",
      "metadata": {
        "id": "sWkyD5FnbUKo",
        "colab_type": "code",
        "colab": {}
      },
      "source": [
        "x = 35e3\n",
        "y = 12E4\n",
        "z = -87.7e100\n",
        "\n",
        "print(type(x))\n",
        "print(type(y))\n",
        "print(type(z)) "
      ],
      "execution_count": null,
      "outputs": []
    },
    {
      "cell_type": "markdown",
      "metadata": {
        "id": "yfiKTHNUbaQ_",
        "colab_type": "text"
      },
      "source": [
        "##**Complex**\n",
        "###**Complex numbers are written with a \"j\" as the imaginary part:**"
      ]
    },
    {
      "cell_type": "code",
      "metadata": {
        "id": "9QE0NjZvbnb5",
        "colab_type": "code",
        "colab": {
          "base_uri": "https://localhost:8080/",
          "height": 72
        },
        "outputId": "dc5cbdb6-0e3e-499b-aac6-5c06e4db1a85"
      },
      "source": [
        "x = 3+5j\n",
        "y = 5j\n",
        "z = -5j\n",
        "\n",
        "print(type(x))\n",
        "print(type(y))\n",
        "print(type(z)) "
      ],
      "execution_count": null,
      "outputs": [
        {
          "output_type": "stream",
          "text": [
            "<class 'complex'>\n",
            "<class 'complex'>\n",
            "<class 'complex'>\n"
          ],
          "name": "stdout"
        }
      ]
    },
    {
      "cell_type": "markdown",
      "metadata": {
        "id": "NVjNzw51b0z7",
        "colab_type": "text"
      },
      "source": [
        "##**Type Conversion**\n",
        "\n",
        "###**You can convert from one type to another with the int(), float(), and complex() methods:**"
      ]
    },
    {
      "cell_type": "code",
      "metadata": {
        "id": "wRr_BHwkb_MW",
        "colab_type": "code",
        "colab": {
          "base_uri": "https://localhost:8080/",
          "height": 127
        },
        "outputId": "85237090-8c5c-4bed-aca9-b42bb89db409"
      },
      "source": [
        "x = 1    # int\n",
        "y = 2.8  # float\n",
        "z = 1j   # complex\n",
        "\n",
        "#convert from int to float:\n",
        "a = float(x)\n",
        "\n",
        "#convert from float to int:\n",
        "b = int(y)\n",
        "\n",
        "#convert from int to complex:\n",
        "c = complex(x)\n",
        "\n",
        "print(a)\n",
        "print(b)\n",
        "print(c)\n",
        "\n",
        "print(type(a))\n",
        "print(type(b))\n",
        "print(type(c)) "
      ],
      "execution_count": null,
      "outputs": [
        {
          "output_type": "stream",
          "text": [
            "1.0\n",
            "2\n",
            "(1+0j)\n",
            "<class 'float'>\n",
            "<class 'int'>\n",
            "<class 'complex'>\n"
          ],
          "name": "stdout"
        }
      ]
    },
    {
      "cell_type": "markdown",
      "metadata": {
        "id": "iAkxy_Q1cKlP",
        "colab_type": "text"
      },
      "source": [
        "##**Note: You cannot convert complex numbers into another number type.**"
      ]
    },
    {
      "cell_type": "markdown",
      "metadata": {
        "id": "1jJOh3A_cVVF",
        "colab_type": "text"
      },
      "source": [
        "##**Random Number**\n",
        "\n",
        "###**Python does not have a random() function to make a random number, but Python has a built-in module called random that can be used to make random numbers:**"
      ]
    },
    {
      "cell_type": "code",
      "metadata": {
        "id": "4nNpfmUqcj7c",
        "colab_type": "code",
        "colab": {
          "base_uri": "https://localhost:8080/",
          "height": 35
        },
        "outputId": "3526aaae-0d8a-4460-b2fa-75ca9a8e8436"
      },
      "source": [
        "import random\n",
        "\n",
        "print(random.randrange(1, 10)) "
      ],
      "execution_count": null,
      "outputs": [
        {
          "output_type": "stream",
          "text": [
            "8\n"
          ],
          "name": "stdout"
        }
      ]
    },
    {
      "cell_type": "markdown",
      "metadata": {
        "id": "_jgZizNueY7W",
        "colab_type": "text"
      },
      "source": [
        "#**g) Casting**\n",
        "##**Specify a Variable Type**\n",
        "\n",
        "###*There may be times when you want to specify a type on to a variable. This can be done with casting. Python is an object-orientated language, and as such it uses classes to define data types, including its primitive types.*\n",
        "\n",
        "**Casting in python is therefore done using constructor functions:**\n",
        "\n",
        "    int() - constructs an integer number from an integer literal, a float literal (by rounding down to the previous whole number), or a string literal (providing the string represents a whole number)\n",
        "    float() - constructs a float number from an integer literal, a float literal or a string literal (providing the string represents a float or an integer)\n",
        "    str() - constructs a string from a wide variety of data types, including strings, integer literals and float literals\n"
      ]
    },
    {
      "cell_type": "code",
      "metadata": {
        "id": "am9I-hsqfEgh",
        "colab_type": "code",
        "colab": {}
      },
      "source": [
        "#integers\n",
        "x = int(1)   # x will be 1\n",
        "y = int(2.8) # y will be 2\n",
        "z = int(\"3\") # z will be 3\n"
      ],
      "execution_count": null,
      "outputs": []
    },
    {
      "cell_type": "code",
      "metadata": {
        "id": "9Q9CD2gTfJ9b",
        "colab_type": "code",
        "colab": {}
      },
      "source": [
        "#float\n",
        "x = float(1)     # x will be 1.0\n",
        "y = float(2.8)   # y will be 2.8\n",
        "z = float(\"3\")   # z will be 3.0\n",
        "w = float(\"4.2\") # w will be 4.2"
      ],
      "execution_count": null,
      "outputs": []
    },
    {
      "cell_type": "code",
      "metadata": {
        "id": "19KfkgbAfMnc",
        "colab_type": "code",
        "colab": {}
      },
      "source": [
        "#string\n",
        "x = str(\"s1\") # x will be 's1'\n",
        "y = str(2)    # y will be '2'\n",
        "z = str(3.0)  # z will be '3.0' "
      ],
      "execution_count": null,
      "outputs": []
    },
    {
      "cell_type": "markdown",
      "metadata": {
        "id": "DEOndSSCZAN2",
        "colab_type": "text"
      },
      "source": [
        "#**h) Strings**\n",
        "##**String Literals**\n",
        "###**String literals in python are surrounded by either single quotation marks, or double quotation marks.**"
      ]
    },
    {
      "cell_type": "code",
      "metadata": {
        "id": "soU3imbjZZM3",
        "colab_type": "code",
        "colab": {}
      },
      "source": [
        "print(\"Hello\")\n",
        "print('Hello')"
      ],
      "execution_count": null,
      "outputs": []
    },
    {
      "cell_type": "markdown",
      "metadata": {
        "id": "vvP_k5IbZi5T",
        "colab_type": "text"
      },
      "source": [
        "##**Assign String to a Variable**\n",
        "###**Assigning a string to a variable is done with the variable name followed by an equal sign and the string:**"
      ]
    },
    {
      "cell_type": "code",
      "metadata": {
        "id": "wz5lRvfjZvGB",
        "colab_type": "code",
        "colab": {}
      },
      "source": [
        "a = \"Hello\"\n",
        "print(a) "
      ],
      "execution_count": null,
      "outputs": []
    },
    {
      "cell_type": "markdown",
      "metadata": {
        "id": "w_-LT7XnZzQh",
        "colab_type": "text"
      },
      "source": [
        "##**Multiline Strings**\n",
        "\n",
        "###**You can assign a multiline string to a variable by using three quotes:**\n"
      ]
    },
    {
      "cell_type": "code",
      "metadata": {
        "id": "jRzZobCeaCoD",
        "colab_type": "code",
        "colab": {}
      },
      "source": [
        "a = \"\"\"Lorem ipsum dolor sit amet,\n",
        "consectetur adipiscing elit,\n",
        "sed do eiusmod tempor incididunt\n",
        "ut labore et dolore magna aliqua.\"\"\"\n",
        "print(a) "
      ],
      "execution_count": null,
      "outputs": []
    },
    {
      "cell_type": "markdown",
      "metadata": {
        "id": "MtAziVUJaJbM",
        "colab_type": "text"
      },
      "source": [
        "##**Or three single quotes:**"
      ]
    },
    {
      "cell_type": "code",
      "metadata": {
        "id": "j-51OKS3aNcc",
        "colab_type": "code",
        "colab": {}
      },
      "source": [
        "a = '''Lorem ipsum dolor sit amet,\n",
        "consectetur adipiscing elit,\n",
        "sed do eiusmod tempor incididunt\n",
        "ut labore et dolore magna aliqua.'''\n",
        "print(a) "
      ],
      "execution_count": null,
      "outputs": []
    },
    {
      "cell_type": "markdown",
      "metadata": {
        "id": "ZWlX5epua82m",
        "colab_type": "text"
      },
      "source": [
        "##**Strings are Arrays**\n",
        "###**strings in Python are arrays of bytes representing unicode characters.**\n",
        "###**However, Python does not have a character data type, a single character is simply a string with a length of 1.**\n",
        "\n",
        "###**Square brackets can be used to access elements of the string.**"
      ]
    },
    {
      "cell_type": "code",
      "metadata": {
        "id": "MNJ8tb6obmlE",
        "colab_type": "code",
        "colab": {}
      },
      "source": [
        "#Get the character at position 1 (remember that the first character has the position 0):\n",
        "a = \"Hello, World!\"\n",
        "print(a[1])"
      ],
      "execution_count": null,
      "outputs": []
    },
    {
      "cell_type": "markdown",
      "metadata": {
        "id": "_pVNwHnbcBcV",
        "colab_type": "text"
      },
      "source": [
        "##**Slicing**\n",
        "###**You can return a range of characters by using the slice syntax.**\n",
        "\n",
        "###**Specify the start index and the end index, separated by a colon, to return a part of the string.**"
      ]
    },
    {
      "cell_type": "code",
      "metadata": {
        "id": "I72GDsAQcY5k",
        "colab_type": "code",
        "colab": {
          "base_uri": "https://localhost:8080/",
          "height": 35
        },
        "outputId": "51dc9cd8-9a5f-475f-c03f-d129ea0d3835"
      },
      "source": [
        "#Get the characters from position 2 to position 5 (not included):\n",
        "b = \"Hello, World!\"\n",
        "print(b[2:5])"
      ],
      "execution_count": null,
      "outputs": [
        {
          "output_type": "stream",
          "text": [
            "llo\n"
          ],
          "name": "stdout"
        }
      ]
    },
    {
      "cell_type": "markdown",
      "metadata": {
        "id": "I1WDLAn8cy3A",
        "colab_type": "text"
      },
      "source": [
        "##**Negative Indexing**\n",
        "###**Use negative indexes to start the slice from the end of the string:**"
      ]
    },
    {
      "cell_type": "code",
      "metadata": {
        "id": "nk2ryxg2dHeD",
        "colab_type": "code",
        "colab": {
          "base_uri": "https://localhost:8080/",
          "height": 35
        },
        "outputId": "0921dd29-08b4-44e4-ae0a-71cafadbc2be"
      },
      "source": [
        "#Get the characters from position 5 to position 1 (not included), starting the count from the end of the string:\n",
        "b = \"Hello, World!\"\n",
        "print(b[-5:-2])"
      ],
      "execution_count": null,
      "outputs": [
        {
          "output_type": "stream",
          "text": [
            "orl\n"
          ],
          "name": "stdout"
        }
      ]
    },
    {
      "cell_type": "markdown",
      "metadata": {
        "id": "qJTz21v0dtFB",
        "colab_type": "text"
      },
      "source": [
        "##**String Length**\n",
        "###**To get the length of a string, use the len() function.**"
      ]
    },
    {
      "cell_type": "code",
      "metadata": {
        "id": "LQ3CRwfWd6f7",
        "colab_type": "code",
        "colab": {
          "base_uri": "https://localhost:8080/",
          "height": 35
        },
        "outputId": "2a9a0cc5-47c6-4e95-e0d7-50e56e5f1e26"
      },
      "source": [
        "#The len() function returns the length of a string:\n",
        "a = \"Hello, World!\"\n",
        "print(len(a))"
      ],
      "execution_count": null,
      "outputs": [
        {
          "output_type": "stream",
          "text": [
            "13\n"
          ],
          "name": "stdout"
        }
      ]
    },
    {
      "cell_type": "markdown",
      "metadata": {
        "id": "enL6N4UCeLv8",
        "colab_type": "text"
      },
      "source": [
        "##**String Methods**\n",
        "###**Python has a set of built-in methods that you can use on strings.**"
      ]
    },
    {
      "cell_type": "code",
      "metadata": {
        "id": "U3Zk7EJ4eV46",
        "colab_type": "code",
        "colab": {
          "base_uri": "https://localhost:8080/",
          "height": 35
        },
        "outputId": "36ecd77c-b4d8-4c44-894b-0e9bfc37c1e7"
      },
      "source": [
        "#The strip() method removes any whitespace from the beginning or the end:\n",
        "a = \" Hello, World! \"\n",
        "print(a.strip()) # returns \"Hello, World!\" "
      ],
      "execution_count": null,
      "outputs": [
        {
          "output_type": "stream",
          "text": [
            "Hello, World!\n"
          ],
          "name": "stdout"
        }
      ]
    },
    {
      "cell_type": "code",
      "metadata": {
        "id": "vZpyGfmMe9CY",
        "colab_type": "code",
        "colab": {
          "base_uri": "https://localhost:8080/",
          "height": 35
        },
        "outputId": "11d80e24-fd26-4585-a39a-9e7fe65d9c64"
      },
      "source": [
        "#The lower() method returns the string in lower case:\n",
        "a = \"Hello, World!\"\n",
        "print(a.lower())"
      ],
      "execution_count": null,
      "outputs": [
        {
          "output_type": "stream",
          "text": [
            "hello, world!\n"
          ],
          "name": "stdout"
        }
      ]
    },
    {
      "cell_type": "code",
      "metadata": {
        "id": "KxMUPYtCfKL3",
        "colab_type": "code",
        "colab": {
          "base_uri": "https://localhost:8080/",
          "height": 35
        },
        "outputId": "54d16bdf-58a7-4f2e-c57d-388ef84dcc76"
      },
      "source": [
        "#The upper() method returns the string in upper case:\n",
        "a = \"Hello, World!\"\n",
        "print(a.upper())"
      ],
      "execution_count": null,
      "outputs": [
        {
          "output_type": "stream",
          "text": [
            "HELLO, WORLD!\n"
          ],
          "name": "stdout"
        }
      ]
    },
    {
      "cell_type": "code",
      "metadata": {
        "id": "jTK8LTNvfW4Y",
        "colab_type": "code",
        "colab": {
          "base_uri": "https://localhost:8080/",
          "height": 35
        },
        "outputId": "e51e1ac6-8b30-4690-8acf-54704c44ca96"
      },
      "source": [
        "#The replace() method replaces a string with another string:\n",
        "a = \"Hello, World!\"\n",
        "print(a.replace(\"H\", \"J\"))"
      ],
      "execution_count": null,
      "outputs": [
        {
          "output_type": "stream",
          "text": [
            "Jello, World!\n"
          ],
          "name": "stdout"
        }
      ]
    },
    {
      "cell_type": "code",
      "metadata": {
        "id": "RAPLomMQfrKG",
        "colab_type": "code",
        "colab": {
          "base_uri": "https://localhost:8080/",
          "height": 35
        },
        "outputId": "d69303ca-f8e9-464e-a08b-5adec2a8839a"
      },
      "source": [
        "#The split() method splits the string into substrings if it finds instances of the separator:\n",
        "a = \"Hello, World!\"\n",
        "print(a.split(\",\")) # returns ['Hello', ' World!'] "
      ],
      "execution_count": null,
      "outputs": [
        {
          "output_type": "stream",
          "text": [
            "['Hello', ' World!']\n"
          ],
          "name": "stdout"
        }
      ]
    },
    {
      "cell_type": "markdown",
      "metadata": {
        "id": "I8RWhQnif_Oj",
        "colab_type": "text"
      },
      "source": [
        "##**Check String**\n",
        "##**To check if a certain phrase or character is present in a string, we can use the keywords in or not in.**"
      ]
    },
    {
      "cell_type": "code",
      "metadata": {
        "id": "XDpq40tMgWm9",
        "colab_type": "code",
        "colab": {
          "base_uri": "https://localhost:8080/",
          "height": 35
        },
        "outputId": "e8949f2e-11f1-4a22-cb24-acdeebf5682b"
      },
      "source": [
        "#Check if the phrase \"ain\" is present in the following text:\n",
        "txt = \"The rain in Spain stays mainly in the plain\"\n",
        "x = \"ain\" in txt\n",
        "print(x)"
      ],
      "execution_count": null,
      "outputs": [
        {
          "output_type": "stream",
          "text": [
            "True\n"
          ],
          "name": "stdout"
        }
      ]
    },
    {
      "cell_type": "code",
      "metadata": {
        "id": "fvK15RnSgfaT",
        "colab_type": "code",
        "colab": {
          "base_uri": "https://localhost:8080/",
          "height": 35
        },
        "outputId": "dc640daa-2c64-40de-e55c-8542a1835f71"
      },
      "source": [
        "#Check if the phrase \"ain\" is NOT present in the following text:\n",
        "txt = \"The rain in Spain stays mainly in the plain\"\n",
        "x = \"ain\" not in txt\n",
        "print(x) "
      ],
      "execution_count": null,
      "outputs": [
        {
          "output_type": "stream",
          "text": [
            "False\n"
          ],
          "name": "stdout"
        }
      ]
    },
    {
      "cell_type": "markdown",
      "metadata": {
        "id": "WJwdju0sgpVh",
        "colab_type": "text"
      },
      "source": [
        "##**String Concatenation**\n",
        "###**To concatenate, or combine, two strings you can use the + operator.**"
      ]
    },
    {
      "cell_type": "code",
      "metadata": {
        "id": "-ENSAbOegzsH",
        "colab_type": "code",
        "colab": {
          "base_uri": "https://localhost:8080/",
          "height": 35
        },
        "outputId": "8eff1a86-70c6-48dd-de4a-43c8fe277906"
      },
      "source": [
        "#Merge variable a with variable b into variable c:\n",
        "a = \"Hello\"\n",
        "b = \"World\"\n",
        "c = a + b\n",
        "print(c)"
      ],
      "execution_count": null,
      "outputs": [
        {
          "output_type": "stream",
          "text": [
            "HelloWorld\n"
          ],
          "name": "stdout"
        }
      ]
    },
    {
      "cell_type": "code",
      "metadata": {
        "id": "hZLFRzp8g7Bg",
        "colab_type": "code",
        "colab": {
          "base_uri": "https://localhost:8080/",
          "height": 35
        },
        "outputId": "30f5e372-cfdf-4da6-9dec-6b3c2f0242f7"
      },
      "source": [
        "#To add a space between them, add a \" \":\n",
        "a = \"Hello\"\n",
        "b = \"World\"\n",
        "c = a + \" \" + b\n",
        "print(c)"
      ],
      "execution_count": null,
      "outputs": [
        {
          "output_type": "stream",
          "text": [
            "Hello World\n"
          ],
          "name": "stdout"
        }
      ]
    },
    {
      "cell_type": "code",
      "metadata": {
        "id": "pVQzHDfPhL4e",
        "colab_type": "code",
        "colab": {
          "base_uri": "https://localhost:8080/",
          "height": 229
        },
        "outputId": "8fe07c9e-87c3-4ac9-8f6d-eac4da919688"
      },
      "source": [
        "#we cannot combine strings and numbers like this:\n",
        "age = 36\n",
        "txt = \"My name is John, I am \" + age\n",
        "print(txt)"
      ],
      "execution_count": null,
      "outputs": [
        {
          "output_type": "error",
          "ename": "TypeError",
          "evalue": "ignored",
          "traceback": [
            "\u001b[0;31m---------------------------------------------------------------------------\u001b[0m",
            "\u001b[0;31mTypeError\u001b[0m                                 Traceback (most recent call last)",
            "\u001b[0;32m<ipython-input-9-356e59188754>\u001b[0m in \u001b[0;36m<module>\u001b[0;34m()\u001b[0m\n\u001b[1;32m      1\u001b[0m \u001b[0;31m#we cannot combine strings and numbers like this:\u001b[0m\u001b[0;34m\u001b[0m\u001b[0;34m\u001b[0m\u001b[0;34m\u001b[0m\u001b[0m\n\u001b[1;32m      2\u001b[0m \u001b[0mage\u001b[0m \u001b[0;34m=\u001b[0m \u001b[0;36m36\u001b[0m\u001b[0;34m\u001b[0m\u001b[0;34m\u001b[0m\u001b[0m\n\u001b[0;32m----> 3\u001b[0;31m \u001b[0mtxt\u001b[0m \u001b[0;34m=\u001b[0m \u001b[0;34m\"My name is John, I am \"\u001b[0m \u001b[0;34m+\u001b[0m \u001b[0mage\u001b[0m\u001b[0;34m\u001b[0m\u001b[0;34m\u001b[0m\u001b[0m\n\u001b[0m\u001b[1;32m      4\u001b[0m \u001b[0mprint\u001b[0m\u001b[0;34m(\u001b[0m\u001b[0mtxt\u001b[0m\u001b[0;34m)\u001b[0m\u001b[0;34m\u001b[0m\u001b[0;34m\u001b[0m\u001b[0m\n",
            "\u001b[0;31mTypeError\u001b[0m: must be str, not int"
          ]
        }
      ]
    },
    {
      "cell_type": "markdown",
      "metadata": {
        "id": "g70efVGihhsM",
        "colab_type": "text"
      },
      "source": [
        "##**we can combine strings and numbers by using the format() method!**\n",
        "\n",
        "##**The format() method takes the passed arguments, formats them, and places them in the string where the placeholders {} are:**"
      ]
    },
    {
      "cell_type": "code",
      "metadata": {
        "id": "JWesjnlXhuxA",
        "colab_type": "code",
        "colab": {
          "base_uri": "https://localhost:8080/",
          "height": 35
        },
        "outputId": "9fe66a14-7031-4ef0-a76b-8e2c59aa5c3b"
      },
      "source": [
        "#Use the format() method to insert numbers into strings:\n",
        "age = 36\n",
        "txt = \"My name is John, and I am {}\"\n",
        "print(txt.format(age))"
      ],
      "execution_count": null,
      "outputs": [
        {
          "output_type": "stream",
          "text": [
            "My name is John, and I am 36\n"
          ],
          "name": "stdout"
        }
      ]
    },
    {
      "cell_type": "code",
      "metadata": {
        "id": "F3Y5bkaah96S",
        "colab_type": "code",
        "colab": {
          "base_uri": "https://localhost:8080/",
          "height": 35
        },
        "outputId": "c6350943-a343-4ec0-e428-9827cb170085"
      },
      "source": [
        "#The format() method takes unlimited number of arguments, and are placed into the respective placeholders:\n",
        "quantity = 3\n",
        "itemno = 567\n",
        "price = 49.95\n",
        "myorder = \"I want {} pieces of item {} for {} dollars.\"\n",
        "print(myorder.format(quantity, itemno, price))"
      ],
      "execution_count": null,
      "outputs": [
        {
          "output_type": "stream",
          "text": [
            "I want 3 pieces of item 567 for 49.95 dollars.\n"
          ],
          "name": "stdout"
        }
      ]
    },
    {
      "cell_type": "code",
      "metadata": {
        "id": "0DO5AkoriaJ8",
        "colab_type": "code",
        "colab": {
          "base_uri": "https://localhost:8080/",
          "height": 35
        },
        "outputId": "73bccf75-3717-4eff-d1f4-207b3994b8f7"
      },
      "source": [
        "#You can use index numbers {0} to be sure the arguments are placed in the correct placeholders:\n",
        "quantity = 3\n",
        "itemno = 567\n",
        "price = 49.95\n",
        "myorder = \"I want to pay {2} dollars for {0} pieces of item {1}.\"\n",
        "print(myorder.format(quantity, itemno, price))"
      ],
      "execution_count": null,
      "outputs": [
        {
          "output_type": "stream",
          "text": [
            "I want to pay 49.95 dollars for 3 pieces of item 567.\n"
          ],
          "name": "stdout"
        }
      ]
    },
    {
      "cell_type": "markdown",
      "metadata": {
        "id": "FX2fZ0aoixT9",
        "colab_type": "text"
      },
      "source": [
        "##**Escape Character**\n",
        "###**To insert characters that are illegal in a string, use an escape character.**\n",
        "**An escape character is a backslash \\ followed by the character you want to insert.**\n",
        "**An example of an illegal character is a double quote inside a string that is surrounded by double quotes:**"
      ]
    },
    {
      "cell_type": "code",
      "metadata": {
        "id": "D_ZzHVWAnFZN",
        "colab_type": "code",
        "colab": {
          "base_uri": "https://localhost:8080/",
          "height": 35
        },
        "outputId": "e5666942-4e57-44b8-ddfc-23944870d8f3"
      },
      "source": [
        "#The escape character allows you to use double quotes when you normally would not be allowed:\n",
        "txt = \"We are the so-called \\\"Vikings\\\" from the north.\"\n",
        "print(txt)"
      ],
      "execution_count": null,
      "outputs": [
        {
          "output_type": "stream",
          "text": [
            "We are the so-called \"Vikings\" from the north.\n"
          ],
          "name": "stdout"
        }
      ]
    },
    {
      "cell_type": "markdown",
      "metadata": {
        "id": "rC2gV4uBrPIY",
        "colab_type": "text"
      },
      "source": [
        "##**i)Booleans**\n",
        "###**Booleans represent one of two values: True or False.**\n",
        "\n",
        "##**Boolean Values**\n",
        "\n",
        "###**In programming you often need to know if an expression is True or False.You can evaluate any expression in Python, and get one of two answers, True or False.When you compare two values, the expression is evaluated and Python returns the Boolean answer:**"
      ]
    },
    {
      "cell_type": "code",
      "metadata": {
        "id": "eVgtlgYmtIew",
        "colab_type": "code",
        "colab": {
          "base_uri": "https://localhost:8080/",
          "height": 72
        },
        "outputId": "a8c1496a-449d-466f-bfdd-ef892ac7b8b2"
      },
      "source": [
        "print(10 > 9)\n",
        "print(10 == 9)\n",
        "print(10 < 9) "
      ],
      "execution_count": null,
      "outputs": [
        {
          "output_type": "stream",
          "text": [
            "True\n",
            "False\n",
            "False\n"
          ],
          "name": "stdout"
        }
      ]
    },
    {
      "cell_type": "code",
      "metadata": {
        "id": "c1SbUrWDtvvs",
        "colab_type": "code",
        "colab": {
          "base_uri": "https://localhost:8080/",
          "height": 35
        },
        "outputId": "054ed688-9b23-4414-ea54-4b635a6c2a55"
      },
      "source": [
        "#When you run a condition in an if statement, Python returns True or False:\n",
        "a = 200\n",
        "b = 33\n",
        "\n",
        "if b > a:\n",
        "  print(\"b is greater than a\")\n",
        "else:\n",
        "  print(\"b is not greater than a\") "
      ],
      "execution_count": null,
      "outputs": [
        {
          "output_type": "stream",
          "text": [
            "b is not greater than a\n"
          ],
          "name": "stdout"
        }
      ]
    },
    {
      "cell_type": "markdown",
      "metadata": {
        "id": "NmLFLEeiubgK",
        "colab_type": "text"
      },
      "source": [
        "##**Evaluate Values and Variables**"
      ]
    },
    {
      "cell_type": "code",
      "metadata": {
        "id": "8WYeLsjhuh7a",
        "colab_type": "code",
        "colab": {
          "base_uri": "https://localhost:8080/",
          "height": 54
        },
        "outputId": "5602b5ec-1ec0-462f-9869-0ab62c2a1072"
      },
      "source": [
        "#The bool() function allows you to evaluate any value, and give you True or False in return,\n",
        "print(bool(\"Hello\"))\n",
        "print(bool(15))"
      ],
      "execution_count": null,
      "outputs": [
        {
          "output_type": "stream",
          "text": [
            "True\n",
            "True\n"
          ],
          "name": "stdout"
        }
      ]
    },
    {
      "cell_type": "code",
      "metadata": {
        "id": "FCBvvuBPvAa5",
        "colab_type": "code",
        "colab": {
          "base_uri": "https://localhost:8080/",
          "height": 54
        },
        "outputId": "e29068aa-2aaa-4ed8-be5f-712b55033d1e"
      },
      "source": [
        "x = \"Hello\"\n",
        "y = 15\n",
        "\n",
        "print(bool(x))\n",
        "print(bool(y))"
      ],
      "execution_count": null,
      "outputs": [
        {
          "output_type": "stream",
          "text": [
            "True\n",
            "True\n"
          ],
          "name": "stdout"
        }
      ]
    },
    {
      "cell_type": "markdown",
      "metadata": {
        "id": "8EGKZ7UfvTxd",
        "colab_type": "text"
      },
      "source": [
        "##**Most Values are True**\n",
        "\n",
        "> **Almost any value is evaluated to True if it has some sort of content.**\n",
        "\n",
        "> **Any string is True, except empty strings.**\n",
        "\n",
        "> **Any number is True, except 0.**\n",
        "\n",
        "> **Any list, tuple, set, and dictionary are True, except empty ones.**\n",
        "\n",
        "\n",
        "\n"
      ]
    },
    {
      "cell_type": "code",
      "metadata": {
        "id": "2xzUBmGvzCdf",
        "colab_type": "code",
        "colab": {
          "base_uri": "https://localhost:8080/",
          "height": 35
        },
        "outputId": "e82b689e-2281-4511-ac28-8ff66a73114b"
      },
      "source": [
        "bool(\"abc\")\n",
        "bool(123)\n",
        "bool([\"apple\", \"cherry\", \"banana\"])"
      ],
      "execution_count": 28,
      "outputs": [
        {
          "output_type": "execute_result",
          "data": {
            "text/plain": [
              "True"
            ]
          },
          "metadata": {
            "tags": []
          },
          "execution_count": 28
        }
      ]
    },
    {
      "cell_type": "markdown",
      "metadata": {
        "id": "hMaSvDG0zJBP",
        "colab_type": "text"
      },
      "source": [
        "##**Some Values are False**\n",
        "\n",
        "###**In fact, there are not many values that evaluates to False, except empty values, such as (), [], {}, \"\", the number 0, and the value None. And of course the value False evaluates to False.**"
      ]
    },
    {
      "cell_type": "code",
      "metadata": {
        "id": "Wap5WPjuzTPF",
        "colab_type": "code",
        "colab": {
          "base_uri": "https://localhost:8080/",
          "height": 35
        },
        "outputId": "df8a219f-2533-4b1a-f9c4-3c93a5303165"
      },
      "source": [
        "bool(False)\n",
        "bool(None)\n",
        "bool(0)\n",
        "bool(\"\")\n",
        "bool(())\n",
        "bool([])\n",
        "bool({}) "
      ],
      "execution_count": 29,
      "outputs": [
        {
          "output_type": "execute_result",
          "data": {
            "text/plain": [
              "False"
            ]
          },
          "metadata": {
            "tags": []
          },
          "execution_count": 29
        }
      ]
    },
    {
      "cell_type": "markdown",
      "metadata": {
        "id": "HUsNRm4bzanJ",
        "colab_type": "text"
      },
      "source": [
        "###**One more value, or object in this case, evaluates to False, and that is if you have an object that is made from a class with a __len__ function that returns 0 or False:**"
      ]
    },
    {
      "cell_type": "code",
      "metadata": {
        "id": "Vy3s6ZA4zgmy",
        "colab_type": "code",
        "colab": {
          "base_uri": "https://localhost:8080/",
          "height": 35
        },
        "outputId": "6e6387c8-5a09-4e42-8f0b-1f664750d8ee"
      },
      "source": [
        "class myclass():\n",
        "  def __len__(self):\n",
        "    return 0\n",
        "\n",
        "myobj = myclass()\n",
        "print(bool(myobj)) "
      ],
      "execution_count": 30,
      "outputs": [
        {
          "output_type": "stream",
          "text": [
            "False\n"
          ],
          "name": "stdout"
        }
      ]
    },
    {
      "cell_type": "markdown",
      "metadata": {
        "id": "-Ulxs-qjzr-a",
        "colab_type": "text"
      },
      "source": [
        "##**Functions can Return a Boolean**\n",
        "**You can create functions that returns a Boolean Value:**"
      ]
    },
    {
      "cell_type": "code",
      "metadata": {
        "id": "Hb_kllsxz0ET",
        "colab_type": "code",
        "colab": {
          "base_uri": "https://localhost:8080/",
          "height": 35
        },
        "outputId": "c90f7fec-ffbd-42f8-bdd4-78fb30a6e327"
      },
      "source": [
        "def myFunction() :\n",
        "  return True\n",
        "\n",
        "print(myFunction()) "
      ],
      "execution_count": 31,
      "outputs": [
        {
          "output_type": "stream",
          "text": [
            "True\n"
          ],
          "name": "stdout"
        }
      ]
    },
    {
      "cell_type": "markdown",
      "metadata": {
        "id": "lyySML4Yz-bB",
        "colab_type": "text"
      },
      "source": [
        "###**You can execute code based on the Boolean answer of a function:**"
      ]
    },
    {
      "cell_type": "code",
      "metadata": {
        "id": "hnFy3DG-0A_e",
        "colab_type": "code",
        "colab": {
          "base_uri": "https://localhost:8080/",
          "height": 35
        },
        "outputId": "c2a7b495-3202-437e-e538-767e2fcafddf"
      },
      "source": [
        "#Print \"YES!\" if the function returns True, otherwise print \"NO!\":\n",
        "def myFunction() :\n",
        "  return True\n",
        "\n",
        "if myFunction():\n",
        "  print(\"YES!\")\n",
        "else:\n",
        "  print(\"NO!\") "
      ],
      "execution_count": 32,
      "outputs": [
        {
          "output_type": "stream",
          "text": [
            "YES!\n"
          ],
          "name": "stdout"
        }
      ]
    },
    {
      "cell_type": "markdown",
      "metadata": {
        "id": "_0MiBXkA0Ozt",
        "colab_type": "text"
      },
      "source": [
        "###**Python also has many built-in functions that returns a boolean value, like the isinstance() function, which can be used to determine if an object is of a certain data type:**"
      ]
    },
    {
      "cell_type": "code",
      "metadata": {
        "id": "KzJvYD_y0R0I",
        "colab_type": "code",
        "colab": {}
      },
      "source": [
        "x = 200\n",
        "print(isinstance(x, int)) "
      ],
      "execution_count": null,
      "outputs": []
    },
    {
      "cell_type": "markdown",
      "metadata": {
        "id": "YsROvAri6Fno",
        "colab_type": "text"
      },
      "source": [
        "#**j) Operators**"
      ]
    }
  ]
}