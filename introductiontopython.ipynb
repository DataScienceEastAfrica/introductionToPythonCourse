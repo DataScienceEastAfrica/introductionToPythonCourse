{
  "nbformat": 4,
  "nbformat_minor": 0,
  "metadata": {
    "colab": {
      "name": "introductiontopython.ipynb",
      "provenance": [],
      "collapsed_sections": [],
      "authorship_tag": "ABX9TyPeHrXuM5gPcsck7y7hBYR0",
      "include_colab_link": true
    },
    "kernelspec": {
      "name": "python3",
      "display_name": "Python 3"
    }
  },
  "cells": [
    {
      "cell_type": "markdown",
      "metadata": {
        "id": "view-in-github",
        "colab_type": "text"
      },
      "source": [
        "<a href=\"https://colab.research.google.com/github/DataScienceEastAfrica/introductionToPythonCourse/blob/master/introductiontopython.ipynb\" target=\"_parent\"><img src=\"https://colab.research.google.com/assets/colab-badge.svg\" alt=\"Open In Colab\"/></a>"
      ]
    },
    {
      "cell_type": "markdown",
      "metadata": {
        "id": "_r4gEpa709fl",
        "colab_type": "text"
      },
      "source": [
        "This course has borrowed from other resources and tries to make your learning as smoooth as possible:\n",
        "Course outline\n",
        "\n",
        "\n",
        "```\n",
        "1. Getting started\n",
        "2. Syntax\n",
        "3. Comments\n",
        "4. Variables\n",
        "5. Data Types\n",
        "6. Numbers\n",
        "7. strings\n",
        "8. casting\n",
        "9. Booleans \n",
        "10. operators\n",
        "11. List\n",
        "12. Tuples\n",
        "13. Sets\n",
        "14. Dictionaries\n",
        "15. If....Else\n",
        "16. While Loops\n",
        "17. For Loops\n",
        "18. Functions\n",
        "19. Lambda\n",
        "19. Arrays\n",
        "20. Classes/Objects\n",
        "21. Inheritance\n",
        "22. Iterators\n",
        "23. Scope\n",
        "24. Modules\n",
        "25. Dates\n",
        "26. Math\n",
        "27. JSON\n",
        "28. RegEx\n",
        "29. Pip\n",
        "30. Try...Except\n",
        "31. User Input\n",
        "32. String formatting\n",
        "\n",
        "```\n",
        "\n"
      ]
    },
    {
      "cell_type": "markdown",
      "metadata": {
        "id": "YqNs_7G74aXl",
        "colab_type": "text"
      },
      "source": [
        "Introduction to Python\n",
        "\n",
        "Python is a popular programming language. It was created by Guido van Rossum, and released in 1991.\n",
        "\n",
        "It is used for:\n",
        "\n",
        "    web development (server-side),\n",
        "    software development,\n",
        "    mathematics,\n",
        "    system scripting.\n",
        "\n",
        "What can Python do?\n",
        "\n",
        "    Python can be used on a server to create web applications.\n",
        "    Python can be used alongside software to create workflows.\n",
        "    Python can connect to database systems. It can also read and modify files.\n",
        "    Python can be used to handle big data and perform complex mathematics.\n",
        "    Python can be used for rapid prototyping, or for production-ready software development.\n",
        "\n",
        "Why Python?\n",
        "\n",
        "    Python works on different platforms (Windows, Mac, Linux, Raspberry Pi, etc).\n",
        "    Python has a simple syntax similar to the English language.\n",
        "    Python has syntax that allows developers to write programs with fewer lines than some other programming languages.\n",
        "    Python runs on an interpreter system, meaning that code can be executed as soon as it is written. This means that prototyping can be very quick.\n",
        "    Python can be treated in a procedural way, an object-orientated way or a functional way.\n",
        "\n",
        "Good to know\n",
        "\n",
        "    The most recent major version of Python is Python 3, which we shall be using in this tutorial. However, Python 2, although not being updated with anything other than security updates, is still quite popular.\n",
        "    In this tutorial Python will be written in a text editor. It is possible to write Python in an Integrated Development Environment, such as Thonny, Pycharm, Netbeans or Eclipse which are particularly useful when managing larger collections of Python files.\n",
        "\n",
        "Python Syntax compared to other programming languages\n",
        "\n",
        "    Python was designed for readability, and has some similarities to the English language with influence from mathematics.\n",
        "    Python uses new lines to complete a command, as opposed to other programming languages which often use semicolons or parentheses.\n",
        "    Python relies on indentation, using whitespace, to define scope; such as the scope of loops, functions and classes. Other programming languages often use curly-brackets for this purpose.\n"
      ]
    },
    {
      "cell_type": "markdown",
      "metadata": {
        "id": "oEGd0HgG5I_c",
        "colab_type": "text"
      },
      "source": [
        "1. Getting started\n",
        "\n",
        "Make sure that Python is installed in ur system.\n",
        "\n",
        "\n",
        "    python --version \n",
        "\n",
        "if you do not have python installed on your computer go to:\n",
        "    \n",
        ">  https://www.python.org/\n",
        "\n",
        "make sure that you have python 3 installed we will you it throught this course.(python is free)\n"
      ]
    },
    {
      "cell_type": "markdown",
      "metadata": {
        "id": "PymCUYo380ct",
        "colab_type": "text"
      },
      "source": [
        "Write your first code its really easy go to ur terminal if you are in linux or Bash if you are in windows and type: \n",
        "\n",
        "```\n",
        "python \n",
        "```\n",
        "\n",
        "```\n",
        "C:\\Users\\Your Name>python\n",
        "Python 3.6.4 (v3.6.4:d48eceb, Dec 19 2017, 06:04:45) [MSC v.1900 32 bit (Intel)] on win32\n",
        "Type \"help\", \"copyright\", \"credits\" or \"license\" for more information.\n",
        ">>> print(\"Hello, World!\") \n",
        "```\n",
        "\n",
        "\n",
        "```\n",
        "C:\\Users\\Your Name>python\n",
        "Python 3.6.4 (v3.6.4:d48eceb, Dec 19 2017, 06:04:45) [MSC v.1900 32 bit (Intel)] on win32\n",
        "Type \"help\", \"copyright\", \"credits\" or \"license\" for more information.\n",
        ">>> print(\"Hello, World!\")\n",
        "Hello, World! \n",
        "```\n",
        "\n",
        "\n",
        "```\n",
        "exit() \n",
        "```\n",
        "or ctrl+z\n",
        "\n",
        "\n"
      ]
    },
    {
      "cell_type": "code",
      "metadata": {
        "id": "QuvGpcxtGk9P",
        "colab_type": "code",
        "colab": {
          "base_uri": "https://localhost:8080/",
          "height": 35
        },
        "outputId": "abd698a0-d51c-40dc-9334-7c885fa6dd40"
      },
      "source": [
        " print(\"Hello, World!\") "
      ],
      "execution_count": 3,
      "outputs": [
        {
          "output_type": "stream",
          "text": [
            "Hello, World!\n"
          ],
          "name": "stdout"
        }
      ]
    },
    {
      "cell_type": "code",
      "metadata": {
        "id": "qinAN85-HduQ",
        "colab_type": "code",
        "colab": {}
      },
      "source": [
        "#you can create a python file using the .py file extension, and running it in the Command Line:"
      ],
      "execution_count": null,
      "outputs": []
    },
    {
      "cell_type": "markdown",
      "metadata": {
        "id": "e2O5UP7fHwv3",
        "colab_type": "text"
      },
      "source": [
        "\n",
        "\n",
        "```\n",
        "C:\\Users\\Your Name>python myfile.py \n",
        "```\n",
        "\n"
      ]
    }
  ]
}