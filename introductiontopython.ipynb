{
  "nbformat": 4,
  "nbformat_minor": 0,
  "metadata": {
    "colab": {
      "name": "introductiontopython.ipynb",
      "provenance": [],
      "collapsed_sections": [],
      "authorship_tag": "ABX9TyOzwVZfUIRNgqSD966o1vET",
      "include_colab_link": true
    },
    "kernelspec": {
      "name": "python3",
      "display_name": "Python 3"
    }
  },
  "cells": [
    {
      "cell_type": "markdown",
      "metadata": {
        "id": "view-in-github",
        "colab_type": "text"
      },
      "source": [
        "<a href=\"https://colab.research.google.com/github/DataScienceEastAfrica/introductionToPythonCourse/blob/master/introductiontopython.ipynb\" target=\"_parent\"><img src=\"https://colab.research.google.com/assets/colab-badge.svg\" alt=\"Open In Colab\"/></a>"
      ]
    },
    {
      "cell_type": "markdown",
      "metadata": {
        "id": "_r4gEpa709fl",
        "colab_type": "text"
      },
      "source": [
        "This course has borrowed from other resources and tries to make your learning as smoooth as possible:\n",
        "Course outline\n",
        "\n",
        "\n",
        "```\n",
        "1. Getting started\n",
        "2. Syntax\n",
        "3. Comments\n",
        "4. Variables\n",
        "5. Data Types\n",
        "6. Numbers\n",
        "7. strings\n",
        "8. casting\n",
        "9. Booleans \n",
        "10. operators\n",
        "11. List\n",
        "12. Tuples\n",
        "13. Sets\n",
        "14. Dictionaries\n",
        "15. If....Else\n",
        "16. While Loops\n",
        "17. For Loops\n",
        "18. Functions\n",
        "19. Lambda\n",
        "19. Arrays\n",
        "20. Classes/Objects\n",
        "21. Inheritance\n",
        "22. Iterators\n",
        "23. Scope\n",
        "24. Modules\n",
        "25. Dates\n",
        "26. Math\n",
        "27. JSON\n",
        "28. RegEx\n",
        "29. Pip\n",
        "30. Try...Except\n",
        "31. User Input\n",
        "32. String formatting\n",
        "\n",
        "```\n",
        "\n"
      ]
    },
    {
      "cell_type": "markdown",
      "metadata": {
        "id": "YqNs_7G74aXl",
        "colab_type": "text"
      },
      "source": [
        "**Introduction to Python**\n",
        "\n",
        "Python is a popular programming language. It was created by **Guido van Rossum**, and released in 1991.\n",
        "\n",
        "**It is used for**:\n",
        "\n",
        "    web development (server-side),\n",
        "    software development,\n",
        "    mathematics,\n",
        "    system scripting.\n",
        "\n",
        "**What can Python do?**\n",
        "\n",
        "    Python can be used on a server to create web applications.\n",
        "    Python can be used alongside software to create workflows.\n",
        "    Python can connect to database systems. It can also read and modify files.\n",
        "    Python can be used to handle big data and perform complex mathematics.\n",
        "    Python can be used for rapid prototyping, or for production-ready software development.\n",
        "\n",
        "**Why Python?**\n",
        "\n",
        "    Python works on different platforms (Windows, Mac, Linux, Raspberry Pi, etc).\n",
        "    Python has a simple syntax similar to the English language.\n",
        "    Python has syntax that allows developers to write programs with fewer lines than some other programming languages.\n",
        "    Python runs on an interpreter system, meaning that code can be executed as soon as it is written. This means that prototyping can be very quick.\n",
        "    Python can be treated in a procedural way, an object-orientated way or a functional way.\n",
        "\n",
        "**Good to know**\n",
        "\n",
        "    The most recent major version of Python is Python 3, which we shall be using in this tutorial. However, Python 2, although not being updated with anything other than security updates, is still quite popular.\n",
        "    In this tutorial Python will be written in a text editor. It is possible to write Python in an Integrated Development Environment, such as Thonny, Pycharm, Netbeans or Eclipse which are particularly useful when managing larger collections of Python files.\n",
        "\n",
        "**Python Syntax compared to other programming languages**\n",
        "\n",
        "    Python was designed for readability, and has some similarities to the English language with influence from mathematics.\n",
        "    Python uses new lines to complete a command, as opposed to other programming languages which often use semicolons or parentheses.\n",
        "    Python relies on indentation, using whitespace, to define scope; such as the scope of loops, functions and classes. Other programming languages often use curly-brackets for this purpose.\n"
      ]
    },
    {
      "cell_type": "markdown",
      "metadata": {
        "id": "oEGd0HgG5I_c",
        "colab_type": "text"
      },
      "source": [
        "1. **Getting started**\n",
        "\n",
        "Make sure that Python is installed in ur system.\n",
        "\n",
        "\n",
        "    python --version \n",
        "\n",
        "if you do not have python installed on your computer you can download it by going to:\n",
        "    \n",
        ">  https://www.python.org/\n",
        "\n",
        "make sure that you have python 3 installed we will you it throught this course.(python is free)\n"
      ]
    },
    {
      "cell_type": "markdown",
      "metadata": {
        "id": "PymCUYo380ct",
        "colab_type": "text"
      },
      "source": [
        "Write your first code its really easy go to ur terminal if you are in linux or Bash if you are in windows and type: \n",
        "\n",
        "```\n",
        "python \n",
        "```\n",
        "\n",
        "```\n",
        "david@david-Inspiron:~/Desktop/datascience$ python\n",
        "\n",
        "Python 2.7.17 (default, Jul 20 2020, 15:37:01) \n",
        "[GCC 7.5.0] on linux2\n",
        "Type \"help\", \"copyright\", \"credits\" or \"license\" for more information.\n",
        ">>> print(\"Hello, World!\")\n",
        "Hello, World! \n",
        "```\n",
        "\n",
        "```\n",
        "exit() \n",
        "```\n",
        "or ctrl+z\n",
        "\n",
        "\n"
      ]
    },
    {
      "cell_type": "code",
      "metadata": {
        "id": "QuvGpcxtGk9P",
        "colab_type": "code",
        "colab": {
          "base_uri": "https://localhost:8080/",
          "height": 35
        },
        "outputId": "abd698a0-d51c-40dc-9334-7c885fa6dd40"
      },
      "source": [
        " print(\"Hello, World!\") "
      ],
      "execution_count": null,
      "outputs": [
        {
          "output_type": "stream",
          "text": [
            "Hello, World!\n"
          ],
          "name": "stdout"
        }
      ]
    },
    {
      "cell_type": "code",
      "metadata": {
        "id": "qinAN85-HduQ",
        "colab_type": "code",
        "colab": {}
      },
      "source": [
        "#you can create a python file using the .py file extension, and running it in the Command Line:"
      ],
      "execution_count": null,
      "outputs": []
    },
    {
      "cell_type": "markdown",
      "metadata": {
        "id": "e2O5UP7fHwv3",
        "colab_type": "text"
      },
      "source": [
        "\n",
        "\n",
        "```\n",
        "C:\\Users\\Your Name>python myfile.py \n",
        "```\n",
        "\n"
      ]
    },
    {
      "cell_type": "markdown",
      "metadata": {
        "id": "mt-qKFFuJlr_",
        "colab_type": "text"
      },
      "source": [
        "2. **Syntax**\n",
        "\n",
        "**Indentation**\n",
        "\n",
        "```\n",
        "Indentation refers to the spaces at the beginning of a code line.\n",
        "Where in other programming languages the indentation in code is for readability only, the indentation in Python is very important.\n",
        "Python uses indentation to indicate a block of code.\n",
        "```\n"
      ]
    },
    {
      "cell_type": "code",
      "metadata": {
        "id": "F-dHFSkKKC8_",
        "colab_type": "code",
        "colab": {
          "base_uri": "https://localhost:8080/",
          "height": 35
        },
        "outputId": "595b3405-ee79-4fa1-e030-4899592355a9"
      },
      "source": [
        "if 10 > 1:\n",
        "  print(\"Ten is greater than one!\")"
      ],
      "execution_count": null,
      "outputs": [
        {
          "output_type": "stream",
          "text": [
            "Ten is greater than one!\n"
          ],
          "name": "stdout"
        }
      ]
    },
    {
      "cell_type": "markdown",
      "metadata": {
        "id": "g-rkDg4DKT1_",
        "colab_type": "text"
      },
      "source": [
        "\n",
        "\n",
        "```\n",
        "Python will give you an error if you skip the indentation:\n",
        "```\n",
        "\n"
      ]
    },
    {
      "cell_type": "code",
      "metadata": {
        "id": "Qpzgslw-KYjY",
        "colab_type": "code",
        "colab": {
          "base_uri": "https://localhost:8080/",
          "height": 137
        },
        "outputId": "a178dd67-1c1f-4a9f-b98c-80f9a9b28dac"
      },
      "source": [
        "if 5 > 2:\n",
        "print(\"Five is greater than two!\")"
      ],
      "execution_count": null,
      "outputs": [
        {
          "output_type": "error",
          "ename": "IndentationError",
          "evalue": "ignored",
          "traceback": [
            "\u001b[0;36m  File \u001b[0;32m\"<ipython-input-6-a314491c53bb>\"\u001b[0;36m, line \u001b[0;32m2\u001b[0m\n\u001b[0;31m    print(\"Five is greater than two!\")\u001b[0m\n\u001b[0m        ^\u001b[0m\n\u001b[0;31mIndentationError\u001b[0m\u001b[0;31m:\u001b[0m expected an indented block\n"
          ]
        }
      ]
    },
    {
      "cell_type": "markdown",
      "metadata": {
        "id": "4tT-EeI4KlHg",
        "colab_type": "text"
      },
      "source": [
        "**Variables**\n",
        "\n",
        "*In Python, variables are created when you assign a value to it*:\n",
        "\n",
        "\n"
      ]
    },
    {
      "cell_type": "code",
      "metadata": {
        "id": "yakLF4vEKqAG",
        "colab_type": "code",
        "colab": {}
      },
      "source": [
        "x = 5\n",
        "y = \"Hello, World!\""
      ],
      "execution_count": 5,
      "outputs": []
    },
    {
      "cell_type": "code",
      "metadata": {
        "id": "xd-QGBzbLCft",
        "colab_type": "code",
        "colab": {
          "base_uri": "https://localhost:8080/",
          "height": 35
        },
        "outputId": "252e8d4c-3d4c-4254-a5de-fe70a856f11f"
      },
      "source": [
        "print(x)"
      ],
      "execution_count": 6,
      "outputs": [
        {
          "output_type": "stream",
          "text": [
            "5\n"
          ],
          "name": "stdout"
        }
      ]
    },
    {
      "cell_type": "code",
      "metadata": {
        "id": "BU8xiBD5LDpY",
        "colab_type": "code",
        "colab": {
          "base_uri": "https://localhost:8080/",
          "height": 35
        },
        "outputId": "284a0e62-bb15-4436-87db-131e5f1e9e92"
      },
      "source": [
        "print(y)"
      ],
      "execution_count": 7,
      "outputs": [
        {
          "output_type": "stream",
          "text": [
            "Hello, World!\n"
          ],
          "name": "stdout"
        }
      ]
    },
    {
      "cell_type": "markdown",
      "metadata": {
        "id": "M8MeOTKrLLHw",
        "colab_type": "text"
      },
      "source": [
        "\n",
        "\n",
        "\n",
        "\n",
        "**Comments**\n",
        "\n",
        "\n",
        "*Python has commenting capability for the purpose of in-code documentation*.\n",
        "\n",
        "*Comments start with a #, and Python will render the rest of the line as a comment*: \n",
        "\n",
        "\n",
        "\n"
      ]
    },
    {
      "cell_type": "code",
      "metadata": {
        "id": "2CA7agJgLWoK",
        "colab_type": "code",
        "colab": {
          "base_uri": "https://localhost:8080/",
          "height": 35
        },
        "outputId": "5ac4633a-86a8-47b2-bf40-0ff47dd34f14"
      },
      "source": [
        "#This is a comment.\n",
        "print(\"Hello, World!\")"
      ],
      "execution_count": null,
      "outputs": [
        {
          "output_type": "stream",
          "text": [
            "Hello, World!\n"
          ],
          "name": "stdout"
        }
      ]
    },
    {
      "cell_type": "markdown",
      "metadata": {
        "id": "c633-39knAo4",
        "colab_type": "text"
      },
      "source": [
        "3. **Comments**\n",
        "\n",
        "```\n",
        "Comments can be used to explain Python code.\n",
        "\n",
        "Comments can be used to make the code more readable.\n",
        "\n",
        "Comments can be used to prevent execution when testing code.\n",
        "```\n",
        "\n",
        "**Creating a Comment**\n",
        "\n",
        "*Comments starts with a #, and Python will ignore them:*\n",
        "\n"
      ]
    },
    {
      "cell_type": "code",
      "metadata": {
        "id": "FOpDkjkBnknI",
        "colab_type": "code",
        "colab": {
          "base_uri": "https://localhost:8080/",
          "height": 35
        },
        "outputId": "f1ea5f6b-f8c7-4e99-ef22-196fae4b9621"
      },
      "source": [
        "#This is a comment\n",
        "print(\"Hello, World!\")"
      ],
      "execution_count": 1,
      "outputs": [
        {
          "output_type": "stream",
          "text": [
            "Hello, World!\n"
          ],
          "name": "stdout"
        }
      ]
    },
    {
      "cell_type": "code",
      "metadata": {
        "id": "iRbt1hT1n3Oc",
        "colab_type": "code",
        "colab": {}
      },
      "source": [
        "*Comments can be placed at the end of a line, and Python will ignore the rest of the line:*"
      ],
      "execution_count": null,
      "outputs": []
    },
    {
      "cell_type": "code",
      "metadata": {
        "id": "Vnup5z_nn9tv",
        "colab_type": "code",
        "colab": {
          "base_uri": "https://localhost:8080/",
          "height": 35
        },
        "outputId": "5b3fc5cb-19d2-41cf-cb3e-808bf5609a09"
      },
      "source": [
        " print(\"Hello, World!\") #This is a comment "
      ],
      "execution_count": 2,
      "outputs": [
        {
          "output_type": "stream",
          "text": [
            "Hello, World!\n"
          ],
          "name": "stdout"
        }
      ]
    },
    {
      "cell_type": "markdown",
      "metadata": {
        "id": "3-r_pkpZoIrd",
        "colab_type": "text"
      },
      "source": [
        "**Comments can also be used to prevent Python from executing code:**"
      ]
    },
    {
      "cell_type": "code",
      "metadata": {
        "id": "w-CjR2F8oP8a",
        "colab_type": "code",
        "colab": {}
      },
      "source": [
        "#print(\"Hello, World!\")\n",
        "print(\"Hello, there !\") "
      ],
      "execution_count": null,
      "outputs": []
    },
    {
      "cell_type": "markdown",
      "metadata": {
        "id": "JvzEOXp3ogle",
        "colab_type": "text"
      },
      "source": [
        "**Multi Line Comments**\n",
        "\n",
        "*Python does not really have a syntax for multi line comments*.\n",
        "\n",
        "*To add a multiline comment you could insert a # for each line:*"
      ]
    },
    {
      "cell_type": "code",
      "metadata": {
        "id": "9Rpw7Agaoy-X",
        "colab_type": "code",
        "colab": {
          "base_uri": "https://localhost:8080/",
          "height": 35
        },
        "outputId": "6d4d19eb-8dcf-4c04-91a1-fb2ad6ab2bf7"
      },
      "source": [
        "#This is a comment\n",
        "#written in\n",
        "#more than just one line\n",
        "print(\"Hello, World!\")"
      ],
      "execution_count": 3,
      "outputs": [
        {
          "output_type": "stream",
          "text": [
            "Hello, World!\n"
          ],
          "name": "stdout"
        }
      ]
    },
    {
      "cell_type": "markdown",
      "metadata": {
        "id": "ODOl_0Ouo99n",
        "colab_type": "text"
      },
      "source": [
        "**Or you can use a multiline string.**\n",
        "\n",
        "**Since Python will ignore string literals that are not assigned to a variable**, *you can add a multiline string (triple quotes) in your code, and place your comment inside it*:"
      ]
    },
    {
      "cell_type": "code",
      "metadata": {
        "id": "F4vpM39jpVpD",
        "colab_type": "code",
        "colab": {
          "base_uri": "https://localhost:8080/",
          "height": 35
        },
        "outputId": "d3944684-8572-4e11-b9a7-4d417265a19a"
      },
      "source": [
        "\"\"\"\n",
        "This is a comment\n",
        "written in\n",
        "more than just one line\n",
        "\"\"\"\n",
        "print(\"Hello, World!\") "
      ],
      "execution_count": 4,
      "outputs": [
        {
          "output_type": "stream",
          "text": [
            "Hello, World!\n"
          ],
          "name": "stdout"
        }
      ]
    },
    {
      "cell_type": "markdown",
      "metadata": {
        "id": "TMaLANx3piAv",
        "colab_type": "text"
      },
      "source": [
        "4.  **Variables**\n",
        "\n",
        "**Creating Variables**\n",
        "\n",
        "**Variables are containers for storing data values.**\n",
        "*Unlike other programming languages, **Python has no command for declaring a variable**.*\n",
        "*A variable is created the moment you first assign a value to it.*"
      ]
    },
    {
      "cell_type": "code",
      "metadata": {
        "id": "ghnNXpiXq9Hy",
        "colab_type": "code",
        "colab": {}
      },
      "source": [
        "x = 5\n",
        "y = \"John\"\n",
        "print(x)\n",
        "print(y)"
      ],
      "execution_count": null,
      "outputs": []
    }
  ]
}