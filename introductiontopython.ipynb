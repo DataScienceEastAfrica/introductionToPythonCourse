{
  "nbformat": 4,
  "nbformat_minor": 0,
  "metadata": {
    "colab": {
      "name": "introductiontopython.ipynb",
      "provenance": [],
      "collapsed_sections": [],
      "authorship_tag": "ABX9TyMrO+5jCB0VtcsTAAHBCWR8",
      "include_colab_link": true
    },
    "kernelspec": {
      "name": "python3",
      "display_name": "Python 3"
    }
  },
  "cells": [
    {
      "cell_type": "markdown",
      "metadata": {
        "id": "view-in-github",
        "colab_type": "text"
      },
      "source": [
        "<a href=\"https://colab.research.google.com/github/DataScienceEastAfrica/introductionToPythonCourse/blob/master/introductiontopython.ipynb\" target=\"_parent\"><img src=\"https://colab.research.google.com/assets/colab-badge.svg\" alt=\"Open In Colab\"/></a>"
      ]
    },
    {
      "cell_type": "markdown",
      "metadata": {
        "id": "_r4gEpa709fl",
        "colab_type": "text"
      },
      "source": [
        "This course has borrowed from other resources and tries to make your learning as smoooth as possible:\n",
        "Course outline\n",
        "\n",
        "\n",
        "```\n",
        "Introduction\n",
        "1. Getting started\n",
        "2. Syntax\n",
        "3. Comments\n",
        "4. Variables\n",
        "\n",
        "Data Types\n",
        "\n",
        "5. Data Types\n",
        "6. Numbers\n",
        "7. strings\n",
        "8. casting\n",
        "9. Booleans \n",
        "10. operators\n",
        "\n",
        "Data structures\n",
        "\n",
        "11. List\n",
        "12. Tuples\n",
        "13. Sets\n",
        "14. Dictionaries\n",
        "\n",
        "Control flow tools/Loops\n",
        "\n",
        "15. If....Else\n",
        "16. While Loops\n",
        "17. For Loops\n",
        "\n",
        "Functions\n",
        "18. Functions\n",
        "19. Lambda\n",
        "```\n",
        "\n"
      ]
    },
    {
      "cell_type": "markdown",
      "metadata": {
        "id": "YqNs_7G74aXl",
        "colab_type": "text"
      },
      "source": [
        "**Introduction to Python**\n",
        "\n",
        "Python is a popular programming language. It was created by **Guido van Rossum**, and released in 1991.\n",
        "\n",
        "**It is used for**:\n",
        "\n",
        "    web development (server-side),\n",
        "    software development,\n",
        "    mathematics,\n",
        "    system scripting.\n",
        "\n",
        "**What can Python do?**\n",
        "\n",
        "    Python can be used on a server to create web applications.\n",
        "    Python can be used alongside software to create workflows.\n",
        "    Python can connect to database systems. It can also read and modify files.\n",
        "    Python can be used to handle big data and perform complex mathematics.\n",
        "    Python can be used for rapid prototyping, or for production-ready software development.\n",
        "\n",
        "**Why Python?**\n",
        "\n",
        "    Python works on different platforms (Windows, Mac, Linux, Raspberry Pi, etc).\n",
        "    Python has a simple syntax similar to the English language.\n",
        "    Python has syntax that allows developers to write programs with fewer lines than some other programming languages.\n",
        "    Python runs on an interpreter system, meaning that code can be executed as soon as it is written. This means that prototyping can be very quick.\n",
        "    Python can be treated in a procedural way, an object-orientated way or a functional way.\n",
        "\n",
        "**Good to know**\n",
        "\n",
        "    The most recent major version of Python is Python 3, which we shall be using in this tutorial. However, Python 2, although not being updated with anything other than security updates, is still quite popular.\n",
        "    In this tutorial Python will be written in a text editor. It is possible to write Python in an Integrated Development Environment, such as Thonny, Pycharm, Netbeans or Eclipse which are particularly useful when managing larger collections of Python files.\n",
        "\n",
        "**Python Syntax compared to other programming languages**\n",
        "\n",
        "    Python was designed for readability, and has some similarities to the English language with influence from mathematics.\n",
        "    Python uses new lines to complete a command, as opposed to other programming languages which often use semicolons or parentheses.\n",
        "    Python relies on indentation, using whitespace, to define scope; such as the scope of loops, functions and classes. Other programming languages often use curly-brackets for this purpose.\n"
      ]
    },
    {
      "cell_type": "markdown",
      "metadata": {
        "id": "oEGd0HgG5I_c",
        "colab_type": "text"
      },
      "source": [
        "# a) **Getting started**\n",
        "\n",
        "Make sure that Python is installed in ur system.\n",
        "\n",
        "\n",
        "    python --version \n",
        "\n",
        "if you do not have python installed on your computer you can download it by going to:\n",
        "    \n",
        ">  https://www.python.org/\n",
        "\n",
        "make sure that you have python 3 installed we will you it throught this course.(python is free)\n"
      ]
    },
    {
      "cell_type": "markdown",
      "metadata": {
        "id": "PymCUYo380ct",
        "colab_type": "text"
      },
      "source": [
        "Write your first code its really easy go to ur terminal if you are in linux or Bash if you are in windows and type: \n",
        "\n",
        "```\n",
        "python \n",
        "```\n",
        "\n",
        "```\n",
        "david@david-Inspiron:~/Desktop/datascience$ python\n",
        "\n",
        "Python 2.7.17 (default, Jul 20 2020, 15:37:01) \n",
        "[GCC 7.5.0] on linux2\n",
        "Type \"help\", \"copyright\", \"credits\" or \"license\" for more information.\n",
        ">>> print(\"Hello, World!\")\n",
        "Hello, World! \n",
        "```\n",
        "\n",
        "```\n",
        "exit() \n",
        "```\n",
        "or ctrl+z\n",
        "\n",
        "\n"
      ]
    },
    {
      "cell_type": "code",
      "metadata": {
        "id": "QuvGpcxtGk9P",
        "colab_type": "code",
        "colab": {
          "base_uri": "https://localhost:8080/",
          "height": 35
        },
        "outputId": "abd698a0-d51c-40dc-9334-7c885fa6dd40"
      },
      "source": [
        " print(\"Hello, World!\") "
      ],
      "execution_count": null,
      "outputs": [
        {
          "output_type": "stream",
          "text": [
            "Hello, World!\n"
          ],
          "name": "stdout"
        }
      ]
    },
    {
      "cell_type": "code",
      "metadata": {
        "id": "qinAN85-HduQ",
        "colab_type": "code",
        "colab": {}
      },
      "source": [
        "#you can create a python file using the .py file extension, and running it in the Command Line:"
      ],
      "execution_count": null,
      "outputs": []
    },
    {
      "cell_type": "markdown",
      "metadata": {
        "id": "e2O5UP7fHwv3",
        "colab_type": "text"
      },
      "source": [
        "\n",
        "\n",
        "```\n",
        "C:\\Users\\Your Name>python myfile.py \n",
        "```\n",
        "\n"
      ]
    },
    {
      "cell_type": "markdown",
      "metadata": {
        "id": "mt-qKFFuJlr_",
        "colab_type": "text"
      },
      "source": [
        "# b) **Syntax**\n",
        "\n",
        "**Indentation**\n",
        "\n",
        "```\n",
        "Indentation refers to the spaces at the beginning of a code line.\n",
        "Where in other programming languages the indentation in code is for readability only, the indentation in Python is very important.\n",
        "Python uses indentation to indicate a block of code.\n",
        "```\n"
      ]
    },
    {
      "cell_type": "code",
      "metadata": {
        "id": "F-dHFSkKKC8_",
        "colab_type": "code",
        "colab": {
          "base_uri": "https://localhost:8080/",
          "height": 35
        },
        "outputId": "0356bc3e-57ea-4e7d-f8bc-e832688bb8a5"
      },
      "source": [
        "if 10 > 1:\n",
        "  print(\"Ten is greater than one!\")"
      ],
      "execution_count": 12,
      "outputs": [
        {
          "output_type": "stream",
          "text": [
            "Ten is greater than one!\n"
          ],
          "name": "stdout"
        }
      ]
    },
    {
      "cell_type": "markdown",
      "metadata": {
        "id": "g-rkDg4DKT1_",
        "colab_type": "text"
      },
      "source": [
        "\n",
        "\n",
        "```\n",
        "Python will give you an error if you skip the indentation:\n",
        "```\n",
        "\n"
      ]
    },
    {
      "cell_type": "code",
      "metadata": {
        "id": "Qpzgslw-KYjY",
        "colab_type": "code",
        "colab": {
          "base_uri": "https://localhost:8080/",
          "height": 137
        },
        "outputId": "4b1d5d4f-2f45-458d-a325-d5b2f1f53f49"
      },
      "source": [
        "if 5 > 2:\n",
        "print(\"Five is greater than two!\")"
      ],
      "execution_count": 13,
      "outputs": [
        {
          "output_type": "error",
          "ename": "IndentationError",
          "evalue": "ignored",
          "traceback": [
            "\u001b[0;36m  File \u001b[0;32m\"<ipython-input-13-a314491c53bb>\"\u001b[0;36m, line \u001b[0;32m2\u001b[0m\n\u001b[0;31m    print(\"Five is greater than two!\")\u001b[0m\n\u001b[0m        ^\u001b[0m\n\u001b[0;31mIndentationError\u001b[0m\u001b[0;31m:\u001b[0m expected an indented block\n"
          ]
        }
      ]
    },
    {
      "cell_type": "markdown",
      "metadata": {
        "id": "4tT-EeI4KlHg",
        "colab_type": "text"
      },
      "source": [
        "**Variables**\n",
        "\n",
        "*In Python, variables are created when you assign a value to it*:\n",
        "\n",
        "\n"
      ]
    },
    {
      "cell_type": "code",
      "metadata": {
        "id": "yakLF4vEKqAG",
        "colab_type": "code",
        "colab": {}
      },
      "source": [
        "x = 5\n",
        "y = \"Hello, World!\""
      ],
      "execution_count": 5,
      "outputs": []
    },
    {
      "cell_type": "code",
      "metadata": {
        "id": "xd-QGBzbLCft",
        "colab_type": "code",
        "colab": {
          "base_uri": "https://localhost:8080/",
          "height": 35
        },
        "outputId": "252e8d4c-3d4c-4254-a5de-fe70a856f11f"
      },
      "source": [
        "print(x)"
      ],
      "execution_count": 6,
      "outputs": [
        {
          "output_type": "stream",
          "text": [
            "5\n"
          ],
          "name": "stdout"
        }
      ]
    },
    {
      "cell_type": "code",
      "metadata": {
        "id": "BU8xiBD5LDpY",
        "colab_type": "code",
        "colab": {
          "base_uri": "https://localhost:8080/",
          "height": 35
        },
        "outputId": "284a0e62-bb15-4436-87db-131e5f1e9e92"
      },
      "source": [
        "print(y)"
      ],
      "execution_count": 7,
      "outputs": [
        {
          "output_type": "stream",
          "text": [
            "Hello, World!\n"
          ],
          "name": "stdout"
        }
      ]
    },
    {
      "cell_type": "markdown",
      "metadata": {
        "id": "M8MeOTKrLLHw",
        "colab_type": "text"
      },
      "source": [
        "\n",
        "\n",
        "\n",
        "\n",
        "**Comments**\n",
        "\n",
        "\n",
        "*Python has commenting capability for the purpose of in-code documentation*.\n",
        "\n",
        "*Comments start with a #, and Python will render the rest of the line as a comment*: \n",
        "\n",
        "\n",
        "\n"
      ]
    },
    {
      "cell_type": "code",
      "metadata": {
        "id": "2CA7agJgLWoK",
        "colab_type": "code",
        "colab": {
          "base_uri": "https://localhost:8080/",
          "height": 35
        },
        "outputId": "5ac4633a-86a8-47b2-bf40-0ff47dd34f14"
      },
      "source": [
        "#This is a comment.\n",
        "print(\"Hello, World!\")"
      ],
      "execution_count": null,
      "outputs": [
        {
          "output_type": "stream",
          "text": [
            "Hello, World!\n"
          ],
          "name": "stdout"
        }
      ]
    },
    {
      "cell_type": "markdown",
      "metadata": {
        "id": "c633-39knAo4",
        "colab_type": "text"
      },
      "source": [
        "# c) **Comments**\n",
        "\n",
        "```\n",
        "Comments can be used to explain Python code.\n",
        "\n",
        "Comments can be used to make the code more readable.\n",
        "\n",
        "Comments can be used to prevent execution when testing code.\n",
        "```\n",
        "\n",
        "**Creating a Comment**\n",
        "\n",
        "*Comments starts with a #, and Python will ignore them:*\n",
        "\n"
      ]
    },
    {
      "cell_type": "code",
      "metadata": {
        "id": "FOpDkjkBnknI",
        "colab_type": "code",
        "colab": {
          "base_uri": "https://localhost:8080/",
          "height": 35
        },
        "outputId": "d4a01f88-5892-44eb-c52f-163ba4759581"
      },
      "source": [
        "#This is a comment\n",
        "print(\"Hello, World!\")"
      ],
      "execution_count": 14,
      "outputs": [
        {
          "output_type": "stream",
          "text": [
            "Hello, World!\n"
          ],
          "name": "stdout"
        }
      ]
    },
    {
      "cell_type": "code",
      "metadata": {
        "id": "iRbt1hT1n3Oc",
        "colab_type": "code",
        "colab": {}
      },
      "source": [
        "#Comments can be placed at the end of a line, and Python will ignore the rest of the line:*"
      ],
      "execution_count": null,
      "outputs": []
    },
    {
      "cell_type": "code",
      "metadata": {
        "id": "Vnup5z_nn9tv",
        "colab_type": "code",
        "colab": {
          "base_uri": "https://localhost:8080/",
          "height": 35
        },
        "outputId": "5b3fc5cb-19d2-41cf-cb3e-808bf5609a09"
      },
      "source": [
        " print(\"Hello, World!\") #This is a comment "
      ],
      "execution_count": 2,
      "outputs": [
        {
          "output_type": "stream",
          "text": [
            "Hello, World!\n"
          ],
          "name": "stdout"
        }
      ]
    },
    {
      "cell_type": "markdown",
      "metadata": {
        "id": "3-r_pkpZoIrd",
        "colab_type": "text"
      },
      "source": [
        "**Comments can also be used to prevent Python from executing code:**"
      ]
    },
    {
      "cell_type": "code",
      "metadata": {
        "id": "w-CjR2F8oP8a",
        "colab_type": "code",
        "colab": {}
      },
      "source": [
        "#print(\"Hello, World!\")\n",
        "print(\"Hello, there !\") "
      ],
      "execution_count": null,
      "outputs": []
    },
    {
      "cell_type": "markdown",
      "metadata": {
        "id": "JvzEOXp3ogle",
        "colab_type": "text"
      },
      "source": [
        "**Multi Line Comments**\n",
        "\n",
        "*Python does not really have a syntax for multi line comments*.\n",
        "\n",
        "*To add a multiline comment you could insert a # for each line:*"
      ]
    },
    {
      "cell_type": "code",
      "metadata": {
        "id": "9Rpw7Agaoy-X",
        "colab_type": "code",
        "colab": {
          "base_uri": "https://localhost:8080/",
          "height": 35
        },
        "outputId": "6d4d19eb-8dcf-4c04-91a1-fb2ad6ab2bf7"
      },
      "source": [
        "#This is a comment\n",
        "#written in\n",
        "#more than just one line\n",
        "print(\"Hello, World!\")"
      ],
      "execution_count": 3,
      "outputs": [
        {
          "output_type": "stream",
          "text": [
            "Hello, World!\n"
          ],
          "name": "stdout"
        }
      ]
    },
    {
      "cell_type": "markdown",
      "metadata": {
        "id": "ODOl_0Ouo99n",
        "colab_type": "text"
      },
      "source": [
        "**Or you can use a multiline string.**\n",
        "\n",
        "**Since Python will ignore string literals that are not assigned to a variable**, *you can add a multiline string (triple quotes) in your code, and place your comment inside it*:"
      ]
    },
    {
      "cell_type": "code",
      "metadata": {
        "id": "F4vpM39jpVpD",
        "colab_type": "code",
        "colab": {
          "base_uri": "https://localhost:8080/",
          "height": 35
        },
        "outputId": "d3944684-8572-4e11-b9a7-4d417265a19a"
      },
      "source": [
        "\"\"\"\n",
        "This is a comment\n",
        "written in\n",
        "more than just one line\n",
        "\"\"\"\n",
        "print(\"Hello, World!\") "
      ],
      "execution_count": 4,
      "outputs": [
        {
          "output_type": "stream",
          "text": [
            "Hello, World!\n"
          ],
          "name": "stdout"
        }
      ]
    },
    {
      "cell_type": "markdown",
      "metadata": {
        "id": "TMaLANx3piAv",
        "colab_type": "text"
      },
      "source": [
        "# d)  **Variables**\n",
        "\n",
        "**Creating Variables**\n",
        "\n",
        "**Variables are containers for storing data values.**\n",
        "*Unlike other programming languages, **Python has no command for declaring a variable**.*\n",
        "*A variable is created the moment you first assign a value to it.*"
      ]
    },
    {
      "cell_type": "code",
      "metadata": {
        "id": "ghnNXpiXq9Hy",
        "colab_type": "code",
        "colab": {
          "base_uri": "https://localhost:8080/",
          "height": 54
        },
        "outputId": "480c8d0b-db53-4009-e2d0-8f09017f6ceb"
      },
      "source": [
        "x = 5\n",
        "y = \"Kinyua\"\n",
        "print(x)\n",
        "print(y)"
      ],
      "execution_count": 15,
      "outputs": [
        {
          "output_type": "stream",
          "text": [
            "5\n",
            "Kinyua\n"
          ],
          "name": "stdout"
        }
      ]
    },
    {
      "cell_type": "markdown",
      "metadata": {
        "id": "_VU1nWLszT17",
        "colab_type": "text"
      },
      "source": [
        "**Variables do not need to be declared with any particular type and can even change type after they have been set.**"
      ]
    },
    {
      "cell_type": "code",
      "metadata": {
        "id": "39PI2fmNzfMZ",
        "colab_type": "code",
        "colab": {
          "base_uri": "https://localhost:8080/",
          "height": 35
        },
        "outputId": "4f608a0d-ad9e-47d4-ec2a-eb539e3c1c9b"
      },
      "source": [
        "x = 4 # x is of type int\n",
        "x = \"Joan\" # x is now of type str\n",
        "print(x)"
      ],
      "execution_count": 16,
      "outputs": [
        {
          "output_type": "stream",
          "text": [
            "Joan\n"
          ],
          "name": "stdout"
        }
      ]
    },
    {
      "cell_type": "markdown",
      "metadata": {
        "id": "pK5yJBdIzlMd",
        "colab_type": "text"
      },
      "source": [
        "**String variables can be declared either by using single or double quotes:**"
      ]
    },
    {
      "cell_type": "code",
      "metadata": {
        "id": "COYKh1ftznPw",
        "colab_type": "code",
        "colab": {}
      },
      "source": [
        "x = \"David\"\n",
        "# is the same as\n",
        "x = 'Kmani'"
      ],
      "execution_count": 17,
      "outputs": []
    },
    {
      "cell_type": "markdown",
      "metadata": {
        "id": "-MCjQuEgz4IM",
        "colab_type": "text"
      },
      "source": [
        "**Variable Names**\n",
        "\n",
        "**A variable can have a short name (like x and y) or a more descriptive name (age, carname, total_volume). **\n",
        "\n",
        "**Rules for Python variables: **\n",
        "\n",
        "    1.A variable name must start with a letter or the underscore character\n",
        "    2.A variable name cannot start with a number\n",
        "    3.A variable name can only contain alpha-numeric characters and underscores (A-z, 0-9, and _ )\n",
        "    4.Variable names are case-sensitive (age, Age and AGE are three different variables)\n"
      ]
    },
    {
      "cell_type": "code",
      "metadata": {
        "id": "Tfhbqozz0gA8",
        "colab_type": "code",
        "colab": {}
      },
      "source": [
        "#Legal variable names:\n",
        "myvar = \"John\"\n",
        "my_var = \"John\"\n",
        "_my_var = \"John\"\n",
        "myVar = \"John\"\n",
        "MYVAR = \"John\"\n",
        "myvar2 = \"John\"\n",
        "\n",
        "#Illegal variable names:\n",
        "#2myvar = \"John\"\n",
        "#my-var = \"John\"\n",
        "#my var = \"John\""
      ],
      "execution_count": 21,
      "outputs": []
    },
    {
      "cell_type": "markdown",
      "metadata": {
        "id": "9Zc6Kmg409mq",
        "colab_type": "text"
      },
      "source": [
        "**Assign Value to Multiple Variables**"
      ]
    },
    {
      "cell_type": "code",
      "metadata": {
        "id": "M7Cvlj3W1ClL",
        "colab_type": "code",
        "colab": {
          "base_uri": "https://localhost:8080/",
          "height": 72
        },
        "outputId": "260dee81-eee3-45e2-8999-3d0f862a4fdf"
      },
      "source": [
        "x, y, z = \"Nairobi\", \"Mombasa\", \"Kisumu\"\n",
        "print(x)\n",
        "print(y)\n",
        "print(z)"
      ],
      "execution_count": 19,
      "outputs": [
        {
          "output_type": "stream",
          "text": [
            "Nairobi\n",
            "Mombasa\n",
            "Kisumu\n"
          ],
          "name": "stdout"
        }
      ]
    },
    {
      "cell_type": "markdown",
      "metadata": {
        "id": "tQxJ2guh1T5S",
        "colab_type": "text"
      },
      "source": [
        ""
      ]
    },
    {
      "cell_type": "markdown",
      "metadata": {
        "id": "LfER4JSv1UMY",
        "colab_type": "text"
      },
      "source": [
        "**you can also assign the same value to multiple variables in one line:**"
      ]
    },
    {
      "cell_type": "code",
      "metadata": {
        "id": "Ozx75QCJ1dtt",
        "colab_type": "code",
        "colab": {
          "base_uri": "https://localhost:8080/",
          "height": 72
        },
        "outputId": "cf13f78e-13fd-4d7f-dbd7-69a2e9904d31"
      },
      "source": [
        " x = y = z = \"Orange\"\n",
        "print(x)\n",
        "print(y)\n",
        "print(z)"
      ],
      "execution_count": 20,
      "outputs": [
        {
          "output_type": "stream",
          "text": [
            "Orange\n",
            "Orange\n",
            "Orange\n"
          ],
          "name": "stdout"
        }
      ]
    },
    {
      "cell_type": "markdown",
      "metadata": {
        "id": "GnQ0x6_v1h1C",
        "colab_type": "text"
      },
      "source": [
        "**Output Variables**\n",
        "\n",
        "*The Python print statement is often used to output variables.*"
      ]
    },
    {
      "cell_type": "code",
      "metadata": {
        "id": "3JNKfJFq1tH7",
        "colab_type": "code",
        "colab": {
          "base_uri": "https://localhost:8080/",
          "height": 35
        },
        "outputId": "b5b50061-d96a-4891-9809-86cd800126d6"
      },
      "source": [
        "x = \"Cool\"\n",
        "print(\"Lux academy is \" + x)"
      ],
      "execution_count": 22,
      "outputs": [
        {
          "output_type": "stream",
          "text": [
            "Lux academy is Cool\n"
          ],
          "name": "stdout"
        }
      ]
    },
    {
      "cell_type": "markdown",
      "metadata": {
        "id": "i_LKLGNf2Eu8",
        "colab_type": "text"
      },
      "source": [
        "**To combine both text and a variable, Python uses the + character:**\n",
        "\n",
        "**You can also use the + character to add a variable to another variable:**"
      ]
    },
    {
      "cell_type": "code",
      "metadata": {
        "id": "bzI3HBcf2Ob6",
        "colab_type": "code",
        "colab": {
          "base_uri": "https://localhost:8080/",
          "height": 35
        },
        "outputId": "7ce533d9-10e9-42d3-a1ac-214e82fd5923"
      },
      "source": [
        "x = \"Nairobi is \"\n",
        "y = \"the capital city of kenya\"\n",
        "z =  x + y\n",
        "print(z)"
      ],
      "execution_count": 23,
      "outputs": [
        {
          "output_type": "stream",
          "text": [
            "Nairobi is the capital city of kenya\n"
          ],
          "name": "stdout"
        }
      ]
    },
    {
      "cell_type": "markdown",
      "metadata": {
        "id": "YydVtnK22fAE",
        "colab_type": "text"
      },
      "source": [
        "**For numbers, the + character works as a mathematical operator:**"
      ]
    },
    {
      "cell_type": "code",
      "metadata": {
        "id": "9_DfOpvD2ibK",
        "colab_type": "code",
        "colab": {
          "base_uri": "https://localhost:8080/",
          "height": 35
        },
        "outputId": "75d6d900-08ef-4637-b436-fef81084f360"
      },
      "source": [
        "x = 100\n",
        "y = 465\n",
        "print(x + y)"
      ],
      "execution_count": 24,
      "outputs": [
        {
          "output_type": "stream",
          "text": [
            "565\n"
          ],
          "name": "stdout"
        }
      ]
    },
    {
      "cell_type": "markdown",
      "metadata": {
        "id": "KFjzyptX2t-Y",
        "colab_type": "text"
      },
      "source": [
        "**If you try to combine a string and a number, Python will give you an error:**"
      ]
    },
    {
      "cell_type": "code",
      "metadata": {
        "id": "C_W4lFVY2wPL",
        "colab_type": "code",
        "colab": {
          "base_uri": "https://localhost:8080/",
          "height": 211
        },
        "outputId": "bc90a043-15f7-4c12-dc5a-29c79a4da711"
      },
      "source": [
        "x = 20\n",
        "y = \"David\"\n",
        "print(x + y)"
      ],
      "execution_count": 25,
      "outputs": [
        {
          "output_type": "error",
          "ename": "TypeError",
          "evalue": "ignored",
          "traceback": [
            "\u001b[0;31m---------------------------------------------------------------------------\u001b[0m",
            "\u001b[0;31mTypeError\u001b[0m                                 Traceback (most recent call last)",
            "\u001b[0;32m<ipython-input-25-586c23a607dc>\u001b[0m in \u001b[0;36m<module>\u001b[0;34m()\u001b[0m\n\u001b[1;32m      1\u001b[0m \u001b[0mx\u001b[0m \u001b[0;34m=\u001b[0m \u001b[0;36m20\u001b[0m\u001b[0;34m\u001b[0m\u001b[0;34m\u001b[0m\u001b[0m\n\u001b[1;32m      2\u001b[0m \u001b[0my\u001b[0m \u001b[0;34m=\u001b[0m \u001b[0;34m\"David\"\u001b[0m\u001b[0;34m\u001b[0m\u001b[0;34m\u001b[0m\u001b[0m\n\u001b[0;32m----> 3\u001b[0;31m \u001b[0mprint\u001b[0m\u001b[0;34m(\u001b[0m\u001b[0mx\u001b[0m \u001b[0;34m+\u001b[0m \u001b[0my\u001b[0m\u001b[0;34m)\u001b[0m\u001b[0;34m\u001b[0m\u001b[0;34m\u001b[0m\u001b[0m\n\u001b[0m",
            "\u001b[0;31mTypeError\u001b[0m: unsupported operand type(s) for +: 'int' and 'str'"
          ]
        }
      ]
    },
    {
      "cell_type": "markdown",
      "metadata": {
        "id": "hIQqGbSN28vA",
        "colab_type": "text"
      },
      "source": [
        "**Global Variables**\n",
        "\n",
        "**Variables that are created outside of a function (as in all of the examples above) are known as global variables.** *Dont worry i know you are wondering why is david talking about fuctions and we havent reach there, do you worry i got you*"
      ]
    },
    {
      "cell_type": "markdown",
      "metadata": {
        "id": "4CX-DwKq3gu5",
        "colab_type": "text"
      },
      "source": [
        "**Global variables can be used by everyone, both inside of functions and outside.**"
      ]
    },
    {
      "cell_type": "code",
      "metadata": {
        "id": "gFil8Uqw3nPQ",
        "colab_type": "code",
        "colab": {
          "base_uri": "https://localhost:8080/",
          "height": 35
        },
        "outputId": "4ce4b2a4-b486-4022-f373-6ca87c90b6d7"
      },
      "source": [
        "#Create a variable outside of a function, and use it inside the function\n",
        "\n",
        "x = \"Cool\"\n",
        "\n",
        "def myfunc():\n",
        "  print(\"Lux academy is \" + x)\n",
        "\n",
        "myfunc() "
      ],
      "execution_count": 26,
      "outputs": [
        {
          "output_type": "stream",
          "text": [
            "Lux academy is Cool\n"
          ],
          "name": "stdout"
        }
      ]
    },
    {
      "cell_type": "markdown",
      "metadata": {
        "id": "xnFycfq04ACN",
        "colab_type": "text"
      },
      "source": [
        "**If you create a variable with the same name inside a function, this variable will be local, and can only be used inside the function. The global variable with the same name will remain as it was, global and with the original value.**"
      ]
    },
    {
      "cell_type": "code",
      "metadata": {
        "id": "xGsc8Q7U4Dzk",
        "colab_type": "code",
        "colab": {
          "base_uri": "https://localhost:8080/",
          "height": 54
        },
        "outputId": "7fb0677f-c87f-485c-edc0-465d43491ba5"
      },
      "source": [
        "#Create a variable inside a function, with the same name as the global variable\n",
        "x = \"awesome\"\n",
        "\n",
        "def myfunc():\n",
        "  x = \"fantastic\"\n",
        "  print(\"Lux academy is \" + x)\n",
        "\n",
        "myfunc()\n",
        "\n",
        "print(\"Lux academy is \" + x) "
      ],
      "execution_count": 27,
      "outputs": [
        {
          "output_type": "stream",
          "text": [
            "Lux academy is fantastic\n",
            "Lux academy is awesome\n"
          ],
          "name": "stdout"
        }
      ]
    },
    {
      "cell_type": "markdown",
      "metadata": {
        "id": "88aDbZP34c-M",
        "colab_type": "text"
      },
      "source": [
        "**The global Keyword**\n",
        "\n",
        "**Normally, when you create a variable inside a function, that variable is local, and can only be used inside that function.**\n",
        "\n",
        "**To create a global variable inside a function, you can use the global keyword.**"
      ]
    },
    {
      "cell_type": "code",
      "metadata": {
        "id": "SgNFffvN4sua",
        "colab_type": "code",
        "colab": {
          "base_uri": "https://localhost:8080/",
          "height": 35
        },
        "outputId": "187a036f-e40e-414e-af39-430b3589b7ba"
      },
      "source": [
        "#When the global keyword is used, the variable belongs to the global scope:\n",
        "\n",
        "def myfunc():\n",
        "  global x\n",
        "  x = \"fantastic\"\n",
        "\n",
        "myfunc()\n",
        "\n",
        "print(\"Lux academy is \" + x) "
      ],
      "execution_count": 28,
      "outputs": [
        {
          "output_type": "stream",
          "text": [
            "Lux academy is fantastic\n"
          ],
          "name": "stdout"
        }
      ]
    },
    {
      "cell_type": "markdown",
      "metadata": {
        "id": "4ZsRgB_j5NCi",
        "colab_type": "text"
      },
      "source": [
        "**Also, use the global keyword if you want to change a global variable inside a function.**"
      ]
    },
    {
      "cell_type": "code",
      "metadata": {
        "id": "A8BaZBnX5PAa",
        "colab_type": "code",
        "colab": {
          "base_uri": "https://localhost:8080/",
          "height": 35
        },
        "outputId": "09977a19-084c-4f5c-bcf7-85127aeee9c1"
      },
      "source": [
        "x = \"awesome\"\n",
        "\n",
        "def myfunc():\n",
        "  global x\n",
        "  x = \"fantastic\"\n",
        "\n",
        "myfunc()\n",
        "\n",
        "print(\"Lux academy is \" + x) "
      ],
      "execution_count": 29,
      "outputs": [
        {
          "output_type": "stream",
          "text": [
            "Lux academy is fantastic\n"
          ],
          "name": "stdout"
        }
      ]
    }
  ]
}