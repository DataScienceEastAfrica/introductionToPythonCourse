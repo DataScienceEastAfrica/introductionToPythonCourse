{
  "nbformat": 4,
  "nbformat_minor": 0,
  "metadata": {
    "colab": {
      "name": "DataTypes.ipynb",
      "provenance": [],
      "collapsed_sections": [],
      "authorship_tag": "ABX9TyMgjGmzQ9yfGoqHsPFVsDIc",
      "include_colab_link": true
    },
    "kernelspec": {
      "name": "python3",
      "display_name": "Python 3"
    }
  },
  "cells": [
    {
      "cell_type": "markdown",
      "metadata": {
        "id": "view-in-github",
        "colab_type": "text"
      },
      "source": [
        "<a href=\"https://colab.research.google.com/github/DataScienceEastAfrica/introductionToPythonCourse/blob/master/DataTypes.ipynb\" target=\"_parent\"><img src=\"https://colab.research.google.com/assets/colab-badge.svg\" alt=\"Open In Colab\"/></a>"
      ]
    },
    {
      "cell_type": "markdown",
      "metadata": {
        "id": "gDiav-i2aUyg",
        "colab_type": "text"
      },
      "source": [
        "# DATA TYPES\n",
        "# **e) Data Types**\n",
        "\n",
        "## **Built-in Data Types**\n",
        "\n",
        "### *Variables can store data of different types*.\n",
        "\n",
        "###**Python has the following data types built-in by default:**\n",
        "\n",
        "**Text Type**    : \tstr\n",
        "\n",
        "**Numeric Types** : \tint, float, complex\n",
        "\n",
        "**Sequence Types**: \tlist, tuple, range\n",
        "\n",
        "**Mapping Type**  : \tdict\n",
        "\n",
        "**Set Types**    : \tset, frozenset\n",
        "\n",
        "**Boolean Type**  : \tbool\n",
        "\n",
        "**Binary Types**  : \tbytes, bytearray, memoryview"
      ]
    },
    {
      "cell_type": "markdown",
      "metadata": {
        "id": "2MHwCvzxa03f",
        "colab_type": "text"
      },
      "source": [
        "### **Getting the Data Type**"
      ]
    },
    {
      "cell_type": "code",
      "metadata": {
        "id": "_KUCLFAGanPg",
        "colab_type": "code",
        "colab": {}
      },
      "source": [
        "#Print the data type of the variable x:\n",
        "x = 5\n",
        "print(type(x))"
      ],
      "execution_count": null,
      "outputs": []
    },
    {
      "cell_type": "markdown",
      "metadata": {
        "id": "fkRphTZpa72U",
        "colab_type": "text"
      },
      "source": [
        "##**Setting the Data Type**\n",
        "\n",
        "###*In Python, the data type is set when you assign a value to a variable:*\n"
      ]
    },
    {
      "cell_type": "code",
      "metadata": {
        "id": "H0zi2rqJbAFE",
        "colab_type": "code",
        "colab": {}
      },
      "source": [
        "x = \"Hello World\" \t#str\n",
        "x = 20 \t#int\n",
        "x = 20.5 \t#float\n",
        "x = 1j \t#complex\n",
        "x = [\"apple\", \"banana\", \"cherry\"] \t#list\n",
        "x = (\"apple\", \"banana\", \"cherry\") \t#tuple \t\n",
        "x = range(6) \t#range \t\n",
        "x = {\"name\" : \"John\", \"age\" : 36} \t#dict \t\n",
        "x = {\"apple\", \"banana\", \"cherry\"} \t#set \t\n",
        "x = frozenset({\"apple\", \"banana\", \"cherry\"}) \t#frozenset \t\n",
        "x = True \t#bool \t\n",
        "x = b\"Hello\" \t#bytes \t\n",
        "x = bytearray(5) \t#bytearray \t\n",
        "x = memoryview(bytes(5)) \t#memoryview"
      ],
      "execution_count": null,
      "outputs": []
    },
    {
      "cell_type": "markdown",
      "metadata": {
        "id": "o1jdBzYmbFAh",
        "colab_type": "text"
      },
      "source": [
        "# **f) Numbers**\n",
        "\n",
        "##*There are three numeric types in Python:*\n",
        "\n",
        "    int\n",
        "    float\n",
        "    complex\n",
        "\n",
        "\n"
      ]
    },
    {
      "cell_type": "code",
      "metadata": {
        "id": "6dwCZX6XbKtm",
        "colab_type": "code",
        "colab": {}
      },
      "source": [
        "x = 1    # int\n",
        "y = 3.2  # float\n",
        "z = 3j   # complex"
      ],
      "execution_count": null,
      "outputs": []
    }
  ]
}