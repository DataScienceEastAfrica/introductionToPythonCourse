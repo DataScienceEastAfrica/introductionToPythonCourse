{
  "nbformat": 4,
  "nbformat_minor": 0,
  "metadata": {
    "colab": {
      "name": "DataStructures.ipynb",
      "provenance": [],
      "collapsed_sections": [],
      "authorship_tag": "ABX9TyNAmaFDovGjGZVW1a979yxR",
      "include_colab_link": true
    },
    "kernelspec": {
      "name": "python3",
      "display_name": "Python 3"
    }
  },
  "cells": [
    {
      "cell_type": "markdown",
      "metadata": {
        "id": "view-in-github",
        "colab_type": "text"
      },
      "source": [
        "<a href=\"https://colab.research.google.com/github/DataScienceEastAfrica/introductionToPythonCourse/blob/master/DataStructures.ipynb\" target=\"_parent\"><img src=\"https://colab.research.google.com/assets/colab-badge.svg\" alt=\"Open In Colab\"/></a>"
      ]
    },
    {
      "cell_type": "markdown",
      "metadata": {
        "id": "Tq8U8zxAuYFU",
        "colab_type": "text"
      },
      "source": [
        "#**Data Structures**\n",
        "#**Lists**\n",
        "\n",
        "##**Python Collections (Arrays)**\n",
        "\n",
        "**There are four collection data types in the Python programming language:**\n",
        "\n",
        "**1. List is a collection which is ordered and changeable. Allows duplicate members.**\n",
        "\n",
        "**2. Tuple is a collection which is ordered and unchangeable. Allows duplicate members.**\n",
        "\n",
        "**3. Set is a collection which is unordered and unindexed. No duplicate members.**\n",
        "\n",
        "**4. Dictionary is a collection which is unordered, changeable and indexed. No duplicate members.**\n",
        "\n",
        "###**When choosing a collection type, it is useful to understand the properties of that type. Choosing the right type for a particular data set could mean retention of meaning, and, it could mean an increase in efficiency or security.**\n"
      ]
    },
    {
      "cell_type": "markdown",
      "metadata": {
        "id": "-GSoReEFvmpL",
        "colab_type": "text"
      },
      "source": [
        "##**List**\n",
        "###**A list is a collection which is ordered and changeable. In Python lists are written with square brackets.**"
      ]
    },
    {
      "cell_type": "code",
      "metadata": {
        "id": "S0hMs58SvzUm",
        "colab_type": "code",
        "colab": {}
      },
      "source": [
        "# creating a list\n",
        "thislist = [\"apple\", \"banana\", \"cherry\"]\n",
        "print(thislist)"
      ],
      "execution_count": null,
      "outputs": []
    },
    {
      "cell_type": "markdown",
      "metadata": {
        "id": "ACWdnFB3v88N",
        "colab_type": "text"
      },
      "source": [
        "##**Access Items**\n",
        "###**You access the list items by referring to the index number:**"
      ]
    },
    {
      "cell_type": "code",
      "metadata": {
        "id": "7YZgtsb2wHal",
        "colab_type": "code",
        "colab": {}
      },
      "source": [
        "# print second item on the list\n",
        "thislist = [\"apple\", \"banana\", \"cherry\"]\n",
        "print(thislist[1])"
      ],
      "execution_count": null,
      "outputs": []
    },
    {
      "cell_type": "markdown",
      "metadata": {
        "id": "kd7ZPRW5wQ8l",
        "colab_type": "text"
      },
      "source": [
        "##**Negative Indexing**\n",
        "\n",
        "###**Negative indexing means beginning from the end, -1 refers to the last item, -2 refers to the second last item etc.**"
      ]
    },
    {
      "cell_type": "code",
      "metadata": {
        "id": "xOT1PdPYwahW",
        "colab_type": "code",
        "colab": {}
      },
      "source": [
        "# print last item on the list\n",
        "thislist = [\"apple\", \"banana\", \"cherry\"]\n",
        "print(thislist[-1])"
      ],
      "execution_count": null,
      "outputs": []
    },
    {
      "cell_type": "markdown",
      "metadata": {
        "id": "0tZDTCK1wqxg",
        "colab_type": "text"
      },
      "source": [
        "##**Range of Indexes**\n",
        "\n",
        "###**You can specify a range of indexes by specifying where to start and where to end the range.**\n",
        "\n",
        "###**When specifying a range, the return value will be a new list with the specified items.**"
      ]
    },
    {
      "cell_type": "code",
      "metadata": {
        "id": "6qPWEordw_kl",
        "colab_type": "code",
        "colab": {
          "base_uri": "https://localhost:8080/",
          "height": 34
        },
        "outputId": "7cbf86c8-937a-4364-9a38-9bd1a50749db"
      },
      "source": [
        "#Return the third, fourth, and fifth item:\n",
        "thislist = [\"apple\", \"banana\", \"cherry\", \"orange\", \"kiwi\", \"melon\", \"mango\"]\n",
        "print(thislist[2:5])"
      ],
      "execution_count": null,
      "outputs": [
        {
          "output_type": "stream",
          "text": [
            "['cherry', 'orange', 'kiwi']\n"
          ],
          "name": "stdout"
        }
      ]
    },
    {
      "cell_type": "markdown",
      "metadata": {
        "id": "AdNzh9J6xT10",
        "colab_type": "text"
      },
      "source": [
        "\n",
        "\n",
        "##**Note: The search will start at index 2 (included) and end at index 5 (not included).**\n",
        "\n",
        "##**Remember that the first item has index 0.**\n"
      ]
    },
    {
      "cell_type": "markdown",
      "metadata": {
        "id": "kVF23N4FxkJh",
        "colab_type": "text"
      },
      "source": [
        "##**By leaving out the start value, the range will start at the first item:**"
      ]
    },
    {
      "cell_type": "code",
      "metadata": {
        "id": "j0Ajp-Fexm0_",
        "colab_type": "code",
        "colab": {}
      },
      "source": [
        "#This returns the items from the beginning to \"orange\":\n",
        "thislist = [\"apple\", \"banana\", \"cherry\", \"orange\", \"kiwi\", \"melon\", \"mango\"]\n",
        "print(thislist[:4])"
      ],
      "execution_count": null,
      "outputs": []
    },
    {
      "cell_type": "markdown",
      "metadata": {
        "id": "s1EfO_oUyQQq",
        "colab_type": "text"
      },
      "source": [
        "##**By leaving out the end value, the range will go on to the end of the list:**"
      ]
    },
    {
      "cell_type": "code",
      "metadata": {
        "id": "vwnWdUDryaIj",
        "colab_type": "code",
        "colab": {
          "base_uri": "https://localhost:8080/",
          "height": 34
        },
        "outputId": "e4fba8de-6218-435c-d70c-e9a3a8fa7aac"
      },
      "source": [
        "#This example returns the items from \"cherry\" and to the end:\n",
        "thislist = [\"apple\", \"banana\", \"cherry\", \"orange\", \"kiwi\", \"melon\", \"mango\"]\n",
        "print(thislist[2:])"
      ],
      "execution_count": null,
      "outputs": [
        {
          "output_type": "stream",
          "text": [
            "['cherry', 'orange', 'kiwi', 'melon', 'mango']\n"
          ],
          "name": "stdout"
        }
      ]
    },
    {
      "cell_type": "markdown",
      "metadata": {
        "id": "HWJlgx_fy5SQ",
        "colab_type": "text"
      },
      "source": [
        "##**Range of Negative Indexes**\n",
        "\n",
        "##**Specify negative indexes if you want to start the search from the end of the list:**"
      ]
    },
    {
      "cell_type": "code",
      "metadata": {
        "id": "u5Yn4ZhgzJ8c",
        "colab_type": "code",
        "colab": {
          "base_uri": "https://localhost:8080/",
          "height": 34
        },
        "outputId": "ce480487-de8f-459e-94a0-49b3111b6a63"
      },
      "source": [
        "#This returns the items from index -4 (included) to index -1 (excluded)\n",
        "thislist = [\"apple\", \"banana\", \"cherry\", \"orange\", \"kiwi\", \"melon\", \"mango\"]\n",
        "print(thislist[-4:-1])"
      ],
      "execution_count": null,
      "outputs": [
        {
          "output_type": "stream",
          "text": [
            "['orange', 'kiwi', 'melon']\n"
          ],
          "name": "stdout"
        }
      ]
    },
    {
      "cell_type": "markdown",
      "metadata": {
        "id": "BwpsbxSAzXx_",
        "colab_type": "text"
      },
      "source": [
        "##**Change Item Value**\n",
        "##**To change the value of a specific item, refer to the index number:**"
      ]
    },
    {
      "cell_type": "code",
      "metadata": {
        "id": "ZxqNX8y5zhZm",
        "colab_type": "code",
        "colab": {}
      },
      "source": [
        "#Change the second item:\n",
        "thislist = [\"apple\", \"banana\", \"cherry\"]\n",
        "thislist[1] = \"blackcurrant\"\n",
        "print(thislist)"
      ],
      "execution_count": null,
      "outputs": []
    },
    {
      "cell_type": "markdown",
      "metadata": {
        "id": "PlpL_THCzs1D",
        "colab_type": "text"
      },
      "source": [
        "##**Loop Through a List**\n",
        "\n",
        "###**You can loop through the list items by using a for loop:**"
      ]
    },
    {
      "cell_type": "code",
      "metadata": {
        "id": "JrDf5EKoz7nx",
        "colab_type": "code",
        "colab": {}
      },
      "source": [
        "#Print all items in the list, one by one:\n",
        "thislist = [\"apple\", \"banana\", \"cherry\"]\n",
        "for x in thislist:\n",
        "  print(x) "
      ],
      "execution_count": null,
      "outputs": []
    },
    {
      "cell_type": "markdown",
      "metadata": {
        "id": "qHomhtbz0H5j",
        "colab_type": "text"
      },
      "source": [
        "##**Check if Item Exists**\n",
        "\n",
        "###**To determine if a specified item is present in a list use the in keyword:**"
      ]
    },
    {
      "cell_type": "code",
      "metadata": {
        "id": "kyoUNWEa0Qgu",
        "colab_type": "code",
        "colab": {
          "base_uri": "https://localhost:8080/",
          "height": 34
        },
        "outputId": "09fe27bd-79ec-4a13-9a56-c901d512263f"
      },
      "source": [
        "#Check if \"apple\" is present in the list:\n",
        "thislist = [\"apple\", \"banana\", \"cherry\"]\n",
        "if \"apple\" in thislist:\n",
        "  print(\"Yes, 'apple' is in the fruits list\") "
      ],
      "execution_count": null,
      "outputs": [
        {
          "output_type": "stream",
          "text": [
            "Yes, 'apple' is in the fruits list\n"
          ],
          "name": "stdout"
        }
      ]
    },
    {
      "cell_type": "markdown",
      "metadata": {
        "id": "MEWwHnwx0aTl",
        "colab_type": "text"
      },
      "source": [
        "##**List Length**\n",
        "\n",
        "###**To determine how many items a list has, use the len() function:**\n"
      ]
    },
    {
      "cell_type": "code",
      "metadata": {
        "id": "TVGa4f5M0jtM",
        "colab_type": "code",
        "colab": {}
      },
      "source": [
        "#Print the number of items in the list:\n",
        "thislist = [\"apple\", \"banana\", \"cherry\"]\n",
        "print(len(thislist))"
      ],
      "execution_count": null,
      "outputs": []
    },
    {
      "cell_type": "markdown",
      "metadata": {
        "id": "gcHxgo3R0w8n",
        "colab_type": "text"
      },
      "source": [
        "##**Add Items**\n",
        "\n",
        "###**To add an item to the end of the list, use the append() method:**"
      ]
    },
    {
      "cell_type": "code",
      "metadata": {
        "id": "F4QZ0aMU0753",
        "colab_type": "code",
        "colab": {
          "base_uri": "https://localhost:8080/",
          "height": 34
        },
        "outputId": "b28da813-9c42-4f0d-dec4-ef0f0e7734fb"
      },
      "source": [
        "#Using the append() method to append an item:\n",
        "thislist = [\"apple\", \"banana\", \"cherry\"]\n",
        "thislist.append(\"orange\")\n",
        "print(thislist)"
      ],
      "execution_count": null,
      "outputs": [
        {
          "output_type": "stream",
          "text": [
            "['apple', 'banana', 'cherry', 'orange']\n"
          ],
          "name": "stdout"
        }
      ]
    },
    {
      "cell_type": "markdown",
      "metadata": {
        "id": "4CyepRAg1d6v",
        "colab_type": "text"
      },
      "source": [
        "##**To add an item at the specified index, use the insert() method:**"
      ]
    },
    {
      "cell_type": "code",
      "metadata": {
        "id": "bab2O6zZ1i8N",
        "colab_type": "code",
        "colab": {
          "base_uri": "https://localhost:8080/",
          "height": 34
        },
        "outputId": "40de94cd-8335-418a-a784-ebcd9c351c61"
      },
      "source": [
        "#Insert an item as the second position:\n",
        "thislist = [\"apple\", \"banana\", \"cherry\"]\n",
        "thislist.insert(1, \"orange\")\n",
        "print(thislist)"
      ],
      "execution_count": null,
      "outputs": [
        {
          "output_type": "stream",
          "text": [
            "['apple', 'orange', 'banana', 'cherry']\n"
          ],
          "name": "stdout"
        }
      ]
    },
    {
      "cell_type": "markdown",
      "metadata": {
        "id": "OnXxtLBF1waf",
        "colab_type": "text"
      },
      "source": [
        "##**Remove Item**\n",
        "\n",
        "###**There are several methods to remove items from a list:**"
      ]
    },
    {
      "cell_type": "code",
      "metadata": {
        "id": "zxgE2fB52DEe",
        "colab_type": "code",
        "colab": {
          "base_uri": "https://localhost:8080/",
          "height": 34
        },
        "outputId": "fdbf349b-4e47-4ad9-bdcd-b405cbedafcb"
      },
      "source": [
        "#The remove() method removes the specified item:\n",
        "thislist = [\"apple\", \"banana\", \"cherry\"]\n",
        "thislist.remove(\"banana\")\n",
        "print(thislist)"
      ],
      "execution_count": null,
      "outputs": [
        {
          "output_type": "stream",
          "text": [
            "['apple', 'cherry']\n"
          ],
          "name": "stdout"
        }
      ]
    },
    {
      "cell_type": "code",
      "metadata": {
        "id": "nnqatLlm2Ncg",
        "colab_type": "code",
        "colab": {
          "base_uri": "https://localhost:8080/",
          "height": 34
        },
        "outputId": "1e78c0cd-6309-45dd-fd0d-16fc76e73b16"
      },
      "source": [
        "#The pop() method removes the specified index, or the last item if index is not specified:\n",
        "thislist = [\"apple\", \"banana\", \"cherry\"]\n",
        "thislist.pop()\n",
        "print(thislist)"
      ],
      "execution_count": null,
      "outputs": [
        {
          "output_type": "stream",
          "text": [
            "['apple', 'banana']\n"
          ],
          "name": "stdout"
        }
      ]
    },
    {
      "cell_type": "code",
      "metadata": {
        "id": "a2S0qLk82bNc",
        "colab_type": "code",
        "colab": {}
      },
      "source": [
        "#The del keyword removes the specified index:\n",
        "thislist = [\"apple\", \"banana\", \"cherry\"]\n",
        "del thislist[0]\n",
        "print(thislist)"
      ],
      "execution_count": null,
      "outputs": []
    },
    {
      "cell_type": "code",
      "metadata": {
        "id": "EzboomMR2iIQ",
        "colab_type": "code",
        "colab": {}
      },
      "source": [
        "#The del keyword can also delete the list completely:\n",
        "thislist = [\"apple\", \"banana\", \"cherry\"]\n",
        "del thislist "
      ],
      "execution_count": null,
      "outputs": []
    },
    {
      "cell_type": "code",
      "metadata": {
        "id": "XbgXSNWO21Aq",
        "colab_type": "code",
        "colab": {}
      },
      "source": [
        "#The clear() method empties the list:\n",
        "thislist = [\"apple\", \"banana\", \"cherry\"]\n",
        "thislist.clear()\n",
        "print(thislist)"
      ],
      "execution_count": null,
      "outputs": []
    },
    {
      "cell_type": "markdown",
      "metadata": {
        "id": "QEtygY073FB9",
        "colab_type": "text"
      },
      "source": [
        "##**Copy a List**\n",
        "\n",
        "###**You cannot copy a list simply by typing list2 = list1, because: list2 will only be a reference to list1, and changes made in list1 will automatically also be made in list2.**"
      ]
    },
    {
      "cell_type": "code",
      "metadata": {
        "id": "RhxSX4lg3Rgx",
        "colab_type": "code",
        "colab": {
          "base_uri": "https://localhost:8080/",
          "height": 34
        },
        "outputId": "0b842abd-0876-4500-ab9a-66ebd6b524c5"
      },
      "source": [
        "#Make a copy of a list with the copy() method:\n",
        "thislist = [\"apple\", \"banana\", \"cherry\"]\n",
        "mylist = thislist.copy()\n",
        "print(mylist)"
      ],
      "execution_count": null,
      "outputs": [
        {
          "output_type": "stream",
          "text": [
            "['apple', 'banana', 'cherry']\n"
          ],
          "name": "stdout"
        }
      ]
    },
    {
      "cell_type": "code",
      "metadata": {
        "id": "mcXiafMn3clJ",
        "colab_type": "code",
        "colab": {}
      },
      "source": [
        "#Make a copy of a list with the list() method:\n",
        "thislist = [\"apple\", \"banana\", \"cherry\"]\n",
        "mylist = list(thislist)\n",
        "print(mylist)"
      ],
      "execution_count": null,
      "outputs": []
    },
    {
      "cell_type": "markdown",
      "metadata": {
        "id": "5DaD9Z2P3tzS",
        "colab_type": "text"
      },
      "source": [
        "##**Join Two List**\n",
        "\n",
        "###**There are several ways to join, or concatenate, two or more lists in Python.**\n",
        "\n",
        "###**One of the easiest ways are by using the + operator.**"
      ]
    },
    {
      "cell_type": "code",
      "metadata": {
        "id": "1oyQWFyO38P6",
        "colab_type": "code",
        "colab": {
          "base_uri": "https://localhost:8080/",
          "height": 34
        },
        "outputId": "5e5fbbbe-3550-48fb-99b1-144c2fe2b8f9"
      },
      "source": [
        "#Join two list:\n",
        "list1 = [\"a\", \"b\" , \"c\"]\n",
        "list2 = [1, 2, 3]\n",
        "\n",
        "list3 = list1 + list2\n",
        "print(list3) "
      ],
      "execution_count": null,
      "outputs": [
        {
          "output_type": "stream",
          "text": [
            "['a', 'b', 'c', 1, 2, 3]\n"
          ],
          "name": "stdout"
        }
      ]
    },
    {
      "cell_type": "code",
      "metadata": {
        "id": "W8LhBxQ14LHP",
        "colab_type": "code",
        "colab": {
          "base_uri": "https://localhost:8080/",
          "height": 34
        },
        "outputId": "99758925-2313-4b77-f243-2c77ff21450a"
      },
      "source": [
        "#Append list2 into list1:\n",
        "list1 = [\"a\", \"b\" , \"c\"]\n",
        "list2 = [1, 2, 3]\n",
        "\n",
        "for x in list2:\n",
        "  list1.append(x)\n",
        "\n",
        "print(list1) "
      ],
      "execution_count": null,
      "outputs": [
        {
          "output_type": "stream",
          "text": [
            "['a', 'b', 'c', 1, 2, 3]\n"
          ],
          "name": "stdout"
        }
      ]
    },
    {
      "cell_type": "code",
      "metadata": {
        "id": "wQmGq3NX4Yzx",
        "colab_type": "code",
        "colab": {}
      },
      "source": [
        "#Use the extend() method to add list2 at the end of list1:\n",
        "list1 = [\"a\", \"b\" , \"c\"]\n",
        "list2 = [1, 2, 3]\n",
        "\n",
        "list1.extend(list2)\n",
        "print(list1) "
      ],
      "execution_count": null,
      "outputs": []
    },
    {
      "cell_type": "markdown",
      "metadata": {
        "id": "gU1Bdb-44oNG",
        "colab_type": "text"
      },
      "source": [
        "##**The list() Constructor**\n",
        "\n",
        "###**It is also possible to use the list() constructor to make a new list.**\n"
      ]
    },
    {
      "cell_type": "code",
      "metadata": {
        "id": "aKFdc9-N4zC1",
        "colab_type": "code",
        "colab": {}
      },
      "source": [
        "#Using the list() constructor to make a List:\n",
        "thislist = list((\"apple\", \"banana\", \"cherry\")) # note the double round-brackets\n",
        "print(thislist)"
      ],
      "execution_count": null,
      "outputs": []
    },
    {
      "cell_type": "markdown",
      "metadata": {
        "id": "7hc6dC33IWBO",
        "colab_type": "text"
      },
      "source": [
        "##**l)Tuples**\n",
        "###**A tuple is a collection which is ordered and unchangeable. In Python tuples are written with round brackets.**"
      ]
    },
    {
      "cell_type": "code",
      "metadata": {
        "id": "L6Fu99OKI4Bh",
        "colab_type": "code",
        "colab": {}
      },
      "source": [
        "#Create a Tuple:\n",
        "thistuple = (\"apple\", \"banana\", \"cherry\")\n",
        "print(thistuple)"
      ],
      "execution_count": null,
      "outputs": []
    },
    {
      "cell_type": "markdown",
      "metadata": {
        "id": "oV630fA-I_FG",
        "colab_type": "text"
      },
      "source": [
        "##**Access Tuple Items**\n",
        "\n",
        "###**You can access tuple items by referring to the index number, inside square brackets:**\n"
      ]
    },
    {
      "cell_type": "code",
      "metadata": {
        "id": "ACmev9Z6JU33",
        "colab_type": "code",
        "colab": {}
      },
      "source": [
        "#Print the second item in the tuple:\n",
        "thistuple = (\"apple\", \"banana\", \"cherry\")\n",
        "print(thistuple[1])"
      ],
      "execution_count": null,
      "outputs": []
    },
    {
      "cell_type": "markdown",
      "metadata": {
        "id": "WUxErrs7JbXc",
        "colab_type": "text"
      },
      "source": [
        "##**Negative Indexing**\n",
        "\n",
        "###**Negative indexing means beginning from the end, -1 refers to the last item, -2 refers to the second last item etc.**"
      ]
    },
    {
      "cell_type": "code",
      "metadata": {
        "id": "BgxrHG6YJj3L",
        "colab_type": "code",
        "colab": {}
      },
      "source": [
        "#Print the last item of the tuple:\n",
        "thistuple = (\"apple\", \"banana\", \"cherry\")\n",
        "print(thistuple[-1])"
      ],
      "execution_count": null,
      "outputs": []
    },
    {
      "cell_type": "markdown",
      "metadata": {
        "id": "P6wWb210Jt7x",
        "colab_type": "text"
      },
      "source": [
        "##**Range of Indexes**\n",
        "\n",
        "###**You can specify a range of indexes by specifying where to start and where to end the range.**\n",
        "\n",
        "###**When specifying a range, the return value will be a new tuple with the specified items.**\n"
      ]
    },
    {
      "cell_type": "code",
      "metadata": {
        "id": "z308HxdcJ8-e",
        "colab_type": "code",
        "colab": {}
      },
      "source": [
        "#Return the third, fourth, and fifth item:\n",
        "thistuple = (\"apple\", \"banana\", \"cherry\", \"orange\", \"kiwi\", \"melon\", \"mango\")\n",
        "print(thistuple[2:5])"
      ],
      "execution_count": null,
      "outputs": []
    },
    {
      "cell_type": "markdown",
      "metadata": {
        "id": "DsS1GMGmKK7D",
        "colab_type": "text"
      },
      "source": [
        "###**Range of Negative Indexes**\n",
        "\n",
        "###**Specify negative indexes if you want to start the search from the end of the tuple:**"
      ]
    },
    {
      "cell_type": "code",
      "metadata": {
        "id": "8k4AM79ZKb0d",
        "colab_type": "code",
        "colab": {}
      },
      "source": [
        "#This example returns the items from index -4 (included) to index -1 (excluded)\n",
        "thistuple = (\"apple\", \"banana\", \"cherry\", \"orange\", \"kiwi\", \"melon\", \"mango\")\n",
        "print(thistuple[-4:-1])"
      ],
      "execution_count": null,
      "outputs": []
    },
    {
      "cell_type": "markdown",
      "metadata": {
        "id": "uSQ25TxcKmA8",
        "colab_type": "text"
      },
      "source": [
        "#**Change Tuple Values**\n",
        "\n",
        "###**Once a tuple is created, you cannot change its values. Tuples are unchangeable, or immutable as it also is called.**\n",
        "\n",
        "###**But there is a workaround. You can convert the tuple into a list, change the list, and convert the list back into a tuple.**\n"
      ]
    },
    {
      "cell_type": "code",
      "metadata": {
        "id": "cz2Vx1gYKzb5",
        "colab_type": "code",
        "colab": {}
      },
      "source": [
        "Convert the tuple into a list to be able to change it:\n",
        "x = (\"apple\", \"banana\", \"cherry\")\n",
        "y = list(x)\n",
        "y[1] = \"kiwi\"\n",
        "x = tuple(y)\n",
        "\n",
        "print(x) "
      ],
      "execution_count": null,
      "outputs": []
    },
    {
      "cell_type": "markdown",
      "metadata": {
        "id": "-c9vgt_AK6-f",
        "colab_type": "text"
      },
      "source": [
        "#**Loop Through a Tuple**\n",
        "\n",
        "###**You can loop through the tuple items by using a for loop.**\n"
      ]
    },
    {
      "cell_type": "code",
      "metadata": {
        "id": "n09I1TDrLD1C",
        "colab_type": "code",
        "colab": {}
      },
      "source": [
        "#Iterate through the items and print the values:\n",
        "thistuple = (\"apple\", \"banana\", \"cherry\")\n",
        "for x in thistuple:\n",
        "  print(x) "
      ],
      "execution_count": null,
      "outputs": []
    },
    {
      "cell_type": "markdown",
      "metadata": {
        "id": "i4khguN0MBV9",
        "colab_type": "text"
      },
      "source": [
        "#**Check if Item Exists**\n",
        "\n",
        "###**To determine if a specified item is present in a tuple use the in keyword:**\n"
      ]
    },
    {
      "cell_type": "code",
      "metadata": {
        "id": "S5Pdpm0JMKZ5",
        "colab_type": "code",
        "colab": {}
      },
      "source": [
        "#Check if \"apple\" is present in the tuple:\n",
        "thistuple = (\"apple\", \"banana\", \"cherry\")\n",
        "if \"apple\" in thistuple:\n",
        "  print(\"Yes, 'apple' is in the fruits tuple\") "
      ],
      "execution_count": null,
      "outputs": []
    },
    {
      "cell_type": "markdown",
      "metadata": {
        "id": "AisxoK27McrV",
        "colab_type": "text"
      },
      "source": [
        "#**Tuple Length**\n"
      ]
    },
    {
      "cell_type": "code",
      "metadata": {
        "id": "crlWYAy3M1hP",
        "colab_type": "code",
        "colab": {}
      },
      "source": [
        "#Print the number of items in the tuple:\n",
        "thistuple = (\"apple\", \"banana\", \"cherry\")\n",
        "print(len(thistuple)) "
      ],
      "execution_count": null,
      "outputs": []
    },
    {
      "cell_type": "markdown",
      "metadata": {
        "id": "sMFzJQoUM68s",
        "colab_type": "text"
      },
      "source": [
        "#**Add Items**\n",
        "\n",
        "##**Once a tuple is created, you cannot add items to it. Tuples are unchangeable.**\n"
      ]
    },
    {
      "cell_type": "markdown",
      "metadata": {
        "id": "_iSEDMR2NPok",
        "colab_type": "text"
      },
      "source": [
        "#**Create Tuple With One Item**\n",
        "\n",
        "##**To create a tuple with only one item, you have to add a comma after the item, otherwise Python will not recognize it as a tuple.**"
      ]
    },
    {
      "cell_type": "code",
      "metadata": {
        "id": "tyL2N0oRNjUr",
        "colab_type": "code",
        "colab": {}
      },
      "source": [
        "#One item tuple, remember the commma:\n",
        "thistuple = (\"apple\",)\n",
        "print(type(thistuple))\n",
        "\n",
        "#NOT a tuple\n",
        "thistuple = (\"apple\")\n",
        "print(type(thistuple)) "
      ],
      "execution_count": null,
      "outputs": []
    },
    {
      "cell_type": "markdown",
      "metadata": {
        "id": "SWVWos6wNuHQ",
        "colab_type": "text"
      },
      "source": [
        "#**Remove Items**\n",
        "\n",
        "###**Note: You cannot remove items in a tuple.**\n",
        "\n",
        "###**Tuples are unchangeable, so you cannot remove items from it, but you can delete the tuple completely:**\n"
      ]
    },
    {
      "cell_type": "code",
      "metadata": {
        "id": "f2u_gI3iN7ba",
        "colab_type": "code",
        "colab": {}
      },
      "source": [
        "#The del keyword can delete the tuple completely:\n",
        "thistuple = (\"apple\", \"banana\", \"cherry\")\n",
        "del thistuple\n",
        "print(thistuple) #this will raise an error because the tuple no longer exists "
      ],
      "execution_count": null,
      "outputs": []
    },
    {
      "cell_type": "markdown",
      "metadata": {
        "id": "exmF92aWOEWT",
        "colab_type": "text"
      },
      "source": [
        "#**Join Two Tuples**\n",
        "\n",
        "###**To join two or more tuples you can use the + operator:**\n"
      ]
    },
    {
      "cell_type": "code",
      "metadata": {
        "id": "K6YxAIZwOOtY",
        "colab_type": "code",
        "colab": {}
      },
      "source": [
        "#Join two tuples:\n",
        "tuple1 = (\"a\", \"b\" , \"c\")\n",
        "tuple2 = (1, 2, 3)\n",
        "\n",
        "tuple3 = tuple1 + tuple2\n",
        "print(tuple3) "
      ],
      "execution_count": null,
      "outputs": []
    },
    {
      "cell_type": "markdown",
      "metadata": {
        "id": "PSYEiBJ9OU9u",
        "colab_type": "text"
      },
      "source": [
        "#**The tuple() Constructor**\n",
        "\n",
        "###**It is also possible to use the tuple() constructor to make a tuple.**"
      ]
    },
    {
      "cell_type": "code",
      "metadata": {
        "id": "fUM27_VUOoLj",
        "colab_type": "code",
        "colab": {}
      },
      "source": [
        "#Using the tuple() method to make a tuple:\n",
        "thistuple = tuple((\"apple\", \"banana\", \"cherry\")) # note the double round-brackets\n",
        "print(thistuple)"
      ],
      "execution_count": null,
      "outputs": []
    },
    {
      "cell_type": "markdown",
      "metadata": {
        "id": "f0qUOry0OvVs",
        "colab_type": "text"
      },
      "source": [
        "#**Tuple Methods**\n",
        "\n",
        "###**Python has two built-in methods that you can use on tuples.**\n",
        "###**Method \tDescription**\n",
        "###**count()\tReturns the number of times a specified value occurs in a tuple**\n",
        "###**index()\tSearches the tuple for a specified value and returns the position of where it was found**"
      ]
    },
    {
      "cell_type": "markdown",
      "metadata": {
        "id": "LRrJj-7RPuE8",
        "colab_type": "text"
      },
      "source": [
        "#**m)Sets**\n",
        "##**Set**\n",
        "\n",
        "###**A set is a collection which is unordered and unindexed. In Python sets are written with curly brackets.**"
      ]
    },
    {
      "cell_type": "code",
      "metadata": {
        "id": "At5BTOHkQL02",
        "colab_type": "code",
        "colab": {}
      },
      "source": [
        "#Create a Set:\n",
        "thisset = {\"apple\", \"banana\", \"cherry\"}\n",
        "print(thisset) "
      ],
      "execution_count": null,
      "outputs": []
    },
    {
      "cell_type": "markdown",
      "metadata": {
        "id": "e4QFRgV1QevG",
        "colab_type": "text"
      },
      "source": [
        "#**Access Items**\n",
        "\n",
        "##**You cannot access items in a set by referring to an index, since sets are unordered the items has no index.**\n",
        "\n",
        "##**But you can loop through the set items using a for loop, or ask if a specified value is present in a set, by using the in keyword.**"
      ]
    },
    {
      "cell_type": "code",
      "metadata": {
        "id": "dLZYGVfnQrb8",
        "colab_type": "code",
        "colab": {}
      },
      "source": [
        "#Loop through the set, and print the values:\n",
        "thisset = {\"apple\", \"banana\", \"cherry\"}\n",
        "\n",
        "for x in thisset:\n",
        "  print(x) "
      ],
      "execution_count": null,
      "outputs": []
    },
    {
      "cell_type": "code",
      "metadata": {
        "id": "h5-3NyodQzAr",
        "colab_type": "code",
        "colab": {}
      },
      "source": [
        "#Check if \"banana\" is present in the set:\n",
        "thisset = {\"apple\", \"banana\", \"cherry\"}\n",
        "\n",
        "print(\"banana\" in thisset) "
      ],
      "execution_count": null,
      "outputs": []
    },
    {
      "cell_type": "markdown",
      "metadata": {
        "id": "rKZKYRyeQ8ND",
        "colab_type": "text"
      },
      "source": [
        "#**Change Items**\n",
        "\n",
        "###**Once a set is created, you cannot change its items, but you can add new items.**\n"
      ]
    },
    {
      "cell_type": "markdown",
      "metadata": {
        "id": "bbOaAeb5RvNQ",
        "colab_type": "text"
      },
      "source": [
        "#**Add Items**\n",
        "\n",
        "###**To add one item to a set use the add() method.**\n",
        "\n",
        "###**To add more than one item to a set use the update() method.**"
      ]
    },
    {
      "cell_type": "code",
      "metadata": {
        "id": "xqGO_1HYR9zd",
        "colab_type": "code",
        "colab": {}
      },
      "source": [
        "#Add an item to a set, using the add() method:\n",
        "thisset = {\"apple\", \"banana\", \"cherry\"}\n",
        "\n",
        "thisset.add(\"orange\")\n",
        "\n",
        "print(thisset) "
      ],
      "execution_count": null,
      "outputs": []
    },
    {
      "cell_type": "code",
      "metadata": {
        "id": "yUzb4ShZSOge",
        "colab_type": "code",
        "colab": {}
      },
      "source": [
        "#Add multiple items to a set, using the update() method:\n",
        "thisset = {\"apple\", \"banana\", \"cherry\"}\n",
        "\n",
        "thisset.update([\"orange\", \"mango\", \"grapes\"])\n",
        "\n",
        "print(thisset) "
      ],
      "execution_count": null,
      "outputs": []
    },
    {
      "cell_type": "markdown",
      "metadata": {
        "id": "fQP1LxsiSZjj",
        "colab_type": "text"
      },
      "source": [
        "##**Length of a Set**"
      ]
    },
    {
      "cell_type": "code",
      "metadata": {
        "id": "TbcSnwrZSWlB",
        "colab_type": "code",
        "colab": {}
      },
      "source": [
        "#Get the number of items in a set:\n",
        "thisset = {\"apple\", \"banana\", \"cherry\"}\n",
        "\n",
        "print(len(thisset)) "
      ],
      "execution_count": null,
      "outputs": []
    },
    {
      "cell_type": "markdown",
      "metadata": {
        "id": "xnmI7gBVSihs",
        "colab_type": "text"
      },
      "source": [
        "##**Remove Item**\n",
        "\n",
        "###**To remove an item in a set, use the remove(), or the discard() method.**"
      ]
    },
    {
      "cell_type": "code",
      "metadata": {
        "id": "FYUdL06lSpzz",
        "colab_type": "code",
        "colab": {}
      },
      "source": [
        "#Remove \"banana\" by using the remove() method:\n",
        "thisset = {\"apple\", \"banana\", \"cherry\"}\n",
        "\n",
        "thisset.remove(\"banana\")\n",
        "\n",
        "print(thisset) "
      ],
      "execution_count": null,
      "outputs": []
    },
    {
      "cell_type": "markdown",
      "metadata": {
        "id": "1hiDNQtFSx3E",
        "colab_type": "text"
      },
      "source": [
        "###**Note: If the item to remove does not exist, remove() will raise an error.**"
      ]
    },
    {
      "cell_type": "code",
      "metadata": {
        "id": "FpuUs91JS7Ss",
        "colab_type": "code",
        "colab": {}
      },
      "source": [
        "#Remove \"banana\" by using the discard() method:\n",
        "thisset = {\"apple\", \"banana\", \"cherry\"}\n",
        "\n",
        "thisset.discard(\"banana\")\n",
        "\n",
        "print(thisset) "
      ],
      "execution_count": null,
      "outputs": []
    },
    {
      "cell_type": "code",
      "metadata": {
        "id": "UcGZTRTZTpPY",
        "colab_type": "code",
        "colab": {}
      },
      "source": [
        "#Remove the last item by using the pop() method:\n",
        "thisset = {\"apple\", \"banana\", \"cherry\"}\n",
        "\n",
        "x = thisset.pop()\n",
        "\n",
        "print(x)\n",
        "\n",
        "print(thisset) \n",
        "## Sets are unordered, so when using the pop() method, you will not know which item that gets removed."
      ],
      "execution_count": null,
      "outputs": []
    },
    {
      "cell_type": "code",
      "metadata": {
        "id": "kqyGGeGGUF1Y",
        "colab_type": "code",
        "colab": {}
      },
      "source": [
        "The clear() method empties the set:\n",
        "thisset = {\"apple\", \"banana\", \"cherry\"}\n",
        "\n",
        "thisset.clear()\n",
        "\n",
        "print(thisset) "
      ],
      "execution_count": null,
      "outputs": []
    },
    {
      "cell_type": "code",
      "metadata": {
        "id": "uWuXsAXxUMos",
        "colab_type": "code",
        "colab": {}
      },
      "source": [
        "#The del keyword will delete the set completely:\n",
        "thisset = {\"apple\", \"banana\", \"cherry\"}\n",
        "\n",
        "del thisset\n",
        "\n",
        "print(thisset) "
      ],
      "execution_count": null,
      "outputs": []
    },
    {
      "cell_type": "markdown",
      "metadata": {
        "id": "IQif553pVTL-",
        "colab_type": "text"
      },
      "source": [
        "#**Join Two Sets**\n",
        "\n",
        "###**There are several ways to join two or more sets in Python.**\n",
        "\n",
        "###**You can use the union() method that returns a new set containing all items from both sets, or the update() method that inserts all the items from one set into another:**"
      ]
    },
    {
      "cell_type": "code",
      "metadata": {
        "id": "8HAZQ5qgVjY1",
        "colab_type": "code",
        "colab": {}
      },
      "source": [
        "#The union() method returns a new set with all items from both sets:\n",
        "set1 = {\"a\", \"b\" , \"c\"}\n",
        "set2 = {1, 2, 3}\n",
        "\n",
        "set3 = set1.union(set2)\n",
        "print(set3) "
      ],
      "execution_count": null,
      "outputs": []
    },
    {
      "cell_type": "code",
      "metadata": {
        "id": "oYTTVL_9Vo0c",
        "colab_type": "code",
        "colab": {}
      },
      "source": [
        "#The update() method inserts the items in set2 into set1:\n",
        "set1 = {\"a\", \"b\" , \"c\"}\n",
        "set2 = {1, 2, 3}\n",
        "\n",
        "set1.update(set2)\n",
        "print(set1) "
      ],
      "execution_count": null,
      "outputs": []
    },
    {
      "cell_type": "markdown",
      "metadata": {
        "id": "eZIWwU7uV6h0",
        "colab_type": "text"
      },
      "source": [
        "##**Note: Both union() and update() will exclude any duplicate items.**"
      ]
    },
    {
      "cell_type": "markdown",
      "metadata": {
        "id": "JpztDZGCWNcY",
        "colab_type": "text"
      },
      "source": [
        "#**The set() Constructor**\n",
        "\n",
        "##**It is also possible to use the set() constructor to make a set.**"
      ]
    },
    {
      "cell_type": "code",
      "metadata": {
        "id": "HEWMc6JWWWvi",
        "colab_type": "code",
        "colab": {}
      },
      "source": [
        "#Using the set() constructor to make a set:\n",
        "thisset = set((\"apple\", \"banana\", \"cherry\")) # note the double round-brackets\n",
        "print(thisset) "
      ],
      "execution_count": null,
      "outputs": []
    }
  ]
}