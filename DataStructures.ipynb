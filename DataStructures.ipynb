{
  "nbformat": 4,
  "nbformat_minor": 0,
  "metadata": {
    "colab": {
      "name": "DataStructures.ipynb",
      "provenance": [],
      "collapsed_sections": [],
      "authorship_tag": "ABX9TyPrk/IjNvuog87z2ixAWPcJ",
      "include_colab_link": true
    },
    "kernelspec": {
      "name": "python3",
      "display_name": "Python 3"
    }
  },
  "cells": [
    {
      "cell_type": "markdown",
      "metadata": {
        "id": "view-in-github",
        "colab_type": "text"
      },
      "source": [
        "<a href=\"https://colab.research.google.com/github/DataScienceEastAfrica/introductionToPythonCourse/blob/master/DataStructures.ipynb\" target=\"_parent\"><img src=\"https://colab.research.google.com/assets/colab-badge.svg\" alt=\"Open In Colab\"/></a>"
      ]
    },
    {
      "cell_type": "markdown",
      "metadata": {
        "id": "Tq8U8zxAuYFU",
        "colab_type": "text"
      },
      "source": [
        "#**Data Structures**\n",
        "#**Lists**\n",
        "\n",
        "##**Python Collections (Arrays)**\n",
        "\n",
        "**There are four collection data types in the Python programming language:**\n",
        "\n",
        "**1. List is a collection which is ordered and changeable. Allows duplicate members.**\n",
        "\n",
        "**2. Tuple is a collection which is ordered and unchangeable. Allows duplicate members.**\n",
        "\n",
        "**3. Set is a collection which is unordered and unindexed. No duplicate members.**\n",
        "\n",
        "**4. Dictionary is a collection which is unordered, changeable and indexed. No duplicate members.**\n",
        "\n",
        "###**When choosing a collection type, it is useful to understand the properties of that type. Choosing the right type for a particular data set could mean retention of meaning, and, it could mean an increase in efficiency or security.**\n"
      ]
    },
    {
      "cell_type": "markdown",
      "metadata": {
        "id": "-GSoReEFvmpL",
        "colab_type": "text"
      },
      "source": [
        "##**List**\n",
        "###**A list is a collection which is ordered and changeable. In Python lists are written with square brackets.**"
      ]
    },
    {
      "cell_type": "code",
      "metadata": {
        "id": "S0hMs58SvzUm",
        "colab_type": "code",
        "colab": {}
      },
      "source": [
        "# creating a list\n",
        "thislist = [\"apple\", \"banana\", \"cherry\"]\n",
        "print(thislist)"
      ],
      "execution_count": null,
      "outputs": []
    },
    {
      "cell_type": "markdown",
      "metadata": {
        "id": "ACWdnFB3v88N",
        "colab_type": "text"
      },
      "source": [
        "##**Access Items**\n",
        "###**You access the list items by referring to the index number:**"
      ]
    },
    {
      "cell_type": "code",
      "metadata": {
        "id": "7YZgtsb2wHal",
        "colab_type": "code",
        "colab": {}
      },
      "source": [
        "# print second item on the list\n",
        "thislist = [\"apple\", \"banana\", \"cherry\"]\n",
        "print(thislist[1])"
      ],
      "execution_count": null,
      "outputs": []
    },
    {
      "cell_type": "markdown",
      "metadata": {
        "id": "kd7ZPRW5wQ8l",
        "colab_type": "text"
      },
      "source": [
        "##**Negative Indexing**\n",
        "\n",
        "###**Negative indexing means beginning from the end, -1 refers to the last item, -2 refers to the second last item etc.**"
      ]
    },
    {
      "cell_type": "code",
      "metadata": {
        "id": "xOT1PdPYwahW",
        "colab_type": "code",
        "colab": {}
      },
      "source": [
        "# print last item on the list\n",
        "thislist = [\"apple\", \"banana\", \"cherry\"]\n",
        "print(thislist[-1])"
      ],
      "execution_count": null,
      "outputs": []
    },
    {
      "cell_type": "markdown",
      "metadata": {
        "id": "0tZDTCK1wqxg",
        "colab_type": "text"
      },
      "source": [
        "##**Range of Indexes**\n",
        "\n",
        "###**You can specify a range of indexes by specifying where to start and where to end the range.**\n",
        "\n",
        "###**When specifying a range, the return value will be a new list with the specified items.**"
      ]
    },
    {
      "cell_type": "code",
      "metadata": {
        "id": "6qPWEordw_kl",
        "colab_type": "code",
        "colab": {
          "base_uri": "https://localhost:8080/",
          "height": 34
        },
        "outputId": "7cbf86c8-937a-4364-9a38-9bd1a50749db"
      },
      "source": [
        "#Return the third, fourth, and fifth item:\n",
        "thislist = [\"apple\", \"banana\", \"cherry\", \"orange\", \"kiwi\", \"melon\", \"mango\"]\n",
        "print(thislist[2:5])"
      ],
      "execution_count": 1,
      "outputs": [
        {
          "output_type": "stream",
          "text": [
            "['cherry', 'orange', 'kiwi']\n"
          ],
          "name": "stdout"
        }
      ]
    },
    {
      "cell_type": "markdown",
      "metadata": {
        "id": "AdNzh9J6xT10",
        "colab_type": "text"
      },
      "source": [
        "\n",
        "\n",
        "##**Note: The search will start at index 2 (included) and end at index 5 (not included).**\n",
        "\n",
        "##**Remember that the first item has index 0.**\n"
      ]
    },
    {
      "cell_type": "markdown",
      "metadata": {
        "id": "kVF23N4FxkJh",
        "colab_type": "text"
      },
      "source": [
        "##**By leaving out the start value, the range will start at the first item:**"
      ]
    },
    {
      "cell_type": "code",
      "metadata": {
        "id": "j0Ajp-Fexm0_",
        "colab_type": "code",
        "colab": {}
      },
      "source": [
        "#This returns the items from the beginning to \"orange\":\n",
        "thislist = [\"apple\", \"banana\", \"cherry\", \"orange\", \"kiwi\", \"melon\", \"mango\"]\n",
        "print(thislist[:4])"
      ],
      "execution_count": null,
      "outputs": []
    },
    {
      "cell_type": "markdown",
      "metadata": {
        "id": "s1EfO_oUyQQq",
        "colab_type": "text"
      },
      "source": [
        "##**By leaving out the end value, the range will go on to the end of the list:**"
      ]
    },
    {
      "cell_type": "code",
      "metadata": {
        "id": "vwnWdUDryaIj",
        "colab_type": "code",
        "colab": {
          "base_uri": "https://localhost:8080/",
          "height": 34
        },
        "outputId": "e4fba8de-6218-435c-d70c-e9a3a8fa7aac"
      },
      "source": [
        "#This example returns the items from \"cherry\" and to the end:\n",
        "thislist = [\"apple\", \"banana\", \"cherry\", \"orange\", \"kiwi\", \"melon\", \"mango\"]\n",
        "print(thislist[2:])"
      ],
      "execution_count": 2,
      "outputs": [
        {
          "output_type": "stream",
          "text": [
            "['cherry', 'orange', 'kiwi', 'melon', 'mango']\n"
          ],
          "name": "stdout"
        }
      ]
    },
    {
      "cell_type": "markdown",
      "metadata": {
        "id": "HWJlgx_fy5SQ",
        "colab_type": "text"
      },
      "source": [
        "##**Range of Negative Indexes**\n",
        "\n",
        "##**Specify negative indexes if you want to start the search from the end of the list:**"
      ]
    },
    {
      "cell_type": "code",
      "metadata": {
        "id": "u5Yn4ZhgzJ8c",
        "colab_type": "code",
        "colab": {
          "base_uri": "https://localhost:8080/",
          "height": 34
        },
        "outputId": "ce480487-de8f-459e-94a0-49b3111b6a63"
      },
      "source": [
        "#This returns the items from index -4 (included) to index -1 (excluded)\n",
        "thislist = [\"apple\", \"banana\", \"cherry\", \"orange\", \"kiwi\", \"melon\", \"mango\"]\n",
        "print(thislist[-4:-1])"
      ],
      "execution_count": 3,
      "outputs": [
        {
          "output_type": "stream",
          "text": [
            "['orange', 'kiwi', 'melon']\n"
          ],
          "name": "stdout"
        }
      ]
    },
    {
      "cell_type": "markdown",
      "metadata": {
        "id": "BwpsbxSAzXx_",
        "colab_type": "text"
      },
      "source": [
        "##**Change Item Value**\n",
        "##**To change the value of a specific item, refer to the index number:**"
      ]
    },
    {
      "cell_type": "code",
      "metadata": {
        "id": "ZxqNX8y5zhZm",
        "colab_type": "code",
        "colab": {}
      },
      "source": [
        "#Change the second item:\n",
        "thislist = [\"apple\", \"banana\", \"cherry\"]\n",
        "thislist[1] = \"blackcurrant\"\n",
        "print(thislist)"
      ],
      "execution_count": null,
      "outputs": []
    },
    {
      "cell_type": "markdown",
      "metadata": {
        "id": "PlpL_THCzs1D",
        "colab_type": "text"
      },
      "source": [
        "##**Loop Through a List**\n",
        "\n",
        "###**You can loop through the list items by using a for loop:**"
      ]
    },
    {
      "cell_type": "code",
      "metadata": {
        "id": "JrDf5EKoz7nx",
        "colab_type": "code",
        "colab": {}
      },
      "source": [
        "#Print all items in the list, one by one:\n",
        "thislist = [\"apple\", \"banana\", \"cherry\"]\n",
        "for x in thislist:\n",
        "  print(x) "
      ],
      "execution_count": null,
      "outputs": []
    },
    {
      "cell_type": "markdown",
      "metadata": {
        "id": "qHomhtbz0H5j",
        "colab_type": "text"
      },
      "source": [
        "##**Check if Item Exists**\n",
        "\n",
        "###**To determine if a specified item is present in a list use the in keyword:**"
      ]
    },
    {
      "cell_type": "code",
      "metadata": {
        "id": "kyoUNWEa0Qgu",
        "colab_type": "code",
        "colab": {
          "base_uri": "https://localhost:8080/",
          "height": 34
        },
        "outputId": "09fe27bd-79ec-4a13-9a56-c901d512263f"
      },
      "source": [
        "#Check if \"apple\" is present in the list:\n",
        "thislist = [\"apple\", \"banana\", \"cherry\"]\n",
        "if \"apple\" in thislist:\n",
        "  print(\"Yes, 'apple' is in the fruits list\") "
      ],
      "execution_count": 4,
      "outputs": [
        {
          "output_type": "stream",
          "text": [
            "Yes, 'apple' is in the fruits list\n"
          ],
          "name": "stdout"
        }
      ]
    },
    {
      "cell_type": "markdown",
      "metadata": {
        "id": "MEWwHnwx0aTl",
        "colab_type": "text"
      },
      "source": [
        "##**List Length**\n",
        "\n",
        "###**To determine how many items a list has, use the len() function:**\n"
      ]
    },
    {
      "cell_type": "code",
      "metadata": {
        "id": "TVGa4f5M0jtM",
        "colab_type": "code",
        "colab": {}
      },
      "source": [
        "#Print the number of items in the list:\n",
        "thislist = [\"apple\", \"banana\", \"cherry\"]\n",
        "print(len(thislist))"
      ],
      "execution_count": null,
      "outputs": []
    },
    {
      "cell_type": "markdown",
      "metadata": {
        "id": "gcHxgo3R0w8n",
        "colab_type": "text"
      },
      "source": [
        "##**Add Items**\n",
        "\n",
        "###**To add an item to the end of the list, use the append() method:**"
      ]
    },
    {
      "cell_type": "code",
      "metadata": {
        "id": "F4QZ0aMU0753",
        "colab_type": "code",
        "colab": {
          "base_uri": "https://localhost:8080/",
          "height": 34
        },
        "outputId": "b28da813-9c42-4f0d-dec4-ef0f0e7734fb"
      },
      "source": [
        "#Using the append() method to append an item:\n",
        "thislist = [\"apple\", \"banana\", \"cherry\"]\n",
        "thislist.append(\"orange\")\n",
        "print(thislist)"
      ],
      "execution_count": 5,
      "outputs": [
        {
          "output_type": "stream",
          "text": [
            "['apple', 'banana', 'cherry', 'orange']\n"
          ],
          "name": "stdout"
        }
      ]
    },
    {
      "cell_type": "markdown",
      "metadata": {
        "id": "4CyepRAg1d6v",
        "colab_type": "text"
      },
      "source": [
        "##**To add an item at the specified index, use the insert() method:**"
      ]
    },
    {
      "cell_type": "code",
      "metadata": {
        "id": "bab2O6zZ1i8N",
        "colab_type": "code",
        "colab": {
          "base_uri": "https://localhost:8080/",
          "height": 34
        },
        "outputId": "40de94cd-8335-418a-a784-ebcd9c351c61"
      },
      "source": [
        "#Insert an item as the second position:\n",
        "thislist = [\"apple\", \"banana\", \"cherry\"]\n",
        "thislist.insert(1, \"orange\")\n",
        "print(thislist)"
      ],
      "execution_count": 6,
      "outputs": [
        {
          "output_type": "stream",
          "text": [
            "['apple', 'orange', 'banana', 'cherry']\n"
          ],
          "name": "stdout"
        }
      ]
    },
    {
      "cell_type": "markdown",
      "metadata": {
        "id": "OnXxtLBF1waf",
        "colab_type": "text"
      },
      "source": [
        "##**Remove Item**\n",
        "\n",
        "###**There are several methods to remove items from a list:**"
      ]
    },
    {
      "cell_type": "code",
      "metadata": {
        "id": "zxgE2fB52DEe",
        "colab_type": "code",
        "colab": {
          "base_uri": "https://localhost:8080/",
          "height": 34
        },
        "outputId": "fdbf349b-4e47-4ad9-bdcd-b405cbedafcb"
      },
      "source": [
        "#The remove() method removes the specified item:\n",
        "thislist = [\"apple\", \"banana\", \"cherry\"]\n",
        "thislist.remove(\"banana\")\n",
        "print(thislist)"
      ],
      "execution_count": 7,
      "outputs": [
        {
          "output_type": "stream",
          "text": [
            "['apple', 'cherry']\n"
          ],
          "name": "stdout"
        }
      ]
    },
    {
      "cell_type": "code",
      "metadata": {
        "id": "nnqatLlm2Ncg",
        "colab_type": "code",
        "colab": {
          "base_uri": "https://localhost:8080/",
          "height": 34
        },
        "outputId": "1e78c0cd-6309-45dd-fd0d-16fc76e73b16"
      },
      "source": [
        "#The pop() method removes the specified index, or the last item if index is not specified:\n",
        "thislist = [\"apple\", \"banana\", \"cherry\"]\n",
        "thislist.pop()\n",
        "print(thislist)"
      ],
      "execution_count": 8,
      "outputs": [
        {
          "output_type": "stream",
          "text": [
            "['apple', 'banana']\n"
          ],
          "name": "stdout"
        }
      ]
    },
    {
      "cell_type": "code",
      "metadata": {
        "id": "a2S0qLk82bNc",
        "colab_type": "code",
        "colab": {}
      },
      "source": [
        "#The del keyword removes the specified index:\n",
        "thislist = [\"apple\", \"banana\", \"cherry\"]\n",
        "del thislist[0]\n",
        "print(thislist)"
      ],
      "execution_count": null,
      "outputs": []
    },
    {
      "cell_type": "code",
      "metadata": {
        "id": "EzboomMR2iIQ",
        "colab_type": "code",
        "colab": {}
      },
      "source": [
        "#The del keyword can also delete the list completely:\n",
        "thislist = [\"apple\", \"banana\", \"cherry\"]\n",
        "del thislist "
      ],
      "execution_count": null,
      "outputs": []
    },
    {
      "cell_type": "code",
      "metadata": {
        "id": "XbgXSNWO21Aq",
        "colab_type": "code",
        "colab": {}
      },
      "source": [
        "#The clear() method empties the list:\n",
        "thislist = [\"apple\", \"banana\", \"cherry\"]\n",
        "thislist.clear()\n",
        "print(thislist)"
      ],
      "execution_count": null,
      "outputs": []
    },
    {
      "cell_type": "markdown",
      "metadata": {
        "id": "QEtygY073FB9",
        "colab_type": "text"
      },
      "source": [
        "##**Copy a List**\n",
        "\n",
        "###**You cannot copy a list simply by typing list2 = list1, because: list2 will only be a reference to list1, and changes made in list1 will automatically also be made in list2.**"
      ]
    },
    {
      "cell_type": "code",
      "metadata": {
        "id": "RhxSX4lg3Rgx",
        "colab_type": "code",
        "colab": {
          "base_uri": "https://localhost:8080/",
          "height": 34
        },
        "outputId": "0b842abd-0876-4500-ab9a-66ebd6b524c5"
      },
      "source": [
        "#Make a copy of a list with the copy() method:\n",
        "thislist = [\"apple\", \"banana\", \"cherry\"]\n",
        "mylist = thislist.copy()\n",
        "print(mylist)"
      ],
      "execution_count": 9,
      "outputs": [
        {
          "output_type": "stream",
          "text": [
            "['apple', 'banana', 'cherry']\n"
          ],
          "name": "stdout"
        }
      ]
    },
    {
      "cell_type": "code",
      "metadata": {
        "id": "mcXiafMn3clJ",
        "colab_type": "code",
        "colab": {}
      },
      "source": [
        "#Make a copy of a list with the list() method:\n",
        "thislist = [\"apple\", \"banana\", \"cherry\"]\n",
        "mylist = list(thislist)\n",
        "print(mylist)"
      ],
      "execution_count": null,
      "outputs": []
    },
    {
      "cell_type": "markdown",
      "metadata": {
        "id": "5DaD9Z2P3tzS",
        "colab_type": "text"
      },
      "source": [
        "##**Join Two List**\n",
        "\n",
        "###**There are several ways to join, or concatenate, two or more lists in Python.**\n",
        "\n",
        "###**One of the easiest ways are by using the + operator.**"
      ]
    },
    {
      "cell_type": "code",
      "metadata": {
        "id": "1oyQWFyO38P6",
        "colab_type": "code",
        "colab": {
          "base_uri": "https://localhost:8080/",
          "height": 34
        },
        "outputId": "5e5fbbbe-3550-48fb-99b1-144c2fe2b8f9"
      },
      "source": [
        "#Join two list:\n",
        "list1 = [\"a\", \"b\" , \"c\"]\n",
        "list2 = [1, 2, 3]\n",
        "\n",
        "list3 = list1 + list2\n",
        "print(list3) "
      ],
      "execution_count": 10,
      "outputs": [
        {
          "output_type": "stream",
          "text": [
            "['a', 'b', 'c', 1, 2, 3]\n"
          ],
          "name": "stdout"
        }
      ]
    },
    {
      "cell_type": "code",
      "metadata": {
        "id": "W8LhBxQ14LHP",
        "colab_type": "code",
        "colab": {
          "base_uri": "https://localhost:8080/",
          "height": 34
        },
        "outputId": "99758925-2313-4b77-f243-2c77ff21450a"
      },
      "source": [
        "#Append list2 into list1:\n",
        "list1 = [\"a\", \"b\" , \"c\"]\n",
        "list2 = [1, 2, 3]\n",
        "\n",
        "for x in list2:\n",
        "  list1.append(x)\n",
        "\n",
        "print(list1) "
      ],
      "execution_count": 11,
      "outputs": [
        {
          "output_type": "stream",
          "text": [
            "['a', 'b', 'c', 1, 2, 3]\n"
          ],
          "name": "stdout"
        }
      ]
    },
    {
      "cell_type": "code",
      "metadata": {
        "id": "wQmGq3NX4Yzx",
        "colab_type": "code",
        "colab": {}
      },
      "source": [
        "#Use the extend() method to add list2 at the end of list1:\n",
        "list1 = [\"a\", \"b\" , \"c\"]\n",
        "list2 = [1, 2, 3]\n",
        "\n",
        "list1.extend(list2)\n",
        "print(list1) "
      ],
      "execution_count": null,
      "outputs": []
    },
    {
      "cell_type": "markdown",
      "metadata": {
        "id": "gU1Bdb-44oNG",
        "colab_type": "text"
      },
      "source": [
        "##**The list() Constructor**\n",
        "\n",
        "###**It is also possible to use the list() constructor to make a new list.**\n"
      ]
    },
    {
      "cell_type": "code",
      "metadata": {
        "id": "aKFdc9-N4zC1",
        "colab_type": "code",
        "colab": {}
      },
      "source": [
        "#Using the list() constructor to make a List:\n",
        "thislist = list((\"apple\", \"banana\", \"cherry\")) # note the double round-brackets\n",
        "print(thislist)"
      ],
      "execution_count": null,
      "outputs": []
    }
  ]
}